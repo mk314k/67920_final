{
 "cells": [
  {
   "cell_type": "code",
   "execution_count": 9,
   "metadata": {},
   "outputs": [],
   "source": [
    "import os\n",
    "os.environ['SUMO_HOME'] = \"../.venv/lib/python3.9/site-packages/sumo\""
   ]
  },
  {
   "cell_type": "code",
   "execution_count": 10,
   "metadata": {},
   "outputs": [],
   "source": [
    "from sumo_rl import SumoEnvironment"
   ]
  },
  {
   "cell_type": "code",
   "execution_count": 11,
   "metadata": {},
   "outputs": [
    {
     "name": "stdout",
     "output_type": "stream",
     "text": [
      " Retrying in 1 seconds\n",
      "Step #0.00 (0ms ?*RT. ?UPS, TraCI: 30ms, vehicles TOT 0 ACT 0 BUF 0)                     \n"
     ]
    }
   ],
   "source": [
    "sumo_env = SumoEnvironment(\n",
    "    net_file='./nets/2x2grid/2x2.net.xml', \n",
    "    route_file='./nets/2x2grid/2x2.rou.xml', \n",
    "    out_csv_name='./out.csv', \n",
    "    # use_gui=True,\n",
    "    num_seconds=1000\n",
    ")"
   ]
  },
  {
   "cell_type": "code",
   "execution_count": 12,
   "metadata": {},
   "outputs": [
    {
     "name": "stdout",
     "output_type": "stream",
     "text": [
      " Retrying in 1 seconds\n"
     ]
    },
    {
     "data": {
      "text/plain": [
       "{'1': array([1., 0., 0., 0., 0., 0., 0., 0., 0., 0., 0., 0., 0., 0., 0., 0., 0.,\n",
       "        0., 0., 0., 0.], dtype=float32),\n",
       " '2': array([1., 0., 0., 0., 0., 0., 0., 0., 0., 0., 0., 0., 0., 0., 0., 0., 0.,\n",
       "        0., 0., 0., 0.], dtype=float32),\n",
       " '5': array([1., 0., 0., 0., 0., 0., 0., 0., 0., 0., 0., 0., 0., 0., 0., 0., 0.,\n",
       "        0., 0., 0., 0.], dtype=float32),\n",
       " '6': array([1., 0., 0., 0., 0., 0., 0., 0., 0., 0., 0., 0., 0., 0., 0., 0., 0.,\n",
       "        0., 0., 0., 0.], dtype=float32)}"
      ]
     },
     "execution_count": 12,
     "metadata": {},
     "output_type": "execute_result"
    }
   ],
   "source": [
    "sumo_env.reset()"
   ]
  },
  {
   "cell_type": "code",
   "execution_count": 13,
   "metadata": {},
   "outputs": [
    {
     "data": {
      "text/plain": [
       "{'1': <sumo_rl.environment.traffic_signal.TrafficSignal at 0x117ef86a0>,\n",
       " '2': <sumo_rl.environment.traffic_signal.TrafficSignal at 0x13445b4c0>,\n",
       " '5': <sumo_rl.environment.traffic_signal.TrafficSignal at 0x13445b610>,\n",
       " '6': <sumo_rl.environment.traffic_signal.TrafficSignal at 0x1345cd520>}"
      ]
     },
     "execution_count": 13,
     "metadata": {},
     "output_type": "execute_result"
    }
   ],
   "source": [
    "sumo_env.traffic_signals"
   ]
  },
  {
   "cell_type": "code",
   "execution_count": 14,
   "metadata": {},
   "outputs": [
    {
     "data": {
      "text/plain": [
       "['1', '2', '5', '6']"
      ]
     },
     "execution_count": 14,
     "metadata": {},
     "output_type": "execute_result"
    }
   ],
   "source": [
    "sumo_env.ts_ids"
   ]
  },
  {
   "cell_type": "code",
   "execution_count": 20,
   "metadata": {},
   "outputs": [
    {
     "data": {
      "text/plain": [
       "({'6': array([0.       , 0.       , 0.       , 1.       , 1.       , 0.1120239,\n",
       "         0.       , 0.       , 0.       , 0.       , 0.       , 0.       ,\n",
       "         0.       , 0.       , 0.       , 0.       , 0.       , 0.       ,\n",
       "         0.       , 0.       , 0.       ], dtype=float32)},\n",
       " {'6': 0.0},\n",
       " {'1': False, '2': False, '5': False, '6': False, '__all__': False},\n",
       " {'step': 30.0,\n",
       "  'system_total_stopped': 3,\n",
       "  'system_total_waiting_time': 22.0,\n",
       "  'system_mean_waiting_time': 2.2,\n",
       "  'system_mean_speed': 8.052171350566834,\n",
       "  '1_stopped': 2,\n",
       "  '1_accumulated_waiting_time': 17.0,\n",
       "  '1_average_speed': 0.5506619780274151,\n",
       "  '2_stopped': 0,\n",
       "  '2_accumulated_waiting_time': 0.0,\n",
       "  '2_average_speed': 0.9732216578696028,\n",
       "  '5_stopped': 1,\n",
       "  '5_accumulated_waiting_time': 5.0,\n",
       "  '5_average_speed': 0.46962154525830657,\n",
       "  '6_stopped': 0,\n",
       "  '6_accumulated_waiting_time': 0.0,\n",
       "  '6_average_speed': 0.5136893763384425,\n",
       "  'agents_total_stopped': 3,\n",
       "  'agents_total_accumulated_waiting_time': 22.0})"
      ]
     },
     "execution_count": 20,
     "metadata": {},
     "output_type": "execute_result"
    }
   ],
   "source": [
    "sumo_env.step({'6':4})"
   ]
  },
  {
   "cell_type": "code",
   "execution_count": 30,
   "metadata": {},
   "outputs": [
    {
     "data": {
      "text/plain": [
       "Discrete(4)"
      ]
     },
     "execution_count": 30,
     "metadata": {},
     "output_type": "execute_result"
    }
   ],
   "source": [
    "sumo_env.action_spaces('6')"
   ]
  },
  {
   "cell_type": "code",
   "execution_count": null,
   "metadata": {},
   "outputs": [],
   "source": []
  }
 ],
 "metadata": {
  "kernelspec": {
   "display_name": ".venv",
   "language": "python",
   "name": "python3"
  },
  "language_info": {
   "codemirror_mode": {
    "name": "ipython",
    "version": 3
   },
   "file_extension": ".py",
   "mimetype": "text/x-python",
   "name": "python",
   "nbconvert_exporter": "python",
   "pygments_lexer": "ipython3",
   "version": "3.9.6"
  }
 },
 "nbformat": 4,
 "nbformat_minor": 2
}
