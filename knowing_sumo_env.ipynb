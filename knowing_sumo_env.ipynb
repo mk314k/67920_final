{
 "cells": [
  {
   "cell_type": "code",
   "execution_count": 1,
   "metadata": {},
   "outputs": [],
   "source": [
    "import os\n",
    "os.environ['SUMO_HOME'] = \".venv/lib/python3.12/site-packages/sumo\""
   ]
  },
  {
   "cell_type": "code",
   "execution_count": 2,
   "metadata": {},
   "outputs": [],
   "source": [
    "from sumo_rl import SumoEnvironment"
   ]
  },
  {
   "cell_type": "code",
   "execution_count": 8,
   "metadata": {},
   "outputs": [
    {
     "name": "stdout",
     "output_type": "stream",
     "text": [
      "True\n",
      " Retrying in 1 seconds\n",
      "Step #0.00 (0ms ?*RT. ?UPS, TraCI: 7ms, vehicles TOT 0 ACT 0 BUF 0)                      \n"
     ]
    }
   ],
   "source": [
    "print (\"SUMO_HOME\" in os.environ)\n",
    "sumo_env = SumoEnvironment(\n",
    "    net_file='./nets/2x2grid/2x2.net.xml', \n",
    "    route_file='./nets/2x2grid/2x2.rou.xml', \n",
    "    out_csv_name='./out.csv', \n",
    "    use_gui=False,\n",
    "    num_seconds=1000\n",
    ")"
   ]
  },
  {
   "cell_type": "code",
   "execution_count": 9,
   "metadata": {},
   "outputs": [
    {
     "name": "stdout",
     "output_type": "stream",
     "text": [
      " Retrying in 1 seconds\n"
     ]
    },
    {
     "data": {
      "text/plain": [
       "{'1': array([1., 0., 0., 0., 0., 0., 0., 0., 0., 0., 0., 0., 0., 0., 0., 0., 0.,\n",
       "        0., 0., 0., 0.], dtype=float32),\n",
       " '2': array([1., 0., 0., 0., 0., 0., 0., 0., 0., 0., 0., 0., 0., 0., 0., 0., 0.,\n",
       "        0., 0., 0., 0.], dtype=float32),\n",
       " '5': array([1., 0., 0., 0., 0., 0., 0., 0., 0., 0., 0., 0., 0., 0., 0., 0., 0.,\n",
       "        0., 0., 0., 0.], dtype=float32),\n",
       " '6': array([1., 0., 0., 0., 0., 0., 0., 0., 0., 0., 0., 0., 0., 0., 0., 0., 0.,\n",
       "        0., 0., 0., 0.], dtype=float32)}"
      ]
     },
     "execution_count": 9,
     "metadata": {},
     "output_type": "execute_result"
    }
   ],
   "source": [
    "sumo_env.reset()"
   ]
  },
  {
   "cell_type": "code",
   "execution_count": 10,
   "metadata": {},
   "outputs": [
    {
     "data": {
      "text/plain": [
       "{'1': <sumo_rl.environment.traffic_signal.TrafficSignal at 0x11383b530>,\n",
       " '2': <sumo_rl.environment.traffic_signal.TrafficSignal at 0x11387f2c0>,\n",
       " '5': <sumo_rl.environment.traffic_signal.TrafficSignal at 0x113880500>,\n",
       " '6': <sumo_rl.environment.traffic_signal.TrafficSignal at 0x113880c50>}"
      ]
     },
     "execution_count": 10,
     "metadata": {},
     "output_type": "execute_result"
    }
   ],
   "source": [
    "sumo_env.traffic_signals"
   ]
  },
  {
   "cell_type": "code",
   "execution_count": 11,
   "metadata": {},
   "outputs": [
    {
     "data": {
      "text/plain": [
       "['1', '2', '5', '6']"
      ]
     },
     "execution_count": 11,
     "metadata": {},
     "output_type": "execute_result"
    }
   ],
   "source": [
    "sumo_env.ts_ids"
   ]
  },
  {
   "cell_type": "code",
   "execution_count": 12,
   "metadata": {},
   "outputs": [
    {
     "data": {
      "text/plain": [
       "({'6': array([1., 0., 0., 0., 0., 0., 0., 0., 0., 0., 0., 0., 0., 0., 0., 0., 0.,\n",
       "         0., 0., 0., 0.], dtype=float32)},\n",
       " {'6': 0.0},\n",
       " {'1': False, '2': False, '5': False, '6': False, '__all__': False},\n",
       " {'step': 5.0,\n",
       "  'system_total_stopped': 0,\n",
       "  'system_total_waiting_time': 0.0,\n",
       "  'system_mean_waiting_time': 0.0,\n",
       "  'system_mean_speed': 12.581587442482745,\n",
       "  '1_stopped': 0,\n",
       "  '1_accumulated_waiting_time': 0.0,\n",
       "  '1_average_speed': 0.981150713488006,\n",
       "  '2_stopped': 0,\n",
       "  '2_accumulated_waiting_time': 0.0,\n",
       "  '2_average_speed': 0.9587433874369875,\n",
       "  '5_stopped': 0,\n",
       "  '5_accumulated_waiting_time': 0.0,\n",
       "  '5_average_speed': 1.0,\n",
       "  '6_stopped': 0,\n",
       "  '6_accumulated_waiting_time': 0.0,\n",
       "  '6_average_speed': 1.0,\n",
       "  'agents_total_stopped': 0,\n",
       "  'agents_total_accumulated_waiting_time': 0.0})"
      ]
     },
     "execution_count": 12,
     "metadata": {},
     "output_type": "execute_result"
    }
   ],
   "source": [
    "sumo_env.step({'6':1})"
   ]
  },
  {
   "cell_type": "code",
   "execution_count": null,
   "metadata": {},
   "outputs": [],
   "source": []
  }
 ],
 "metadata": {
  "kernelspec": {
   "display_name": ".venv",
   "language": "python",
   "name": "python3"
  },
  "language_info": {
   "codemirror_mode": {
    "name": "ipython",
    "version": 3
   },
   "file_extension": ".py",
   "mimetype": "text/x-python",
   "name": "python",
   "nbconvert_exporter": "python",
   "pygments_lexer": "ipython3",
   "version": "3.9.6"
  }
 },
 "nbformat": 4,
 "nbformat_minor": 2
}
