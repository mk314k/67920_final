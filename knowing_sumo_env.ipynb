{
 "cells": [
  {
   "cell_type": "code",
   "execution_count": 92,
   "metadata": {},
   "outputs": [],
   "source": [
    "import os\n",
    "os.environ['SUMO_HOME'] = \"./.venv/lib/python3.12/site-packages/sumo\""
   ]
  },
  {
   "cell_type": "code",
   "execution_count": 93,
   "metadata": {},
   "outputs": [],
   "source": [
    "import torch\n",
    "from sumo_rl import SumoEnvironment\n",
    "from stable_baselines3.dqn.dqn import DQN"
   ]
  },
  {
   "cell_type": "code",
   "execution_count": 46,
   "metadata": {},
   "outputs": [
    {
     "name": "stdout",
     "output_type": "stream",
     "text": [
      " Retrying in 1 seconds\n"
     ]
    },
    {
     "name": "stderr",
     "output_type": "stream",
     "text": [
      "Warning: Environment variable SUMO_HOME is not set properly, disabling XML validation. Set 'auto' or 'always' for web lookups.\n"
     ]
    },
    {
     "name": "stdout",
     "output_type": "stream",
     "text": [
      "Step #0.00 (0ms ?*RT. ?UPS, TraCI: 11ms, vehicles TOT 0 ACT 0 BUF 0)                     \n"
     ]
    }
   ],
   "source": [
    "sumo_env = SumoEnvironment(\n",
    "    net_file='./nets/2x2grid/2x2.net.xml', \n",
    "    route_file='./nets/2x2grid/2x2o1.rou.xml', \n",
    "    out_csv_name='./out.csv', \n",
    "    single_agent = True,\n",
    "    use_gui=False,\n",
    "    num_seconds=1000\n",
    ")"
   ]
  },
  {
   "cell_type": "code",
   "execution_count": 47,
   "metadata": {},
   "outputs": [
    {
     "name": "stdout",
     "output_type": "stream",
     "text": [
      " Retrying in 1 seconds\n"
     ]
    },
    {
     "name": "stderr",
     "output_type": "stream",
     "text": [
      "Warning: Environment variable SUMO_HOME is not set properly, disabling XML validation. Set 'auto' or 'always' for web lookups.\n"
     ]
    },
    {
     "data": {
      "text/plain": [
       "(array([1., 0., 0., 0., 0., 0., 0., 0., 0., 0., 0., 0., 0., 0., 0., 0., 0.,\n",
       "        0., 0., 0., 0.], dtype=float32),\n",
       " {'step': 0.0,\n",
       "  'system_total_stopped': 0,\n",
       "  'system_total_waiting_time': 0,\n",
       "  'system_mean_waiting_time': 0.0,\n",
       "  'system_mean_speed': 0.0,\n",
       "  '1_stopped': 0,\n",
       "  '1_accumulated_waiting_time': 0.0,\n",
       "  '1_average_speed': 1.0,\n",
       "  '2_stopped': 0,\n",
       "  '2_accumulated_waiting_time': 0.0,\n",
       "  '2_average_speed': 1.0,\n",
       "  '5_stopped': 0,\n",
       "  '5_accumulated_waiting_time': 0.0,\n",
       "  '5_average_speed': 1.0,\n",
       "  '6_stopped': 0,\n",
       "  '6_accumulated_waiting_time': 0.0,\n",
       "  '6_average_speed': 1.0,\n",
       "  'agents_total_stopped': 0,\n",
       "  'agents_total_accumulated_waiting_time': 0.0})"
      ]
     },
     "execution_count": 47,
     "metadata": {},
     "output_type": "execute_result"
    }
   ],
   "source": [
    "sumo_env.reset()"
   ]
  },
  {
   "cell_type": "code",
   "execution_count": 8,
   "metadata": {},
   "outputs": [
    {
     "name": "stdout",
     "output_type": "stream",
     "text": [
      "Using mps device\n",
      "Wrapping the env with a `Monitor` wrapper\n",
      "Wrapping the env in a DummyVecEnv.\n"
     ]
    }
   ],
   "source": [
    "model = DQN(\n",
    "    env=sumo_env,\n",
    "    policy=\"MlpPolicy\",\n",
    "    learning_rate=0.001,\n",
    "    learning_starts=0,\n",
    "    train_freq=1,\n",
    "    target_update_interval=500,\n",
    "    exploration_initial_eps=0.05,\n",
    "    exploration_final_eps=0.01,\n",
    "    verbose=1,\n",
    "    device = torch.device('mps')\n",
    ")\n"
   ]
  },
  {
   "cell_type": "code",
   "execution_count": 9,
   "metadata": {},
   "outputs": [
    {
     "name": "stdout",
     "output_type": "stream",
     "text": [
      " Retrying in 1 seconds\n"
     ]
    },
    {
     "name": "stderr",
     "output_type": "stream",
     "text": [
      "Fontconfig error: Cannot load default config file: No such file: (null)\n"
     ]
    },
    {
     "name": "stdout",
     "output_type": "stream",
     "text": [
      " Retrying in 1 seconds\n"
     ]
    },
    {
     "name": "stderr",
     "output_type": "stream",
     "text": [
      "Fontconfig error: Cannot load default config file: No such file: (null)\n"
     ]
    },
    {
     "name": "stdout",
     "output_type": "stream",
     "text": [
      " Retrying in 1 seconds\n"
     ]
    },
    {
     "name": "stderr",
     "output_type": "stream",
     "text": [
      "Fontconfig error: Cannot load default config file: No such file: (null)\n"
     ]
    },
    {
     "name": "stdout",
     "output_type": "stream",
     "text": [
      " Retrying in 1 seconds\n"
     ]
    },
    {
     "name": "stderr",
     "output_type": "stream",
     "text": [
      "Fontconfig error: Cannot load default config file: No such file: (null)\n"
     ]
    },
    {
     "name": "stdout",
     "output_type": "stream",
     "text": [
      " Retrying in 1 seconds\n"
     ]
    },
    {
     "name": "stderr",
     "output_type": "stream",
     "text": [
      "Fontconfig error: Cannot load default config file: No such file: (null)\n"
     ]
    },
    {
     "name": "stdout",
     "output_type": "stream",
     "text": [
      "----------------------------------\n",
      "| rollout/            |          |\n",
      "|    ep_len_mean      | 200      |\n",
      "|    ep_rew_mean      | -117     |\n",
      "|    exploration_rate | 0.018    |\n",
      "| time/               |          |\n",
      "|    episodes         | 4        |\n",
      "|    fps              | 29       |\n",
      "|    time_elapsed     | 27       |\n",
      "|    total_timesteps  | 800      |\n",
      "| train/              |          |\n",
      "|    learning_rate    | 0.001    |\n",
      "|    loss             | 0.163    |\n",
      "|    n_updates        | 799      |\n",
      "----------------------------------\n",
      " Retrying in 1 seconds\n"
     ]
    },
    {
     "name": "stderr",
     "output_type": "stream",
     "text": [
      "Fontconfig error: Cannot load default config file: No such file: (null)\n"
     ]
    },
    {
     "name": "stdout",
     "output_type": "stream",
     "text": [
      " Retrying in 1 seconds\n"
     ]
    },
    {
     "name": "stderr",
     "output_type": "stream",
     "text": [
      "Fontconfig error: Cannot load default config file: No such file: (null)\n"
     ]
    },
    {
     "name": "stdout",
     "output_type": "stream",
     "text": [
      " Retrying in 1 seconds\n"
     ]
    },
    {
     "name": "stderr",
     "output_type": "stream",
     "text": [
      "Fontconfig error: Cannot load default config file: No such file: (null)\n"
     ]
    },
    {
     "name": "stdout",
     "output_type": "stream",
     "text": [
      " Retrying in 1 seconds\n"
     ]
    },
    {
     "name": "stderr",
     "output_type": "stream",
     "text": [
      "Fontconfig error: Cannot load default config file: No such file: (null)\n"
     ]
    },
    {
     "name": "stdout",
     "output_type": "stream",
     "text": [
      "----------------------------------\n",
      "| rollout/            |          |\n",
      "|    ep_len_mean      | 200      |\n",
      "|    ep_rew_mean      | -132     |\n",
      "|    exploration_rate | 0.01     |\n",
      "| time/               |          |\n",
      "|    episodes         | 8        |\n",
      "|    fps              | 29       |\n",
      "|    time_elapsed     | 54       |\n",
      "|    total_timesteps  | 1600     |\n",
      "| train/              |          |\n",
      "|    learning_rate    | 0.001    |\n",
      "|    loss             | 0.0472   |\n",
      "|    n_updates        | 1599     |\n",
      "----------------------------------\n",
      " Retrying in 1 seconds\n"
     ]
    },
    {
     "name": "stderr",
     "output_type": "stream",
     "text": [
      "Fontconfig error: Cannot load default config file: No such file: (null)\n"
     ]
    },
    {
     "name": "stdout",
     "output_type": "stream",
     "text": [
      " Retrying in 1 seconds\n"
     ]
    },
    {
     "name": "stderr",
     "output_type": "stream",
     "text": [
      "Fontconfig error: Cannot load default config file: No such file: (null)\n"
     ]
    },
    {
     "name": "stdout",
     "output_type": "stream",
     "text": [
      " Retrying in 1 seconds\n"
     ]
    },
    {
     "name": "stderr",
     "output_type": "stream",
     "text": [
      "Fontconfig error: Cannot load default config file: No such file: (null)\n"
     ]
    },
    {
     "name": "stdout",
     "output_type": "stream",
     "text": [
      " Retrying in 1 seconds\n"
     ]
    },
    {
     "name": "stderr",
     "output_type": "stream",
     "text": [
      "Fontconfig error: Cannot load default config file: No such file: (null)\n"
     ]
    },
    {
     "name": "stdout",
     "output_type": "stream",
     "text": [
      "----------------------------------\n",
      "| rollout/            |          |\n",
      "|    ep_len_mean      | 200      |\n",
      "|    ep_rew_mean      | -135     |\n",
      "|    exploration_rate | 0.01     |\n",
      "| time/               |          |\n",
      "|    episodes         | 12       |\n",
      "|    fps              | 29       |\n",
      "|    time_elapsed     | 80       |\n",
      "|    total_timesteps  | 2400     |\n",
      "| train/              |          |\n",
      "|    learning_rate    | 0.001    |\n",
      "|    loss             | 0.0352   |\n",
      "|    n_updates        | 2399     |\n",
      "----------------------------------\n",
      " Retrying in 1 seconds\n"
     ]
    },
    {
     "name": "stderr",
     "output_type": "stream",
     "text": [
      "Fontconfig error: Cannot load default config file: No such file: (null)\n"
     ]
    },
    {
     "name": "stdout",
     "output_type": "stream",
     "text": [
      " Retrying in 1 seconds\n"
     ]
    },
    {
     "name": "stderr",
     "output_type": "stream",
     "text": [
      "Fontconfig error: Cannot load default config file: No such file: (null)\n"
     ]
    },
    {
     "name": "stdout",
     "output_type": "stream",
     "text": [
      " Retrying in 1 seconds\n"
     ]
    },
    {
     "name": "stderr",
     "output_type": "stream",
     "text": [
      "Fontconfig error: Cannot load default config file: No such file: (null)\n"
     ]
    },
    {
     "name": "stdout",
     "output_type": "stream",
     "text": [
      " Retrying in 1 seconds\n"
     ]
    },
    {
     "name": "stderr",
     "output_type": "stream",
     "text": [
      "Fontconfig error: Cannot load default config file: No such file: (null)\n"
     ]
    },
    {
     "name": "stdout",
     "output_type": "stream",
     "text": [
      "----------------------------------\n",
      "| rollout/            |          |\n",
      "|    ep_len_mean      | 200      |\n",
      "|    ep_rew_mean      | -143     |\n",
      "|    exploration_rate | 0.01     |\n",
      "| time/               |          |\n",
      "|    episodes         | 16       |\n",
      "|    fps              | 29       |\n",
      "|    time_elapsed     | 108      |\n",
      "|    total_timesteps  | 3200     |\n",
      "| train/              |          |\n",
      "|    learning_rate    | 0.001    |\n",
      "|    loss             | 0.0138   |\n",
      "|    n_updates        | 3199     |\n",
      "----------------------------------\n",
      " Retrying in 1 seconds\n"
     ]
    },
    {
     "name": "stderr",
     "output_type": "stream",
     "text": [
      "Fontconfig error: Cannot load default config file: No such file: (null)\n"
     ]
    },
    {
     "name": "stdout",
     "output_type": "stream",
     "text": [
      " Retrying in 1 seconds\n"
     ]
    },
    {
     "name": "stderr",
     "output_type": "stream",
     "text": [
      "Fontconfig error: Cannot load default config file: No such file: (null)\n"
     ]
    },
    {
     "name": "stdout",
     "output_type": "stream",
     "text": [
      " Retrying in 1 seconds\n"
     ]
    },
    {
     "name": "stderr",
     "output_type": "stream",
     "text": [
      "Fontconfig error: Cannot load default config file: No such file: (null)\n"
     ]
    },
    {
     "name": "stdout",
     "output_type": "stream",
     "text": [
      " Retrying in 1 seconds\n"
     ]
    },
    {
     "name": "stderr",
     "output_type": "stream",
     "text": [
      "Fontconfig error: Cannot load default config file: No such file: (null)\n"
     ]
    },
    {
     "name": "stdout",
     "output_type": "stream",
     "text": [
      "----------------------------------\n",
      "| rollout/            |          |\n",
      "|    ep_len_mean      | 200      |\n",
      "|    ep_rew_mean      | -142     |\n",
      "|    exploration_rate | 0.01     |\n",
      "| time/               |          |\n",
      "|    episodes         | 20       |\n",
      "|    fps              | 29       |\n",
      "|    time_elapsed     | 134      |\n",
      "|    total_timesteps  | 4000     |\n",
      "| train/              |          |\n",
      "|    learning_rate    | 0.001    |\n",
      "|    loss             | 0.0461   |\n",
      "|    n_updates        | 3999     |\n",
      "----------------------------------\n",
      " Retrying in 1 seconds\n"
     ]
    },
    {
     "name": "stderr",
     "output_type": "stream",
     "text": [
      "Fontconfig error: Cannot load default config file: No such file: (null)\n"
     ]
    },
    {
     "name": "stdout",
     "output_type": "stream",
     "text": [
      " Retrying in 1 seconds\n"
     ]
    },
    {
     "name": "stderr",
     "output_type": "stream",
     "text": [
      "Fontconfig error: Cannot load default config file: No such file: (null)\n"
     ]
    },
    {
     "name": "stdout",
     "output_type": "stream",
     "text": [
      " Retrying in 1 seconds\n"
     ]
    },
    {
     "name": "stderr",
     "output_type": "stream",
     "text": [
      "Fontconfig error: Cannot load default config file: No such file: (null)\n"
     ]
    },
    {
     "name": "stdout",
     "output_type": "stream",
     "text": [
      " Retrying in 1 seconds\n"
     ]
    },
    {
     "name": "stderr",
     "output_type": "stream",
     "text": [
      "Fontconfig error: Cannot load default config file: No such file: (null)\n"
     ]
    },
    {
     "name": "stdout",
     "output_type": "stream",
     "text": [
      "----------------------------------\n",
      "| rollout/            |          |\n",
      "|    ep_len_mean      | 200      |\n",
      "|    ep_rew_mean      | -145     |\n",
      "|    exploration_rate | 0.01     |\n",
      "| time/               |          |\n",
      "|    episodes         | 24       |\n",
      "|    fps              | 29       |\n",
      "|    time_elapsed     | 161      |\n",
      "|    total_timesteps  | 4800     |\n",
      "| train/              |          |\n",
      "|    learning_rate    | 0.001    |\n",
      "|    loss             | 0.0305   |\n",
      "|    n_updates        | 4799     |\n",
      "----------------------------------\n",
      " Retrying in 1 seconds\n"
     ]
    },
    {
     "name": "stderr",
     "output_type": "stream",
     "text": [
      "Fontconfig error: Cannot load default config file: No such file: (null)\n"
     ]
    },
    {
     "name": "stdout",
     "output_type": "stream",
     "text": [
      " Retrying in 1 seconds\n"
     ]
    },
    {
     "name": "stderr",
     "output_type": "stream",
     "text": [
      "Fontconfig error: Cannot load default config file: No such file: (null)\n"
     ]
    },
    {
     "name": "stdout",
     "output_type": "stream",
     "text": [
      " Retrying in 1 seconds\n"
     ]
    },
    {
     "name": "stderr",
     "output_type": "stream",
     "text": [
      "Fontconfig error: Cannot load default config file: No such file: (null)\n"
     ]
    },
    {
     "name": "stdout",
     "output_type": "stream",
     "text": [
      " Retrying in 1 seconds\n"
     ]
    },
    {
     "name": "stderr",
     "output_type": "stream",
     "text": [
      "Fontconfig error: Cannot load default config file: No such file: (null)\n"
     ]
    },
    {
     "name": "stdout",
     "output_type": "stream",
     "text": [
      "----------------------------------\n",
      "| rollout/            |          |\n",
      "|    ep_len_mean      | 200      |\n",
      "|    ep_rew_mean      | -146     |\n",
      "|    exploration_rate | 0.01     |\n",
      "| time/               |          |\n",
      "|    episodes         | 28       |\n",
      "|    fps              | 29       |\n",
      "|    time_elapsed     | 189      |\n",
      "|    total_timesteps  | 5600     |\n",
      "| train/              |          |\n",
      "|    learning_rate    | 0.001    |\n",
      "|    loss             | 0.0713   |\n",
      "|    n_updates        | 5599     |\n",
      "----------------------------------\n",
      " Retrying in 1 seconds\n"
     ]
    },
    {
     "name": "stderr",
     "output_type": "stream",
     "text": [
      "Fontconfig error: Cannot load default config file: No such file: (null)\n"
     ]
    },
    {
     "name": "stdout",
     "output_type": "stream",
     "text": [
      " Retrying in 1 seconds\n"
     ]
    },
    {
     "name": "stderr",
     "output_type": "stream",
     "text": [
      "Fontconfig error: Cannot load default config file: No such file: (null)\n"
     ]
    },
    {
     "name": "stdout",
     "output_type": "stream",
     "text": [
      " Retrying in 1 seconds\n"
     ]
    },
    {
     "name": "stderr",
     "output_type": "stream",
     "text": [
      "Fontconfig error: Cannot load default config file: No such file: (null)\n"
     ]
    },
    {
     "name": "stdout",
     "output_type": "stream",
     "text": [
      " Retrying in 1 seconds\n"
     ]
    },
    {
     "name": "stderr",
     "output_type": "stream",
     "text": [
      "Fontconfig error: Cannot load default config file: No such file: (null)\n"
     ]
    },
    {
     "name": "stdout",
     "output_type": "stream",
     "text": [
      "----------------------------------\n",
      "| rollout/            |          |\n",
      "|    ep_len_mean      | 200      |\n",
      "|    ep_rew_mean      | -147     |\n",
      "|    exploration_rate | 0.01     |\n",
      "| time/               |          |\n",
      "|    episodes         | 32       |\n",
      "|    fps              | 29       |\n",
      "|    time_elapsed     | 217      |\n",
      "|    total_timesteps  | 6400     |\n",
      "| train/              |          |\n",
      "|    learning_rate    | 0.001    |\n",
      "|    loss             | 0.0694   |\n",
      "|    n_updates        | 6399     |\n",
      "----------------------------------\n",
      " Retrying in 1 seconds\n"
     ]
    },
    {
     "name": "stderr",
     "output_type": "stream",
     "text": [
      "Fontconfig error: Cannot load default config file: No such file: (null)\n"
     ]
    },
    {
     "name": "stdout",
     "output_type": "stream",
     "text": [
      " Retrying in 1 seconds\n"
     ]
    },
    {
     "name": "stderr",
     "output_type": "stream",
     "text": [
      "Fontconfig error: Cannot load default config file: No such file: (null)\n"
     ]
    },
    {
     "name": "stdout",
     "output_type": "stream",
     "text": [
      " Retrying in 1 seconds\n"
     ]
    },
    {
     "name": "stderr",
     "output_type": "stream",
     "text": [
      "Fontconfig error: Cannot load default config file: No such file: (null)\n"
     ]
    },
    {
     "name": "stdout",
     "output_type": "stream",
     "text": [
      " Retrying in 1 seconds\n"
     ]
    },
    {
     "name": "stderr",
     "output_type": "stream",
     "text": [
      "Fontconfig error: Cannot load default config file: No such file: (null)\n"
     ]
    },
    {
     "name": "stdout",
     "output_type": "stream",
     "text": [
      "----------------------------------\n",
      "| rollout/            |          |\n",
      "|    ep_len_mean      | 200      |\n",
      "|    ep_rew_mean      | -149     |\n",
      "|    exploration_rate | 0.01     |\n",
      "| time/               |          |\n",
      "|    episodes         | 36       |\n",
      "|    fps              | 29       |\n",
      "|    time_elapsed     | 247      |\n",
      "|    total_timesteps  | 7200     |\n",
      "| train/              |          |\n",
      "|    learning_rate    | 0.001    |\n",
      "|    loss             | 0.132    |\n",
      "|    n_updates        | 7199     |\n",
      "----------------------------------\n",
      " Retrying in 1 seconds\n"
     ]
    },
    {
     "name": "stderr",
     "output_type": "stream",
     "text": [
      "Fontconfig error: Cannot load default config file: No such file: (null)\n"
     ]
    },
    {
     "name": "stdout",
     "output_type": "stream",
     "text": [
      " Retrying in 1 seconds\n"
     ]
    },
    {
     "name": "stderr",
     "output_type": "stream",
     "text": [
      "Fontconfig error: Cannot load default config file: No such file: (null)\n"
     ]
    },
    {
     "name": "stdout",
     "output_type": "stream",
     "text": [
      " Retrying in 1 seconds\n"
     ]
    },
    {
     "name": "stderr",
     "output_type": "stream",
     "text": [
      "Fontconfig error: Cannot load default config file: No such file: (null)\n"
     ]
    },
    {
     "name": "stdout",
     "output_type": "stream",
     "text": [
      " Retrying in 1 seconds\n"
     ]
    },
    {
     "name": "stderr",
     "output_type": "stream",
     "text": [
      "Fontconfig error: Cannot load default config file: No such file: (null)\n"
     ]
    },
    {
     "name": "stdout",
     "output_type": "stream",
     "text": [
      "----------------------------------\n",
      "| rollout/            |          |\n",
      "|    ep_len_mean      | 200      |\n",
      "|    ep_rew_mean      | -149     |\n",
      "|    exploration_rate | 0.01     |\n",
      "| time/               |          |\n",
      "|    episodes         | 40       |\n",
      "|    fps              | 28       |\n",
      "|    time_elapsed     | 276      |\n",
      "|    total_timesteps  | 8000     |\n",
      "| train/              |          |\n",
      "|    learning_rate    | 0.001    |\n",
      "|    loss             | 0.109    |\n",
      "|    n_updates        | 7999     |\n",
      "----------------------------------\n",
      " Retrying in 1 seconds\n"
     ]
    },
    {
     "name": "stderr",
     "output_type": "stream",
     "text": [
      "Fontconfig error: Cannot load default config file: No such file: (null)\n"
     ]
    },
    {
     "name": "stdout",
     "output_type": "stream",
     "text": [
      " Retrying in 1 seconds\n"
     ]
    },
    {
     "name": "stderr",
     "output_type": "stream",
     "text": [
      "Fontconfig error: Cannot load default config file: No such file: (null)\n"
     ]
    },
    {
     "name": "stdout",
     "output_type": "stream",
     "text": [
      " Retrying in 1 seconds\n"
     ]
    },
    {
     "name": "stderr",
     "output_type": "stream",
     "text": [
      "Fontconfig error: Cannot load default config file: No such file: (null)\n"
     ]
    },
    {
     "name": "stdout",
     "output_type": "stream",
     "text": [
      " Retrying in 1 seconds\n"
     ]
    },
    {
     "name": "stderr",
     "output_type": "stream",
     "text": [
      "Fontconfig error: Cannot load default config file: No such file: (null)\n"
     ]
    },
    {
     "name": "stdout",
     "output_type": "stream",
     "text": [
      "----------------------------------\n",
      "| rollout/            |          |\n",
      "|    ep_len_mean      | 200      |\n",
      "|    ep_rew_mean      | -150     |\n",
      "|    exploration_rate | 0.01     |\n",
      "| time/               |          |\n",
      "|    episodes         | 44       |\n",
      "|    fps              | 28       |\n",
      "|    time_elapsed     | 305      |\n",
      "|    total_timesteps  | 8800     |\n",
      "| train/              |          |\n",
      "|    learning_rate    | 0.001    |\n",
      "|    loss             | 0.125    |\n",
      "|    n_updates        | 8799     |\n",
      "----------------------------------\n",
      " Retrying in 1 seconds\n"
     ]
    },
    {
     "name": "stderr",
     "output_type": "stream",
     "text": [
      "Fontconfig error: Cannot load default config file: No such file: (null)\n"
     ]
    },
    {
     "name": "stdout",
     "output_type": "stream",
     "text": [
      " Retrying in 1 seconds\n"
     ]
    },
    {
     "name": "stderr",
     "output_type": "stream",
     "text": [
      "Fontconfig error: Cannot load default config file: No such file: (null)\n"
     ]
    },
    {
     "name": "stdout",
     "output_type": "stream",
     "text": [
      " Retrying in 1 seconds\n"
     ]
    },
    {
     "name": "stderr",
     "output_type": "stream",
     "text": [
      "Fontconfig error: Cannot load default config file: No such file: (null)\n"
     ]
    },
    {
     "name": "stdout",
     "output_type": "stream",
     "text": [
      " Retrying in 1 seconds\n"
     ]
    },
    {
     "name": "stderr",
     "output_type": "stream",
     "text": [
      "Fontconfig error: Cannot load default config file: No such file: (null)\n"
     ]
    },
    {
     "name": "stdout",
     "output_type": "stream",
     "text": [
      "----------------------------------\n",
      "| rollout/            |          |\n",
      "|    ep_len_mean      | 200      |\n",
      "|    ep_rew_mean      | -151     |\n",
      "|    exploration_rate | 0.01     |\n",
      "| time/               |          |\n",
      "|    episodes         | 48       |\n",
      "|    fps              | 28       |\n",
      "|    time_elapsed     | 333      |\n",
      "|    total_timesteps  | 9600     |\n",
      "| train/              |          |\n",
      "|    learning_rate    | 0.001    |\n",
      "|    loss             | 0.207    |\n",
      "|    n_updates        | 9599     |\n",
      "----------------------------------\n",
      " Retrying in 1 seconds\n"
     ]
    },
    {
     "name": "stderr",
     "output_type": "stream",
     "text": [
      "Fontconfig error: Cannot load default config file: No such file: (null)\n"
     ]
    },
    {
     "name": "stdout",
     "output_type": "stream",
     "text": [
      " Retrying in 1 seconds\n"
     ]
    },
    {
     "name": "stderr",
     "output_type": "stream",
     "text": [
      "Fontconfig error: Cannot load default config file: No such file: (null)\n"
     ]
    },
    {
     "data": {
      "text/plain": [
       "<stable_baselines3.dqn.dqn.DQN at 0x16a6cb580>"
      ]
     },
     "execution_count": 9,
     "metadata": {},
     "output_type": "execute_result"
    }
   ],
   "source": [
    "model.learn(total_timesteps=10000)"
   ]
  },
  {
   "cell_type": "code",
   "execution_count": 12,
   "metadata": {},
   "outputs": [],
   "source": [
    "model.save('dqn_01.pth')"
   ]
  },
  {
   "cell_type": "code",
   "execution_count": 94,
   "metadata": {},
   "outputs": [],
   "source": [
    "class EnvConfig:\n",
    "    net_file='./nets/2x2grid/2x2.net.xml'\n",
    "    single_agent = True\n",
    "    use_gui=False\n",
    "    num_seconds=1000\n",
    "\n",
    "class DQNConfig:\n",
    "    learning_rate=0.001\n",
    "    device = torch.device('mps')\n",
    "    total_timesteps = 10000"
   ]
  },
  {
   "cell_type": "code",
   "execution_count": 95,
   "metadata": {},
   "outputs": [],
   "source": [
    "def train_DQN(route_context):\n",
    "    route = route_context.split('/')[1]\n",
    "    sumo_env = SumoEnvironment(\n",
    "        net_file=EnvConfig.net_file, \n",
    "        route_file=f'./nets/{route_context}.rou.xml', \n",
    "        out_csv_name=f'./outputs/{route}/out', \n",
    "        single_agent = EnvConfig.single_agent,\n",
    "        use_gui=EnvConfig.use_gui,\n",
    "        num_seconds=EnvConfig.num_seconds\n",
    "    )\n",
    "    sumo_env.reset()\n",
    "    model = DQN(\n",
    "        env=sumo_env,\n",
    "        policy=\"MlpPolicy\",\n",
    "        learning_rate=DQNConfig.learning_rate,\n",
    "        learning_starts=0,\n",
    "        train_freq=1,\n",
    "        target_update_interval=500,\n",
    "        exploration_initial_eps=0.05,\n",
    "        exploration_final_eps=0.01,\n",
    "        verbose=1,\n",
    "        device = DQNConfig.device\n",
    "    )\n",
    "    model.learn(total_timesteps=DQNConfig.total_timesteps)\n",
    "    model.save(f'dqn_{route}.pth')"
   ]
  },
  {
   "cell_type": "code",
   "execution_count": 80,
   "metadata": {},
   "outputs": [
    {
     "name": "stdout",
     "output_type": "stream",
     "text": [
      " Retrying in 1 seconds\n",
      "Step #0.00 (0ms ?*RT. ?UPS, TraCI: 13ms, vehicles TOT 0 ACT 0 BUF 0)                     \n",
      " Retrying in 1 seconds\n",
      "Using mps device\n",
      "Wrapping the env with a `Monitor` wrapper\n",
      "Wrapping the env in a DummyVecEnv.\n",
      "Step #0.00 (0ms ?*RT. ?UPS, TraCI: 51ms, vehicles TOT 0 ACT 0 BUF 0)                     \n",
      " Retrying in 1 seconds\n",
      "Step #1000.00 (0ms ?*RT. ?UPS, TraCI: 16ms, vehicles TOT 456 ACT 73 BUF 342)               \n",
      " Retrying in 1 seconds\n",
      "Step #1000.00 (1ms ~= 1000.00*RT, ~77000.00UPS, TraCI: 18ms, vehicles TOT 453 ACT 77 BUF 33\n",
      " Retrying in 1 seconds\n",
      "Step #1000.00 (1ms ~= 1000.00*RT, ~74000.00UPS, TraCI: 16ms, vehicles TOT 454 ACT 74 BUF 33\n",
      " Retrying in 1 seconds\n",
      "Step #1000.00 (0ms ?*RT. ?UPS, TraCI: 15ms, vehicles TOT 478 ACT 73 BUF 377)               \n",
      " Retrying in 1 seconds\n",
      "----------------------------------\n",
      "| rollout/            |          |\n",
      "|    ep_len_mean      | 200      |\n",
      "|    ep_rew_mean      | -156     |\n",
      "|    exploration_rate | 0.018    |\n",
      "| time/               |          |\n",
      "|    episodes         | 4        |\n",
      "|    fps              | 28       |\n",
      "|    time_elapsed     | 27       |\n",
      "|    total_timesteps  | 800      |\n",
      "| train/              |          |\n",
      "|    learning_rate    | 0.001    |\n",
      "|    loss             | 0.0108   |\n",
      "|    n_updates        | 799      |\n",
      "----------------------------------\n",
      "Step #1000.00 (1ms ~= 1000.00*RT, ~72000.00UPS, TraCI: 15ms, vehicles TOT 458 ACT 72 BUF 37\n",
      " Retrying in 1 seconds\n",
      "Step #1000.00 (0ms ?*RT. ?UPS, TraCI: 16ms, vehicles TOT 473 ACT 63 BUF 337)               \n",
      " Retrying in 1 seconds\n",
      "Step #1000.00 (0ms ?*RT. ?UPS, TraCI: 19ms, vehicles TOT 467 ACT 69 BUF 330)               \n",
      " Retrying in 1 seconds\n",
      "Step #1000.00 (0ms ?*RT. ?UPS, TraCI: 22ms, vehicles TOT 457 ACT 70 BUF 367)               \n",
      " Retrying in 1 seconds\n",
      "----------------------------------\n",
      "| rollout/            |          |\n",
      "|    ep_len_mean      | 200      |\n",
      "|    ep_rew_mean      | -159     |\n",
      "|    exploration_rate | 0.01     |\n",
      "| time/               |          |\n",
      "|    episodes         | 8        |\n",
      "|    fps              | 28       |\n",
      "|    time_elapsed     | 55       |\n",
      "|    total_timesteps  | 1600     |\n",
      "| train/              |          |\n",
      "|    learning_rate    | 0.001    |\n",
      "|    loss             | 0.0504   |\n",
      "|    n_updates        | 1599     |\n",
      "----------------------------------\n",
      "Step #1000.00 (1ms ~= 1000.00*RT, ~70000.00UPS, TraCI: 17ms, vehicles TOT 435 ACT 70 BUF 32\n",
      " Retrying in 1 seconds\n",
      "Step #1000.00 (0ms ?*RT. ?UPS, TraCI: 17ms, vehicles TOT 481 ACT 79 BUF 321)               \n",
      " Retrying in 1 seconds\n",
      "Step #1000.00 (0ms ?*RT. ?UPS, TraCI: 16ms, vehicles TOT 443 ACT 75 BUF 344)               \n",
      " Retrying in 1 seconds\n",
      "Step #1000.00 (0ms ?*RT. ?UPS, TraCI: 17ms, vehicles TOT 467 ACT 75 BUF 347)               \n",
      " Retrying in 1 seconds\n",
      "----------------------------------\n",
      "| rollout/            |          |\n",
      "|    ep_len_mean      | 200      |\n",
      "|    ep_rew_mean      | -160     |\n",
      "|    exploration_rate | 0.01     |\n",
      "| time/               |          |\n",
      "|    episodes         | 12       |\n",
      "|    fps              | 29       |\n",
      "|    time_elapsed     | 82       |\n",
      "|    total_timesteps  | 2400     |\n",
      "| train/              |          |\n",
      "|    learning_rate    | 0.001    |\n",
      "|    loss             | 0.0108   |\n",
      "|    n_updates        | 2399     |\n",
      "----------------------------------\n",
      "Step #1000.00 (1ms ~= 1000.00*RT, ~66000.00UPS, TraCI: 15ms, vehicles TOT 467 ACT 66 BUF 34\n",
      " Retrying in 1 seconds\n",
      "Step #1000.00 (1ms ~= 1000.00*RT, ~81000.00UPS, TraCI: 17ms, vehicles TOT 460 ACT 81 BUF 34\n",
      " Retrying in 1 seconds\n",
      "Step #1000.00 (0ms ?*RT. ?UPS, TraCI: 15ms, vehicles TOT 476 ACT 75 BUF 352)               \n",
      " Retrying in 1 seconds\n",
      "Step #1000.00 (0ms ?*RT. ?UPS, TraCI: 15ms, vehicles TOT 467 ACT 72 BUF 342)               \n",
      " Retrying in 1 seconds\n",
      "----------------------------------\n",
      "| rollout/            |          |\n",
      "|    ep_len_mean      | 200      |\n",
      "|    ep_rew_mean      | -161     |\n",
      "|    exploration_rate | 0.01     |\n",
      "| time/               |          |\n",
      "|    episodes         | 16       |\n",
      "|    fps              | 29       |\n",
      "|    time_elapsed     | 108      |\n",
      "|    total_timesteps  | 3200     |\n",
      "| train/              |          |\n",
      "|    learning_rate    | 0.001    |\n",
      "|    loss             | 0.043    |\n",
      "|    n_updates        | 3199     |\n",
      "----------------------------------\n",
      "Step #1000.00 (1ms ~= 1000.00*RT, ~71000.00UPS, TraCI: 20ms, vehicles TOT 460 ACT 71 BUF 34\n",
      " Retrying in 1 seconds\n"
     ]
    },
    {
     "ename": "KeyboardInterrupt",
     "evalue": "",
     "output_type": "error",
     "traceback": [
      "\u001b[0;31m---------------------------------------------------------------------------\u001b[0m",
      "\u001b[0;31mKeyboardInterrupt\u001b[0m                         Traceback (most recent call last)",
      "Cell \u001b[0;32mIn[80], line 1\u001b[0m\n\u001b[0;32m----> 1\u001b[0m \u001b[43mtrain_DQN\u001b[49m\u001b[43m(\u001b[49m\u001b[38;5;124;43m'\u001b[39;49m\u001b[38;5;124;43m2x2grid/2x2o2\u001b[39;49m\u001b[38;5;124;43m'\u001b[39;49m\u001b[43m)\u001b[49m\n",
      "Cell \u001b[0;32mIn[79], line 24\u001b[0m, in \u001b[0;36mtrain_DQN\u001b[0;34m(route_context)\u001b[0m\n\u001b[1;32m     11\u001b[0m sumo_env\u001b[38;5;241m.\u001b[39mreset()\n\u001b[1;32m     12\u001b[0m model \u001b[38;5;241m=\u001b[39m DQN(\n\u001b[1;32m     13\u001b[0m     env\u001b[38;5;241m=\u001b[39msumo_env,\n\u001b[1;32m     14\u001b[0m     policy\u001b[38;5;241m=\u001b[39m\u001b[38;5;124m\"\u001b[39m\u001b[38;5;124mMlpPolicy\u001b[39m\u001b[38;5;124m\"\u001b[39m,\n\u001b[0;32m   (...)\u001b[0m\n\u001b[1;32m     22\u001b[0m     device \u001b[38;5;241m=\u001b[39m DQNConfig\u001b[38;5;241m.\u001b[39mdevice\n\u001b[1;32m     23\u001b[0m )\n\u001b[0;32m---> 24\u001b[0m \u001b[43mmodel\u001b[49m\u001b[38;5;241;43m.\u001b[39;49m\u001b[43mlearn\u001b[49m\u001b[43m(\u001b[49m\u001b[43mtotal_timesteps\u001b[49m\u001b[38;5;241;43m=\u001b[39;49m\u001b[43mDQNConfig\u001b[49m\u001b[38;5;241;43m.\u001b[39;49m\u001b[43mtotal_timesteps\u001b[49m\u001b[43m)\u001b[49m\n\u001b[1;32m     25\u001b[0m model\u001b[38;5;241m.\u001b[39msave(\u001b[38;5;124mf\u001b[39m\u001b[38;5;124m'\u001b[39m\u001b[38;5;124mdqn_\u001b[39m\u001b[38;5;132;01m{\u001b[39;00mroute\u001b[38;5;132;01m}\u001b[39;00m\u001b[38;5;124m.pth\u001b[39m\u001b[38;5;124m'\u001b[39m)\n",
      "File \u001b[0;32m~/Desktop/MIT_Classes/67920_final/.venv/lib/python3.12/site-packages/stable_baselines3/dqn/dqn.py:267\u001b[0m, in \u001b[0;36mDQN.learn\u001b[0;34m(self, total_timesteps, callback, log_interval, tb_log_name, reset_num_timesteps, progress_bar)\u001b[0m\n\u001b[1;32m    258\u001b[0m \u001b[38;5;28;01mdef\u001b[39;00m \u001b[38;5;21mlearn\u001b[39m(\n\u001b[1;32m    259\u001b[0m     \u001b[38;5;28mself\u001b[39m: SelfDQN,\n\u001b[1;32m    260\u001b[0m     total_timesteps: \u001b[38;5;28mint\u001b[39m,\n\u001b[0;32m   (...)\u001b[0m\n\u001b[1;32m    265\u001b[0m     progress_bar: \u001b[38;5;28mbool\u001b[39m \u001b[38;5;241m=\u001b[39m \u001b[38;5;28;01mFalse\u001b[39;00m,\n\u001b[1;32m    266\u001b[0m ) \u001b[38;5;241m-\u001b[39m\u001b[38;5;241m>\u001b[39m SelfDQN:\n\u001b[0;32m--> 267\u001b[0m     \u001b[38;5;28;01mreturn\u001b[39;00m \u001b[38;5;28;43msuper\u001b[39;49m\u001b[43m(\u001b[49m\u001b[43m)\u001b[49m\u001b[38;5;241;43m.\u001b[39;49m\u001b[43mlearn\u001b[49m\u001b[43m(\u001b[49m\n\u001b[1;32m    268\u001b[0m \u001b[43m        \u001b[49m\u001b[43mtotal_timesteps\u001b[49m\u001b[38;5;241;43m=\u001b[39;49m\u001b[43mtotal_timesteps\u001b[49m\u001b[43m,\u001b[49m\n\u001b[1;32m    269\u001b[0m \u001b[43m        \u001b[49m\u001b[43mcallback\u001b[49m\u001b[38;5;241;43m=\u001b[39;49m\u001b[43mcallback\u001b[49m\u001b[43m,\u001b[49m\n\u001b[1;32m    270\u001b[0m \u001b[43m        \u001b[49m\u001b[43mlog_interval\u001b[49m\u001b[38;5;241;43m=\u001b[39;49m\u001b[43mlog_interval\u001b[49m\u001b[43m,\u001b[49m\n\u001b[1;32m    271\u001b[0m \u001b[43m        \u001b[49m\u001b[43mtb_log_name\u001b[49m\u001b[38;5;241;43m=\u001b[39;49m\u001b[43mtb_log_name\u001b[49m\u001b[43m,\u001b[49m\n\u001b[1;32m    272\u001b[0m \u001b[43m        \u001b[49m\u001b[43mreset_num_timesteps\u001b[49m\u001b[38;5;241;43m=\u001b[39;49m\u001b[43mreset_num_timesteps\u001b[49m\u001b[43m,\u001b[49m\n\u001b[1;32m    273\u001b[0m \u001b[43m        \u001b[49m\u001b[43mprogress_bar\u001b[49m\u001b[38;5;241;43m=\u001b[39;49m\u001b[43mprogress_bar\u001b[49m\u001b[43m,\u001b[49m\n\u001b[1;32m    274\u001b[0m \u001b[43m    \u001b[49m\u001b[43m)\u001b[49m\n",
      "File \u001b[0;32m~/Desktop/MIT_Classes/67920_final/.venv/lib/python3.12/site-packages/stable_baselines3/common/off_policy_algorithm.py:328\u001b[0m, in \u001b[0;36mOffPolicyAlgorithm.learn\u001b[0;34m(self, total_timesteps, callback, log_interval, tb_log_name, reset_num_timesteps, progress_bar)\u001b[0m\n\u001b[1;32m    325\u001b[0m \u001b[38;5;28;01massert\u001b[39;00m \u001b[38;5;28misinstance\u001b[39m(\u001b[38;5;28mself\u001b[39m\u001b[38;5;241m.\u001b[39mtrain_freq, TrainFreq)  \u001b[38;5;66;03m# check done in _setup_learn()\u001b[39;00m\n\u001b[1;32m    327\u001b[0m \u001b[38;5;28;01mwhile\u001b[39;00m \u001b[38;5;28mself\u001b[39m\u001b[38;5;241m.\u001b[39mnum_timesteps \u001b[38;5;241m<\u001b[39m total_timesteps:\n\u001b[0;32m--> 328\u001b[0m     rollout \u001b[38;5;241m=\u001b[39m \u001b[38;5;28;43mself\u001b[39;49m\u001b[38;5;241;43m.\u001b[39;49m\u001b[43mcollect_rollouts\u001b[49m\u001b[43m(\u001b[49m\n\u001b[1;32m    329\u001b[0m \u001b[43m        \u001b[49m\u001b[38;5;28;43mself\u001b[39;49m\u001b[38;5;241;43m.\u001b[39;49m\u001b[43menv\u001b[49m\u001b[43m,\u001b[49m\n\u001b[1;32m    330\u001b[0m \u001b[43m        \u001b[49m\u001b[43mtrain_freq\u001b[49m\u001b[38;5;241;43m=\u001b[39;49m\u001b[38;5;28;43mself\u001b[39;49m\u001b[38;5;241;43m.\u001b[39;49m\u001b[43mtrain_freq\u001b[49m\u001b[43m,\u001b[49m\n\u001b[1;32m    331\u001b[0m \u001b[43m        \u001b[49m\u001b[43maction_noise\u001b[49m\u001b[38;5;241;43m=\u001b[39;49m\u001b[38;5;28;43mself\u001b[39;49m\u001b[38;5;241;43m.\u001b[39;49m\u001b[43maction_noise\u001b[49m\u001b[43m,\u001b[49m\n\u001b[1;32m    332\u001b[0m \u001b[43m        \u001b[49m\u001b[43mcallback\u001b[49m\u001b[38;5;241;43m=\u001b[39;49m\u001b[43mcallback\u001b[49m\u001b[43m,\u001b[49m\n\u001b[1;32m    333\u001b[0m \u001b[43m        \u001b[49m\u001b[43mlearning_starts\u001b[49m\u001b[38;5;241;43m=\u001b[39;49m\u001b[38;5;28;43mself\u001b[39;49m\u001b[38;5;241;43m.\u001b[39;49m\u001b[43mlearning_starts\u001b[49m\u001b[43m,\u001b[49m\n\u001b[1;32m    334\u001b[0m \u001b[43m        \u001b[49m\u001b[43mreplay_buffer\u001b[49m\u001b[38;5;241;43m=\u001b[39;49m\u001b[38;5;28;43mself\u001b[39;49m\u001b[38;5;241;43m.\u001b[39;49m\u001b[43mreplay_buffer\u001b[49m\u001b[43m,\u001b[49m\n\u001b[1;32m    335\u001b[0m \u001b[43m        \u001b[49m\u001b[43mlog_interval\u001b[49m\u001b[38;5;241;43m=\u001b[39;49m\u001b[43mlog_interval\u001b[49m\u001b[43m,\u001b[49m\n\u001b[1;32m    336\u001b[0m \u001b[43m    \u001b[49m\u001b[43m)\u001b[49m\n\u001b[1;32m    338\u001b[0m     \u001b[38;5;28;01mif\u001b[39;00m \u001b[38;5;129;01mnot\u001b[39;00m rollout\u001b[38;5;241m.\u001b[39mcontinue_training:\n\u001b[1;32m    339\u001b[0m         \u001b[38;5;28;01mbreak\u001b[39;00m\n",
      "File \u001b[0;32m~/Desktop/MIT_Classes/67920_final/.venv/lib/python3.12/site-packages/stable_baselines3/common/off_policy_algorithm.py:560\u001b[0m, in \u001b[0;36mOffPolicyAlgorithm.collect_rollouts\u001b[0;34m(self, env, callback, train_freq, replay_buffer, action_noise, learning_starts, log_interval)\u001b[0m\n\u001b[1;32m    557\u001b[0m actions, buffer_actions \u001b[38;5;241m=\u001b[39m \u001b[38;5;28mself\u001b[39m\u001b[38;5;241m.\u001b[39m_sample_action(learning_starts, action_noise, env\u001b[38;5;241m.\u001b[39mnum_envs)\n\u001b[1;32m    559\u001b[0m \u001b[38;5;66;03m# Rescale and perform action\u001b[39;00m\n\u001b[0;32m--> 560\u001b[0m new_obs, rewards, dones, infos \u001b[38;5;241m=\u001b[39m \u001b[43menv\u001b[49m\u001b[38;5;241;43m.\u001b[39;49m\u001b[43mstep\u001b[49m\u001b[43m(\u001b[49m\u001b[43mactions\u001b[49m\u001b[43m)\u001b[49m\n\u001b[1;32m    562\u001b[0m \u001b[38;5;28mself\u001b[39m\u001b[38;5;241m.\u001b[39mnum_timesteps \u001b[38;5;241m+\u001b[39m\u001b[38;5;241m=\u001b[39m env\u001b[38;5;241m.\u001b[39mnum_envs\n\u001b[1;32m    563\u001b[0m num_collected_steps \u001b[38;5;241m+\u001b[39m\u001b[38;5;241m=\u001b[39m \u001b[38;5;241m1\u001b[39m\n",
      "File \u001b[0;32m~/Desktop/MIT_Classes/67920_final/.venv/lib/python3.12/site-packages/stable_baselines3/common/vec_env/base_vec_env.py:206\u001b[0m, in \u001b[0;36mVecEnv.step\u001b[0;34m(self, actions)\u001b[0m\n\u001b[1;32m    199\u001b[0m \u001b[38;5;250m\u001b[39m\u001b[38;5;124;03m\"\"\"\u001b[39;00m\n\u001b[1;32m    200\u001b[0m \u001b[38;5;124;03mStep the environments with the given action\u001b[39;00m\n\u001b[1;32m    201\u001b[0m \n\u001b[1;32m    202\u001b[0m \u001b[38;5;124;03m:param actions: the action\u001b[39;00m\n\u001b[1;32m    203\u001b[0m \u001b[38;5;124;03m:return: observation, reward, done, information\u001b[39;00m\n\u001b[1;32m    204\u001b[0m \u001b[38;5;124;03m\"\"\"\u001b[39;00m\n\u001b[1;32m    205\u001b[0m \u001b[38;5;28mself\u001b[39m\u001b[38;5;241m.\u001b[39mstep_async(actions)\n\u001b[0;32m--> 206\u001b[0m \u001b[38;5;28;01mreturn\u001b[39;00m \u001b[38;5;28;43mself\u001b[39;49m\u001b[38;5;241;43m.\u001b[39;49m\u001b[43mstep_wait\u001b[49m\u001b[43m(\u001b[49m\u001b[43m)\u001b[49m\n",
      "File \u001b[0;32m~/Desktop/MIT_Classes/67920_final/.venv/lib/python3.12/site-packages/stable_baselines3/common/vec_env/dummy_vec_env.py:58\u001b[0m, in \u001b[0;36mDummyVecEnv.step_wait\u001b[0;34m(self)\u001b[0m\n\u001b[1;32m     55\u001b[0m \u001b[38;5;28;01mdef\u001b[39;00m \u001b[38;5;21mstep_wait\u001b[39m(\u001b[38;5;28mself\u001b[39m) \u001b[38;5;241m-\u001b[39m\u001b[38;5;241m>\u001b[39m VecEnvStepReturn:\n\u001b[1;32m     56\u001b[0m     \u001b[38;5;66;03m# Avoid circular imports\u001b[39;00m\n\u001b[1;32m     57\u001b[0m     \u001b[38;5;28;01mfor\u001b[39;00m env_idx \u001b[38;5;129;01min\u001b[39;00m \u001b[38;5;28mrange\u001b[39m(\u001b[38;5;28mself\u001b[39m\u001b[38;5;241m.\u001b[39mnum_envs):\n\u001b[0;32m---> 58\u001b[0m         obs, \u001b[38;5;28mself\u001b[39m\u001b[38;5;241m.\u001b[39mbuf_rews[env_idx], terminated, truncated, \u001b[38;5;28mself\u001b[39m\u001b[38;5;241m.\u001b[39mbuf_infos[env_idx] \u001b[38;5;241m=\u001b[39m \u001b[38;5;28;43mself\u001b[39;49m\u001b[38;5;241;43m.\u001b[39;49m\u001b[43menvs\u001b[49m\u001b[43m[\u001b[49m\u001b[43menv_idx\u001b[49m\u001b[43m]\u001b[49m\u001b[38;5;241;43m.\u001b[39;49m\u001b[43mstep\u001b[49m\u001b[43m(\u001b[49m\n\u001b[1;32m     59\u001b[0m \u001b[43m            \u001b[49m\u001b[38;5;28;43mself\u001b[39;49m\u001b[38;5;241;43m.\u001b[39;49m\u001b[43mactions\u001b[49m\u001b[43m[\u001b[49m\u001b[43menv_idx\u001b[49m\u001b[43m]\u001b[49m\n\u001b[1;32m     60\u001b[0m \u001b[43m        \u001b[49m\u001b[43m)\u001b[49m\n\u001b[1;32m     61\u001b[0m         \u001b[38;5;66;03m# convert to SB3 VecEnv api\u001b[39;00m\n\u001b[1;32m     62\u001b[0m         \u001b[38;5;28mself\u001b[39m\u001b[38;5;241m.\u001b[39mbuf_dones[env_idx] \u001b[38;5;241m=\u001b[39m terminated \u001b[38;5;129;01mor\u001b[39;00m truncated\n",
      "File \u001b[0;32m~/Desktop/MIT_Classes/67920_final/.venv/lib/python3.12/site-packages/stable_baselines3/common/monitor.py:94\u001b[0m, in \u001b[0;36mMonitor.step\u001b[0;34m(self, action)\u001b[0m\n\u001b[1;32m     92\u001b[0m \u001b[38;5;28;01mif\u001b[39;00m \u001b[38;5;28mself\u001b[39m\u001b[38;5;241m.\u001b[39mneeds_reset:\n\u001b[1;32m     93\u001b[0m     \u001b[38;5;28;01mraise\u001b[39;00m \u001b[38;5;167;01mRuntimeError\u001b[39;00m(\u001b[38;5;124m\"\u001b[39m\u001b[38;5;124mTried to step environment that needs reset\u001b[39m\u001b[38;5;124m\"\u001b[39m)\n\u001b[0;32m---> 94\u001b[0m observation, reward, terminated, truncated, info \u001b[38;5;241m=\u001b[39m \u001b[38;5;28;43mself\u001b[39;49m\u001b[38;5;241;43m.\u001b[39;49m\u001b[43menv\u001b[49m\u001b[38;5;241;43m.\u001b[39;49m\u001b[43mstep\u001b[49m\u001b[43m(\u001b[49m\u001b[43maction\u001b[49m\u001b[43m)\u001b[49m\n\u001b[1;32m     95\u001b[0m \u001b[38;5;28mself\u001b[39m\u001b[38;5;241m.\u001b[39mrewards\u001b[38;5;241m.\u001b[39mappend(\u001b[38;5;28mfloat\u001b[39m(reward))\n\u001b[1;32m     96\u001b[0m \u001b[38;5;28;01mif\u001b[39;00m terminated \u001b[38;5;129;01mor\u001b[39;00m truncated:\n",
      "File \u001b[0;32m~/Desktop/MIT_Classes/67920_final/.venv/lib/python3.12/site-packages/sumo_rl/environment/env.py:320\u001b[0m, in \u001b[0;36mSumoEnvironment.step\u001b[0;34m(self, action)\u001b[0m\n\u001b[1;32m    318\u001b[0m terminated \u001b[38;5;241m=\u001b[39m \u001b[38;5;28;01mFalse\u001b[39;00m  \u001b[38;5;66;03m# there are no 'terminal' states in this environment\u001b[39;00m\n\u001b[1;32m    319\u001b[0m truncated \u001b[38;5;241m=\u001b[39m dones[\u001b[38;5;124m\"\u001b[39m\u001b[38;5;124m__all__\u001b[39m\u001b[38;5;124m\"\u001b[39m]  \u001b[38;5;66;03m# episode ends when sim_step >= max_steps\u001b[39;00m\n\u001b[0;32m--> 320\u001b[0m info \u001b[38;5;241m=\u001b[39m \u001b[38;5;28;43mself\u001b[39;49m\u001b[38;5;241;43m.\u001b[39;49m\u001b[43m_compute_info\u001b[49m\u001b[43m(\u001b[49m\u001b[43m)\u001b[49m\n\u001b[1;32m    322\u001b[0m \u001b[38;5;28;01mif\u001b[39;00m \u001b[38;5;28mself\u001b[39m\u001b[38;5;241m.\u001b[39msingle_agent:\n\u001b[1;32m    323\u001b[0m     \u001b[38;5;28;01mreturn\u001b[39;00m observations[\u001b[38;5;28mself\u001b[39m\u001b[38;5;241m.\u001b[39mts_ids[\u001b[38;5;241m0\u001b[39m]], rewards[\u001b[38;5;28mself\u001b[39m\u001b[38;5;241m.\u001b[39mts_ids[\u001b[38;5;241m0\u001b[39m]], terminated, truncated, info\n",
      "File \u001b[0;32m~/Desktop/MIT_Classes/67920_final/.venv/lib/python3.12/site-packages/sumo_rl/environment/env.py:359\u001b[0m, in \u001b[0;36mSumoEnvironment._compute_info\u001b[0;34m(self)\u001b[0m\n\u001b[1;32m    357\u001b[0m info \u001b[38;5;241m=\u001b[39m {\u001b[38;5;124m\"\u001b[39m\u001b[38;5;124mstep\u001b[39m\u001b[38;5;124m\"\u001b[39m: \u001b[38;5;28mself\u001b[39m\u001b[38;5;241m.\u001b[39msim_step}\n\u001b[1;32m    358\u001b[0m \u001b[38;5;28;01mif\u001b[39;00m \u001b[38;5;28mself\u001b[39m\u001b[38;5;241m.\u001b[39madd_system_info:\n\u001b[0;32m--> 359\u001b[0m     info\u001b[38;5;241m.\u001b[39mupdate(\u001b[38;5;28;43mself\u001b[39;49m\u001b[38;5;241;43m.\u001b[39;49m\u001b[43m_get_system_info\u001b[49m\u001b[43m(\u001b[49m\u001b[43m)\u001b[49m)\n\u001b[1;32m    360\u001b[0m \u001b[38;5;28;01mif\u001b[39;00m \u001b[38;5;28mself\u001b[39m\u001b[38;5;241m.\u001b[39madd_per_agent_info:\n\u001b[1;32m    361\u001b[0m     info\u001b[38;5;241m.\u001b[39mupdate(\u001b[38;5;28mself\u001b[39m\u001b[38;5;241m.\u001b[39m_get_per_agent_info())\n",
      "File \u001b[0;32m~/Desktop/MIT_Classes/67920_final/.venv/lib/python3.12/site-packages/sumo_rl/environment/env.py:419\u001b[0m, in \u001b[0;36mSumoEnvironment._get_system_info\u001b[0;34m(self)\u001b[0m\n\u001b[1;32m    417\u001b[0m vehicles \u001b[38;5;241m=\u001b[39m \u001b[38;5;28mself\u001b[39m\u001b[38;5;241m.\u001b[39msumo\u001b[38;5;241m.\u001b[39mvehicle\u001b[38;5;241m.\u001b[39mgetIDList()\n\u001b[1;32m    418\u001b[0m speeds \u001b[38;5;241m=\u001b[39m [\u001b[38;5;28mself\u001b[39m\u001b[38;5;241m.\u001b[39msumo\u001b[38;5;241m.\u001b[39mvehicle\u001b[38;5;241m.\u001b[39mgetSpeed(vehicle) \u001b[38;5;28;01mfor\u001b[39;00m vehicle \u001b[38;5;129;01min\u001b[39;00m vehicles]\n\u001b[0;32m--> 419\u001b[0m waiting_times \u001b[38;5;241m=\u001b[39m [\u001b[38;5;28;43mself\u001b[39;49m\u001b[38;5;241;43m.\u001b[39;49m\u001b[43msumo\u001b[49m\u001b[38;5;241;43m.\u001b[39;49m\u001b[43mvehicle\u001b[49m\u001b[38;5;241;43m.\u001b[39;49m\u001b[43mgetWaitingTime\u001b[49m\u001b[43m(\u001b[49m\u001b[43mvehicle\u001b[49m\u001b[43m)\u001b[49m \u001b[38;5;28;01mfor\u001b[39;00m vehicle \u001b[38;5;129;01min\u001b[39;00m vehicles]\n\u001b[1;32m    420\u001b[0m \u001b[38;5;28;01mreturn\u001b[39;00m {\n\u001b[1;32m    421\u001b[0m     \u001b[38;5;66;03m# In SUMO, a vehicle is considered halting if its speed is below 0.1 m/s\u001b[39;00m\n\u001b[1;32m    422\u001b[0m     \u001b[38;5;124m\"\u001b[39m\u001b[38;5;124msystem_total_stopped\u001b[39m\u001b[38;5;124m\"\u001b[39m: \u001b[38;5;28msum\u001b[39m(\u001b[38;5;28mint\u001b[39m(speed \u001b[38;5;241m<\u001b[39m \u001b[38;5;241m0.1\u001b[39m) \u001b[38;5;28;01mfor\u001b[39;00m speed \u001b[38;5;129;01min\u001b[39;00m speeds),\n\u001b[0;32m   (...)\u001b[0m\n\u001b[1;32m    425\u001b[0m     \u001b[38;5;124m\"\u001b[39m\u001b[38;5;124msystem_mean_speed\u001b[39m\u001b[38;5;124m\"\u001b[39m: \u001b[38;5;241m0.0\u001b[39m \u001b[38;5;28;01mif\u001b[39;00m \u001b[38;5;28mlen\u001b[39m(vehicles) \u001b[38;5;241m==\u001b[39m \u001b[38;5;241m0\u001b[39m \u001b[38;5;28;01melse\u001b[39;00m np\u001b[38;5;241m.\u001b[39mmean(speeds),\n\u001b[1;32m    426\u001b[0m }\n",
      "File \u001b[0;32m~/Desktop/MIT_Classes/67920_final/.venv/lib/python3.12/site-packages/traci/_vehicle.py:568\u001b[0m, in \u001b[0;36mVehicleDomain.getWaitingTime\u001b[0;34m(self, vehID)\u001b[0m\n\u001b[1;32m    561\u001b[0m \u001b[38;5;28;01mdef\u001b[39;00m \u001b[38;5;21mgetWaitingTime\u001b[39m(\u001b[38;5;28mself\u001b[39m, vehID):\n\u001b[1;32m    562\u001b[0m \u001b[38;5;250m    \u001b[39m\u001b[38;5;124;03m\"\"\"getWaitingTime(string) -> double\u001b[39;00m\n\u001b[1;32m    563\u001b[0m \u001b[38;5;124;03m    The waiting time of a vehicle is defined as the time (in seconds) spent with a\u001b[39;00m\n\u001b[1;32m    564\u001b[0m \u001b[38;5;124;03m    speed below 0.1m/s since the last time it was faster than 0.1m/s.\u001b[39;00m\n\u001b[1;32m    565\u001b[0m \u001b[38;5;124;03m    (basically, the waiting time of a vehicle is reset to 0 every time it moves).\u001b[39;00m\n\u001b[1;32m    566\u001b[0m \u001b[38;5;124;03m    A vehicle that is stopping intentionally with a <stop> does not accumulate waiting time.\u001b[39;00m\n\u001b[1;32m    567\u001b[0m \u001b[38;5;124;03m    \"\"\"\u001b[39;00m\n\u001b[0;32m--> 568\u001b[0m     \u001b[38;5;28;01mreturn\u001b[39;00m \u001b[38;5;28;43mself\u001b[39;49m\u001b[38;5;241;43m.\u001b[39;49m\u001b[43m_getUniversal\u001b[49m\u001b[43m(\u001b[49m\u001b[43mtc\u001b[49m\u001b[38;5;241;43m.\u001b[39;49m\u001b[43mVAR_WAITING_TIME\u001b[49m\u001b[43m,\u001b[49m\u001b[43m \u001b[49m\u001b[43mvehID\u001b[49m\u001b[43m)\u001b[49m\n",
      "File \u001b[0;32m~/Desktop/MIT_Classes/67920_final/.venv/lib/python3.12/site-packages/traci/domain.py:149\u001b[0m, in \u001b[0;36mDomain._getUniversal\u001b[0;34m(self, varID, objectID, format, *values)\u001b[0m\n\u001b[1;32m    147\u001b[0m \u001b[38;5;28;01mif\u001b[39;00m \u001b[38;5;28mself\u001b[39m\u001b[38;5;241m.\u001b[39m_deprecatedFor:\n\u001b[1;32m    148\u001b[0m     warnings\u001b[38;5;241m.\u001b[39mwarn(\u001b[38;5;124m\"\u001b[39m\u001b[38;5;124mThe domain \u001b[39m\u001b[38;5;132;01m%s\u001b[39;00m\u001b[38;5;124m is deprecated, use \u001b[39m\u001b[38;5;132;01m%s\u001b[39;00m\u001b[38;5;124m instead.\u001b[39m\u001b[38;5;124m\"\u001b[39m \u001b[38;5;241m%\u001b[39m (\u001b[38;5;28mself\u001b[39m\u001b[38;5;241m.\u001b[39m_name, \u001b[38;5;28mself\u001b[39m\u001b[38;5;241m.\u001b[39m_deprecatedFor))\n\u001b[0;32m--> 149\u001b[0m \u001b[38;5;28;01mreturn\u001b[39;00m _parse(\u001b[38;5;28mself\u001b[39m\u001b[38;5;241m.\u001b[39m_retValFunc, varID, \u001b[38;5;28;43mself\u001b[39;49m\u001b[38;5;241;43m.\u001b[39;49m\u001b[43m_getCmd\u001b[49m\u001b[43m(\u001b[49m\u001b[43mvarID\u001b[49m\u001b[43m,\u001b[49m\u001b[43m \u001b[49m\u001b[43mobjectID\u001b[49m\u001b[43m,\u001b[49m\u001b[43m \u001b[49m\u001b[38;5;28;43mformat\u001b[39;49m\u001b[43m,\u001b[49m\u001b[43m \u001b[49m\u001b[38;5;241;43m*\u001b[39;49m\u001b[43mvalues\u001b[49m\u001b[43m)\u001b[49m)\n",
      "File \u001b[0;32m~/Desktop/MIT_Classes/67920_final/.venv/lib/python3.12/site-packages/traci/domain.py:154\u001b[0m, in \u001b[0;36mDomain._getCmd\u001b[0;34m(self, varID, objID, format, *values)\u001b[0m\n\u001b[1;32m    152\u001b[0m \u001b[38;5;28;01mif\u001b[39;00m \u001b[38;5;28mself\u001b[39m\u001b[38;5;241m.\u001b[39m_connection \u001b[38;5;129;01mis\u001b[39;00m \u001b[38;5;28;01mNone\u001b[39;00m:\n\u001b[1;32m    153\u001b[0m     \u001b[38;5;28;01mraise\u001b[39;00m FatalTraCIError(\u001b[38;5;124m\"\u001b[39m\u001b[38;5;124mNot connected.\u001b[39m\u001b[38;5;124m\"\u001b[39m)\n\u001b[0;32m--> 154\u001b[0m r \u001b[38;5;241m=\u001b[39m \u001b[38;5;28;43mself\u001b[39;49m\u001b[38;5;241;43m.\u001b[39;49m\u001b[43m_connection\u001b[49m\u001b[38;5;241;43m.\u001b[39;49m\u001b[43m_sendCmd\u001b[49m\u001b[43m(\u001b[49m\u001b[38;5;28;43mself\u001b[39;49m\u001b[38;5;241;43m.\u001b[39;49m\u001b[43m_cmdGetID\u001b[49m\u001b[43m,\u001b[49m\u001b[43m \u001b[49m\u001b[43mvarID\u001b[49m\u001b[43m,\u001b[49m\u001b[43m \u001b[49m\u001b[43mobjID\u001b[49m\u001b[43m,\u001b[49m\u001b[43m \u001b[49m\u001b[38;5;28;43mformat\u001b[39;49m\u001b[43m,\u001b[49m\u001b[43m \u001b[49m\u001b[38;5;241;43m*\u001b[39;49m\u001b[43mvalues\u001b[49m\u001b[43m)\u001b[49m\n\u001b[1;32m    155\u001b[0m r\u001b[38;5;241m.\u001b[39mreadLength()\n\u001b[1;32m    156\u001b[0m response, retVarID \u001b[38;5;241m=\u001b[39m r\u001b[38;5;241m.\u001b[39mread(\u001b[38;5;124m\"\u001b[39m\u001b[38;5;124m!BB\u001b[39m\u001b[38;5;124m\"\u001b[39m)\n",
      "File \u001b[0;32m~/Desktop/MIT_Classes/67920_final/.venv/lib/python3.12/site-packages/traci/connection.py:232\u001b[0m, in \u001b[0;36mConnection._sendCmd\u001b[0;34m(self, cmdID, varID, objID, format, *values)\u001b[0m\n\u001b[1;32m    230\u001b[0m     \u001b[38;5;28mself\u001b[39m\u001b[38;5;241m.\u001b[39m_string \u001b[38;5;241m+\u001b[39m\u001b[38;5;241m=\u001b[39m struct\u001b[38;5;241m.\u001b[39mpack(\u001b[38;5;124m\"\u001b[39m\u001b[38;5;124m!i\u001b[39m\u001b[38;5;124m\"\u001b[39m, \u001b[38;5;28mlen\u001b[39m(objID)) \u001b[38;5;241m+\u001b[39m objID\n\u001b[1;32m    231\u001b[0m \u001b[38;5;28mself\u001b[39m\u001b[38;5;241m.\u001b[39m_string \u001b[38;5;241m+\u001b[39m\u001b[38;5;241m=\u001b[39m packed\n\u001b[0;32m--> 232\u001b[0m \u001b[38;5;28;01mreturn\u001b[39;00m \u001b[38;5;28;43mself\u001b[39;49m\u001b[38;5;241;43m.\u001b[39;49m\u001b[43m_sendExact\u001b[49m\u001b[43m(\u001b[49m\u001b[43m)\u001b[49m\n",
      "File \u001b[0;32m~/Desktop/MIT_Classes/67920_final/.venv/lib/python3.12/site-packages/traci/connection.py:130\u001b[0m, in \u001b[0;36mConnection._sendExact\u001b[0;34m(self)\u001b[0m\n\u001b[1;32m    128\u001b[0m \u001b[38;5;28;01mif\u001b[39;00m _DEBUG:\n\u001b[1;32m    129\u001b[0m     \u001b[38;5;28mprint\u001b[39m(\u001b[38;5;124m\"\u001b[39m\u001b[38;5;124msending\u001b[39m\u001b[38;5;124m\"\u001b[39m, Storage(length \u001b[38;5;241m+\u001b[39m \u001b[38;5;28mself\u001b[39m\u001b[38;5;241m.\u001b[39m_string)\u001b[38;5;241m.\u001b[39mgetDebugString())\n\u001b[0;32m--> 130\u001b[0m \u001b[38;5;28;43mself\u001b[39;49m\u001b[38;5;241;43m.\u001b[39;49m\u001b[43m_socket\u001b[49m\u001b[38;5;241;43m.\u001b[39;49m\u001b[43msend\u001b[49m\u001b[43m(\u001b[49m\u001b[43mlength\u001b[49m\u001b[43m \u001b[49m\u001b[38;5;241;43m+\u001b[39;49m\u001b[43m \u001b[49m\u001b[38;5;28;43mself\u001b[39;49m\u001b[38;5;241;43m.\u001b[39;49m\u001b[43m_string\u001b[49m\u001b[43m)\u001b[49m\n\u001b[1;32m    131\u001b[0m result \u001b[38;5;241m=\u001b[39m \u001b[38;5;28mself\u001b[39m\u001b[38;5;241m.\u001b[39m_recvExact()\n\u001b[1;32m    132\u001b[0m \u001b[38;5;28;01mif\u001b[39;00m _DEBUG:\n",
      "\u001b[0;31mKeyboardInterrupt\u001b[0m: "
     ]
    }
   ],
   "source": [
    "train_DQN('2x2grid/2x2o2')"
   ]
  },
  {
   "cell_type": "code",
   "execution_count": 9,
   "metadata": {},
   "outputs": [
    {
     "name": "stdout",
     "output_type": "stream",
     "text": [
      " Retrying in 1 seconds\n",
      "Step #0.00 (0ms ?*RT. ?UPS, TraCI: 17ms, vehicles TOT 0 ACT 0 BUF 0)                     \n",
      " Retrying in 1 seconds\n",
      "Using mps device\n",
      "Wrapping the env with a `Monitor` wrapper\n",
      "Wrapping the env in a DummyVecEnv.\n",
      "Step #0.00 (0ms ?*RT. ?UPS, TraCI: 72ms, vehicles TOT 0 ACT 0 BUF 0)                     \n",
      " Retrying in 1 seconds\n",
      "Step #1000.00 (1ms ~= 1000.00*RT, ~93000.00UPS, TraCI: 22ms, vehicles TOT 841 ACT 93 BUF 19\n",
      " Retrying in 1 seconds\n",
      "Step #1000.00 (1ms ~= 1000.00*RT, ~76000.00UPS, TraCI: 18ms, vehicles TOT 860 ACT 76 BUF 18\n",
      " Retrying in 1 seconds\n",
      "Step #1000.00 (1ms ~= 1000.00*RT, ~92000.00UPS, TraCI: 19ms, vehicles TOT 873 ACT 92 BUF 19\n",
      " Retrying in 1 seconds\n",
      "Step #1000.00 (0ms ?*RT. ?UPS, TraCI: 19ms, vehicles TOT 942 ACT 79 BUF 1836)              \n",
      " Retrying in 1 seconds\n",
      "----------------------------------\n",
      "| rollout/            |          |\n",
      "|    ep_len_mean      | 200      |\n",
      "|    ep_rew_mean      | -149     |\n",
      "|    exploration_rate | 0.018    |\n",
      "| time/               |          |\n",
      "|    episodes         | 4        |\n",
      "|    fps              | 28       |\n",
      "|    time_elapsed     | 28       |\n",
      "|    total_timesteps  | 800      |\n",
      "| train/              |          |\n",
      "|    learning_rate    | 0.001    |\n",
      "|    loss             | 0.765    |\n",
      "|    n_updates        | 799      |\n",
      "----------------------------------\n",
      "Step #1000.00 (1ms ~= 1000.00*RT, ~94000.00UPS, TraCI: 22ms, vehicles TOT 802 ACT 94 BUF 19\n",
      " Retrying in 1 seconds\n",
      "Step #1000.00 (1ms ~= 1000.00*RT, ~93000.00UPS, TraCI: 22ms, vehicles TOT 740 ACT 93 BUF 20\n",
      " Retrying in 1 seconds\n",
      "Step #1000.00 (1ms ~= 1000.00*RT, ~91000.00UPS, TraCI: 21ms, vehicles TOT 747 ACT 91 BUF 20\n",
      " Retrying in 1 seconds\n",
      "Step #1000.00 (1ms ~= 1000.00*RT, ~88000.00UPS, TraCI: 20ms, vehicles TOT 823 ACT 88 BUF 20\n",
      " Retrying in 1 seconds\n",
      "----------------------------------\n",
      "| rollout/            |          |\n",
      "|    ep_len_mean      | 200      |\n",
      "|    ep_rew_mean      | -157     |\n",
      "|    exploration_rate | 0.01     |\n",
      "| time/               |          |\n",
      "|    episodes         | 8        |\n",
      "|    fps              | 27       |\n",
      "|    time_elapsed     | 57       |\n",
      "|    total_timesteps  | 1600     |\n",
      "| train/              |          |\n",
      "|    learning_rate    | 0.001    |\n",
      "|    loss             | 0.0459   |\n",
      "|    n_updates        | 1599     |\n",
      "----------------------------------\n",
      "Step #1000.00 (1ms ~= 1000.00*RT, ~96000.00UPS, TraCI: 21ms, vehicles TOT 917 ACT 96 BUF 18\n",
      " Retrying in 1 seconds\n",
      "Step #1000.00 (1ms ~= 1000.00*RT, ~94000.00UPS, TraCI: 21ms, vehicles TOT 944 ACT 94 BUF 18\n",
      " Retrying in 1 seconds\n",
      "Step #1000.00 (1ms ~= 1000.00*RT, ~96000.00UPS, TraCI: 20ms, vehicles TOT 917 ACT 96 BUF 18\n",
      " Retrying in 1 seconds\n",
      "Step #1000.00 (1ms ~= 1000.00*RT, ~96000.00UPS, TraCI: 22ms, vehicles TOT 915 ACT 96 BUF 19\n",
      " Retrying in 1 seconds\n",
      "----------------------------------\n",
      "| rollout/            |          |\n",
      "|    ep_len_mean      | 200      |\n",
      "|    ep_rew_mean      | -162     |\n",
      "|    exploration_rate | 0.01     |\n",
      "| time/               |          |\n",
      "|    episodes         | 12       |\n",
      "|    fps              | 27       |\n",
      "|    time_elapsed     | 86       |\n",
      "|    total_timesteps  | 2400     |\n",
      "| train/              |          |\n",
      "|    learning_rate    | 0.001    |\n",
      "|    loss             | 0.0365   |\n",
      "|    n_updates        | 2399     |\n",
      "----------------------------------\n",
      "Step #1000.00 (1ms ~= 1000.00*RT, ~92000.00UPS, TraCI: 21ms, vehicles TOT 846 ACT 92 BUF 19\n",
      " Retrying in 1 seconds\n",
      "Step #1000.00 (0ms ?*RT. ?UPS, TraCI: 22ms, vehicles TOT 855 ACT 101 BUF 1942)             \n",
      " Retrying in 1 seconds\n",
      "Step #1000.00 (1ms ~= 1000.00*RT, ~96000.00UPS, TraCI: 21ms, vehicles TOT 860 ACT 96 BUF 19\n",
      " Retrying in 1 seconds\n",
      "Step #1000.00 (1ms ~= 1000.00*RT, ~94000.00UPS, TraCI: 22ms, vehicles TOT 840 ACT 94 BUF 19\n",
      " Retrying in 1 seconds\n",
      "----------------------------------\n",
      "| rollout/            |          |\n",
      "|    ep_len_mean      | 200      |\n",
      "|    ep_rew_mean      | -163     |\n",
      "|    exploration_rate | 0.01     |\n",
      "| time/               |          |\n",
      "|    episodes         | 16       |\n",
      "|    fps              | 27       |\n",
      "|    time_elapsed     | 115      |\n",
      "|    total_timesteps  | 3200     |\n",
      "| train/              |          |\n",
      "|    learning_rate    | 0.001    |\n",
      "|    loss             | 0.00296  |\n",
      "|    n_updates        | 3199     |\n",
      "----------------------------------\n",
      "Step #1000.00 (1ms ~= 1000.00*RT, ~94000.00UPS, TraCI: 21ms, vehicles TOT 844 ACT 94 BUF 19\n",
      " Retrying in 1 seconds\n",
      "Step #1000.00 (1ms ~= 1000.00*RT, ~95000.00UPS, TraCI: 22ms, vehicles TOT 854 ACT 95 BUF 19\n",
      " Retrying in 1 seconds\n",
      "Step #1000.00 (0ms ?*RT. ?UPS, TraCI: 22ms, vehicles TOT 815 ACT 93 BUF 1953)              \n",
      " Retrying in 1 seconds\n",
      "Step #1000.00 (1ms ~= 1000.00*RT, ~91000.00UPS, TraCI: 21ms, vehicles TOT 830 ACT 91 BUF 19\n",
      " Retrying in 1 seconds\n",
      "----------------------------------\n",
      "| rollout/            |          |\n",
      "|    ep_len_mean      | 200      |\n",
      "|    ep_rew_mean      | -165     |\n",
      "|    exploration_rate | 0.01     |\n",
      "| time/               |          |\n",
      "|    episodes         | 20       |\n",
      "|    fps              | 27       |\n",
      "|    time_elapsed     | 144      |\n",
      "|    total_timesteps  | 4000     |\n",
      "| train/              |          |\n",
      "|    learning_rate    | 0.001    |\n",
      "|    loss             | 0.141    |\n",
      "|    n_updates        | 3999     |\n",
      "----------------------------------\n",
      "Step #1000.00 (1ms ~= 1000.00*RT, ~94000.00UPS, TraCI: 22ms, vehicles TOT 781 ACT 94 BUF 20\n",
      " Retrying in 1 seconds\n",
      "Step #1000.00 (1ms ~= 1000.00*RT, ~94000.00UPS, TraCI: 22ms, vehicles TOT 810 ACT 94 BUF 20\n",
      " Retrying in 1 seconds\n",
      "Step #1000.00 (1ms ~= 1000.00*RT, ~94000.00UPS, TraCI: 20ms, vehicles TOT 809 ACT 94 BUF 19\n",
      " Retrying in 1 seconds\n",
      "Step #1000.00 (1ms ~= 1000.00*RT, ~93000.00UPS, TraCI: 20ms, vehicles TOT 871 ACT 93 BUF 19\n",
      " Retrying in 1 seconds\n",
      "----------------------------------\n",
      "| rollout/            |          |\n",
      "|    ep_len_mean      | 200      |\n",
      "|    ep_rew_mean      | -166     |\n",
      "|    exploration_rate | 0.01     |\n",
      "| time/               |          |\n",
      "|    episodes         | 24       |\n",
      "|    fps              | 27       |\n",
      "|    time_elapsed     | 174      |\n",
      "|    total_timesteps  | 4800     |\n",
      "| train/              |          |\n",
      "|    learning_rate    | 0.001    |\n",
      "|    loss             | 0.0126   |\n",
      "|    n_updates        | 4799     |\n",
      "----------------------------------\n",
      "Step #1000.00 (1ms ~= 1000.00*RT, ~97000.00UPS, TraCI: 21ms, vehicles TOT 866 ACT 97 BUF 18\n",
      " Retrying in 1 seconds\n",
      "Step #1000.00 (1ms ~= 1000.00*RT, ~95000.00UPS, TraCI: 21ms, vehicles TOT 920 ACT 95 BUF 18\n",
      " Retrying in 1 seconds\n",
      "Step #1000.00 (1ms ~= 1000.00*RT, ~93000.00UPS, TraCI: 21ms, vehicles TOT 929 ACT 93 BUF 18\n",
      " Retrying in 1 seconds\n",
      "Step #1000.00 (1ms ~= 1000.00*RT, ~97000.00UPS, TraCI: 22ms, vehicles TOT 905 ACT 97 BUF 19\n",
      " Retrying in 1 seconds\n",
      "----------------------------------\n",
      "| rollout/            |          |\n",
      "|    ep_len_mean      | 200      |\n",
      "|    ep_rew_mean      | -166     |\n",
      "|    exploration_rate | 0.01     |\n",
      "| time/               |          |\n",
      "|    episodes         | 28       |\n",
      "|    fps              | 27       |\n",
      "|    time_elapsed     | 203      |\n",
      "|    total_timesteps  | 5600     |\n",
      "| train/              |          |\n",
      "|    learning_rate    | 0.001    |\n",
      "|    loss             | 0.0252   |\n",
      "|    n_updates        | 5599     |\n",
      "----------------------------------\n",
      "Step #1000.00 (1ms ~= 1000.00*RT, ~94000.00UPS, TraCI: 21ms, vehicles TOT 910 ACT 94 BUF 18\n",
      " Retrying in 1 seconds\n",
      "Step #1000.00 (1ms ~= 1000.00*RT, ~94000.00UPS, TraCI: 21ms, vehicles TOT 896 ACT 94 BUF 18\n",
      " Retrying in 1 seconds\n",
      "Step #1000.00 (1ms ~= 1000.00*RT, ~93000.00UPS, TraCI: 20ms, vehicles TOT 930 ACT 93 BUF 18\n",
      " Retrying in 1 seconds\n",
      "Step #1000.00 (1ms ~= 1000.00*RT, ~92000.00UPS, TraCI: 21ms, vehicles TOT 897 ACT 92 BUF 19\n",
      " Retrying in 1 seconds\n",
      "----------------------------------\n",
      "| rollout/            |          |\n",
      "|    ep_len_mean      | 200      |\n",
      "|    ep_rew_mean      | -167     |\n",
      "|    exploration_rate | 0.01     |\n",
      "| time/               |          |\n",
      "|    episodes         | 32       |\n",
      "|    fps              | 27       |\n",
      "|    time_elapsed     | 232      |\n",
      "|    total_timesteps  | 6400     |\n",
      "| train/              |          |\n",
      "|    learning_rate    | 0.001    |\n",
      "|    loss             | 0.00316  |\n",
      "|    n_updates        | 6399     |\n",
      "----------------------------------\n",
      "Step #1000.00 (0ms ?*RT. ?UPS, TraCI: 21ms, vehicles TOT 888 ACT 91 BUF 1898)              \n",
      " Retrying in 1 seconds\n",
      "Step #1000.00 (1ms ~= 1000.00*RT, ~98000.00UPS, TraCI: 21ms, vehicles TOT 922 ACT 98 BUF 18\n",
      " Retrying in 1 seconds\n",
      "Step #1000.00 (1ms ~= 1000.00*RT, ~90000.00UPS, TraCI: 21ms, vehicles TOT 893 ACT 90 BUF 19\n",
      " Retrying in 1 seconds\n",
      "Step #1000.00 (1ms ~= 1000.00*RT, ~98000.00UPS, TraCI: 22ms, vehicles TOT 881 ACT 98 BUF 19\n",
      " Retrying in 1 seconds\n",
      "----------------------------------\n",
      "| rollout/            |          |\n",
      "|    ep_len_mean      | 200      |\n",
      "|    ep_rew_mean      | -167     |\n",
      "|    exploration_rate | 0.01     |\n",
      "| time/               |          |\n",
      "|    episodes         | 36       |\n",
      "|    fps              | 27       |\n",
      "|    time_elapsed     | 260      |\n",
      "|    total_timesteps  | 7200     |\n",
      "| train/              |          |\n",
      "|    learning_rate    | 0.001    |\n",
      "|    loss             | 0.0101   |\n",
      "|    n_updates        | 7199     |\n",
      "----------------------------------\n",
      "Step #1000.00 (1ms ~= 1000.00*RT, ~95000.00UPS, TraCI: 21ms, vehicles TOT 883 ACT 95 BUF 19\n",
      " Retrying in 1 seconds\n",
      "Step #1000.00 (1ms ~= 1000.00*RT, ~94000.00UPS, TraCI: 22ms, vehicles TOT 871 ACT 94 BUF 19\n",
      " Retrying in 1 seconds\n",
      "Step #1000.00 (1ms ~= 1000.00*RT, ~97000.00UPS, TraCI: 21ms, vehicles TOT 890 ACT 97 BUF 19\n",
      " Retrying in 1 seconds\n",
      "Step #1000.00 (1ms ~= 1000.00*RT, ~93000.00UPS, TraCI: 21ms, vehicles TOT 898 ACT 93 BUF 18\n",
      " Retrying in 1 seconds\n",
      "----------------------------------\n",
      "| rollout/            |          |\n",
      "|    ep_len_mean      | 200      |\n",
      "|    ep_rew_mean      | -167     |\n",
      "|    exploration_rate | 0.01     |\n",
      "| time/               |          |\n",
      "|    episodes         | 40       |\n",
      "|    fps              | 27       |\n",
      "|    time_elapsed     | 289      |\n",
      "|    total_timesteps  | 8000     |\n",
      "| train/              |          |\n",
      "|    learning_rate    | 0.001    |\n",
      "|    loss             | 0.0246   |\n",
      "|    n_updates        | 7999     |\n",
      "----------------------------------\n",
      "Step #1000.00 (1ms ~= 1000.00*RT, ~96000.00UPS, TraCI: 21ms, vehicles TOT 831 ACT 96 BUF 19\n",
      " Retrying in 1 seconds\n",
      "Step #1000.00 (1ms ~= 1000.00*RT, ~93000.00UPS, TraCI: 20ms, vehicles TOT 827 ACT 93 BUF 19\n",
      " Retrying in 1 seconds\n",
      "Step #1000.00 (1ms ~= 1000.00*RT, ~94000.00UPS, TraCI: 21ms, vehicles TOT 825 ACT 94 BUF 19\n",
      " Retrying in 1 seconds\n",
      "Step #1000.00 (1ms ~= 1000.00*RT, ~93000.00UPS, TraCI: 21ms, vehicles TOT 856 ACT 93 BUF 19\n",
      " Retrying in 1 seconds\n",
      "----------------------------------\n",
      "| rollout/            |          |\n",
      "|    ep_len_mean      | 200      |\n",
      "|    ep_rew_mean      | -168     |\n",
      "|    exploration_rate | 0.01     |\n",
      "| time/               |          |\n",
      "|    episodes         | 44       |\n",
      "|    fps              | 27       |\n",
      "|    time_elapsed     | 317      |\n",
      "|    total_timesteps  | 8800     |\n",
      "| train/              |          |\n",
      "|    learning_rate    | 0.001    |\n",
      "|    loss             | 0.0173   |\n",
      "|    n_updates        | 8799     |\n",
      "----------------------------------\n",
      "Step #1000.00 (1ms ~= 1000.00*RT, ~94000.00UPS, TraCI: 22ms, vehicles TOT 844 ACT 94 BUF 19\n",
      " Retrying in 1 seconds\n",
      "Step #1000.00 (0ms ?*RT. ?UPS, TraCI: 21ms, vehicles TOT 812 ACT 93 BUF 1906)              \n",
      " Retrying in 1 seconds\n",
      "Step #1000.00 (1ms ~= 1000.00*RT, ~98000.00UPS, TraCI: 22ms, vehicles TOT 856 ACT 98 BUF 19\n",
      " Retrying in 1 seconds\n",
      "Step #1000.00 (1ms ~= 1000.00*RT, ~97000.00UPS, TraCI: 22ms, vehicles TOT 867 ACT 97 BUF 20\n",
      " Retrying in 1 seconds\n",
      "----------------------------------\n",
      "| rollout/            |          |\n",
      "|    ep_len_mean      | 200      |\n",
      "|    ep_rew_mean      | -168     |\n",
      "|    exploration_rate | 0.01     |\n",
      "| time/               |          |\n",
      "|    episodes         | 48       |\n",
      "|    fps              | 27       |\n",
      "|    time_elapsed     | 345      |\n",
      "|    total_timesteps  | 9600     |\n",
      "| train/              |          |\n",
      "|    learning_rate    | 0.001    |\n",
      "|    loss             | 0.0118   |\n",
      "|    n_updates        | 9599     |\n",
      "----------------------------------\n",
      "Step #1000.00 (1ms ~= 1000.00*RT, ~93000.00UPS, TraCI: 21ms, vehicles TOT 900 ACT 93 BUF 19\n",
      " Retrying in 1 seconds\n",
      "Step #1000.00 (1ms ~= 1000.00*RT, ~96000.00UPS, TraCI: 21ms, vehicles TOT 902 ACT 96 BUF 18\n",
      " Retrying in 1 seconds\n"
     ]
    }
   ],
   "source": [
    "train_DQN('2x2grid/2x2o7')"
   ]
  },
  {
   "cell_type": "code",
   "execution_count": 7,
   "metadata": {},
   "outputs": [
    {
     "name": "stdout",
     "output_type": "stream",
     "text": [
      " Retrying in 1 seconds\n",
      "Step #0.00 (0ms ?*RT. ?UPS, TraCI: 18ms, vehicles TOT 0 ACT 0 BUF 0)                     \n",
      " Retrying in 1 seconds\n",
      "Using mps device\n",
      "Wrapping the env with a `Monitor` wrapper\n",
      "Wrapping the env in a DummyVecEnv.\n",
      "Step #0.00 (0ms ?*RT. ?UPS, TraCI: 80ms, vehicles TOT 0 ACT 0 BUF 0)                     \n",
      " Retrying in 1 seconds\n",
      "Step #1000.00 (0ms ?*RT. ?UPS, TraCI: 21ms, vehicles TOT 816 ACT 92 BUF 1246)              \n",
      " Retrying in 1 seconds\n",
      "Step #1000.00 (1ms ~= 1000.00*RT, ~94000.00UPS, TraCI: 21ms, vehicles TOT 894 ACT 94 BUF 11\n",
      " Retrying in 1 seconds\n",
      "Step #1000.00 (1ms ~= 1000.00*RT, ~91000.00UPS, TraCI: 21ms, vehicles TOT 844 ACT 91 BUF 11\n",
      " Retrying in 1 seconds\n",
      "Step #1000.00 (1ms ~= 1000.00*RT, ~96000.00UPS, TraCI: 20ms, vehicles TOT 906 ACT 96 BUF 11\n",
      " Retrying in 1 seconds\n",
      "----------------------------------\n",
      "| rollout/            |          |\n",
      "|    ep_len_mean      | 200      |\n",
      "|    ep_rew_mean      | -160     |\n",
      "|    exploration_rate | 0.018    |\n",
      "| time/               |          |\n",
      "|    episodes         | 4        |\n",
      "|    fps              | 27       |\n",
      "|    time_elapsed     | 29       |\n",
      "|    total_timesteps  | 800      |\n",
      "| train/              |          |\n",
      "|    learning_rate    | 0.001    |\n",
      "|    loss             | 0.0101   |\n",
      "|    n_updates        | 799      |\n",
      "----------------------------------\n",
      "Step #1000.00 (0ms ?*RT. ?UPS, TraCI: 22ms, vehicles TOT 913 ACT 94 BUF 1052)              \n",
      " Retrying in 1 seconds\n",
      "Step #1000.00 (0ms ?*RT. ?UPS, TraCI: 21ms, vehicles TOT 918 ACT 93 BUF 1100)              \n",
      " Retrying in 1 seconds\n",
      "Step #1000.00 (0ms ?*RT. ?UPS, TraCI: 21ms, vehicles TOT 909 ACT 91 BUF 1056)              \n",
      " Retrying in 1 seconds\n",
      "Step #1000.00 (0ms ?*RT. ?UPS, TraCI: 20ms, vehicles TOT 858 ACT 89 BUF 1178)              \n",
      " Retrying in 1 seconds\n",
      "----------------------------------\n",
      "| rollout/            |          |\n",
      "|    ep_len_mean      | 200      |\n",
      "|    ep_rew_mean      | -164     |\n",
      "|    exploration_rate | 0.01     |\n",
      "| time/               |          |\n",
      "|    episodes         | 8        |\n",
      "|    fps              | 27       |\n",
      "|    time_elapsed     | 57       |\n",
      "|    total_timesteps  | 1600     |\n",
      "| train/              |          |\n",
      "|    learning_rate    | 0.001    |\n",
      "|    loss             | 0.179    |\n",
      "|    n_updates        | 1599     |\n",
      "----------------------------------\n",
      "Step #1000.00 (0ms ?*RT. ?UPS, TraCI: 21ms, vehicles TOT 915 ACT 93 BUF 1028)              \n",
      " Retrying in 1 seconds\n",
      "Step #1000.00 (0ms ?*RT. ?UPS, TraCI: 20ms, vehicles TOT 896 ACT 91 BUF 1115)              \n",
      " Retrying in 1 seconds\n",
      "Step #1000.00 (1ms ~= 1000.00*RT, ~96000.00UPS, TraCI: 21ms, vehicles TOT 812 ACT 96 BUF 12\n",
      " Retrying in 1 seconds\n",
      "Step #1000.00 (1ms ~= 1000.00*RT, ~95000.00UPS, TraCI: 21ms, vehicles TOT 825 ACT 95 BUF 11\n",
      " Retrying in 1 seconds\n",
      "----------------------------------\n",
      "| rollout/            |          |\n",
      "|    ep_len_mean      | 200      |\n",
      "|    ep_rew_mean      | -165     |\n",
      "|    exploration_rate | 0.01     |\n",
      "| time/               |          |\n",
      "|    episodes         | 12       |\n",
      "|    fps              | 28       |\n",
      "|    time_elapsed     | 85       |\n",
      "|    total_timesteps  | 2400     |\n",
      "| train/              |          |\n",
      "|    learning_rate    | 0.001    |\n",
      "|    loss             | 0.157    |\n",
      "|    n_updates        | 2399     |\n",
      "----------------------------------\n",
      "Step #1000.00 (1ms ~= 1000.00*RT, ~97000.00UPS, TraCI: 30ms, vehicles TOT 849 ACT 97 BUF 11\n",
      " Retrying in 1 seconds\n",
      "Step #1000.00 (1ms ~= 1000.00*RT, ~93000.00UPS, TraCI: 21ms, vehicles TOT 891 ACT 93 BUF 11\n",
      " Retrying in 1 seconds\n",
      "Step #1000.00 (0ms ?*RT. ?UPS, TraCI: 21ms, vehicles TOT 894 ACT 95 BUF 1054)              \n",
      " Retrying in 1 seconds\n",
      "Step #1000.00 (1ms ~= 1000.00*RT, ~94000.00UPS, TraCI: 21ms, vehicles TOT 884 ACT 94 BUF 11\n",
      " Retrying in 1 seconds\n",
      "----------------------------------\n",
      "| rollout/            |          |\n",
      "|    ep_len_mean      | 200      |\n",
      "|    ep_rew_mean      | -165     |\n",
      "|    exploration_rate | 0.01     |\n",
      "| time/               |          |\n",
      "|    episodes         | 16       |\n",
      "|    fps              | 28       |\n",
      "|    time_elapsed     | 113      |\n",
      "|    total_timesteps  | 3200     |\n",
      "| train/              |          |\n",
      "|    learning_rate    | 0.001    |\n",
      "|    loss             | 0.187    |\n",
      "|    n_updates        | 3199     |\n",
      "----------------------------------\n",
      "Step #1000.00 (1ms ~= 1000.00*RT, ~94000.00UPS, TraCI: 20ms, vehicles TOT 917 ACT 94 BUF 10\n",
      " Retrying in 1 seconds\n",
      "Step #1000.00 (1ms ~= 1000.00*RT, ~95000.00UPS, TraCI: 21ms, vehicles TOT 912 ACT 95 BUF 11\n",
      " Retrying in 1 seconds\n",
      "Step #1000.00 (1ms ~= 1000.00*RT, ~96000.00UPS, TraCI: 22ms, vehicles TOT 909 ACT 96 BUF 10\n",
      " Retrying in 1 seconds\n",
      "Step #1000.00 (1ms ~= 1000.00*RT, ~96000.00UPS, TraCI: 21ms, vehicles TOT 911 ACT 96 BUF 10\n",
      " Retrying in 1 seconds\n",
      "----------------------------------\n",
      "| rollout/            |          |\n",
      "|    ep_len_mean      | 200      |\n",
      "|    ep_rew_mean      | -166     |\n",
      "|    exploration_rate | 0.01     |\n",
      "| time/               |          |\n",
      "|    episodes         | 20       |\n",
      "|    fps              | 28       |\n",
      "|    time_elapsed     | 141      |\n",
      "|    total_timesteps  | 4000     |\n",
      "| train/              |          |\n",
      "|    learning_rate    | 0.001    |\n",
      "|    loss             | 0.049    |\n",
      "|    n_updates        | 3999     |\n",
      "----------------------------------\n",
      "Step #1000.00 (0ms ?*RT. ?UPS, TraCI: 22ms, vehicles TOT 915 ACT 93 BUF 1166)              \n",
      " Retrying in 1 seconds\n",
      "Step #1000.00 (0ms ?*RT. ?UPS, TraCI: 21ms, vehicles TOT 903 ACT 91 BUF 1081)              \n",
      " Retrying in 1 seconds\n",
      "Step #1000.00 (1ms ~= 1000.00*RT, ~93000.00UPS, TraCI: 20ms, vehicles TOT 905 ACT 93 BUF 10\n",
      " Retrying in 1 seconds\n",
      "Step #1000.00 (1ms ~= 1000.00*RT, ~96000.00UPS, TraCI: 20ms, vehicles TOT 932 ACT 96 BUF 11\n",
      " Retrying in 1 seconds\n",
      "----------------------------------\n",
      "| rollout/            |          |\n",
      "|    ep_len_mean      | 200      |\n",
      "|    ep_rew_mean      | -166     |\n",
      "|    exploration_rate | 0.01     |\n",
      "| time/               |          |\n",
      "|    episodes         | 24       |\n",
      "|    fps              | 28       |\n",
      "|    time_elapsed     | 168      |\n",
      "|    total_timesteps  | 4800     |\n",
      "| train/              |          |\n",
      "|    learning_rate    | 0.001    |\n",
      "|    loss             | 0.105    |\n",
      "|    n_updates        | 4799     |\n",
      "----------------------------------\n",
      "Step #1000.00 (1ms ~= 1000.00*RT, ~90000.00UPS, TraCI: 24ms, vehicles TOT 926 ACT 90 BUF 10\n",
      " Retrying in 1 seconds\n",
      "Step #1000.00 (1ms ~= 1000.00*RT, ~93000.00UPS, TraCI: 21ms, vehicles TOT 801 ACT 93 BUF 11\n",
      " Retrying in 1 seconds\n",
      "Step #1000.00 (0ms ?*RT. ?UPS, TraCI: 22ms, vehicles TOT 788 ACT 94 BUF 1197)              \n",
      " Retrying in 1 seconds\n",
      "Step #1000.00 (1ms ~= 1000.00*RT, ~95000.00UPS, TraCI: 19ms, vehicles TOT 809 ACT 95 BUF 12\n",
      " Retrying in 1 seconds\n",
      "----------------------------------\n",
      "| rollout/            |          |\n",
      "|    ep_len_mean      | 200      |\n",
      "|    ep_rew_mean      | -167     |\n",
      "|    exploration_rate | 0.01     |\n",
      "| time/               |          |\n",
      "|    episodes         | 28       |\n",
      "|    fps              | 28       |\n",
      "|    time_elapsed     | 197      |\n",
      "|    total_timesteps  | 5600     |\n",
      "| train/              |          |\n",
      "|    learning_rate    | 0.001    |\n",
      "|    loss             | 0.00261  |\n",
      "|    n_updates        | 5599     |\n",
      "----------------------------------\n",
      "Step #1000.00 (1ms ~= 1000.00*RT, ~94000.00UPS, TraCI: 22ms, vehicles TOT 860 ACT 94 BUF 11\n",
      " Retrying in 1 seconds\n",
      "Step #1000.00 (1ms ~= 1000.00*RT, ~94000.00UPS, TraCI: 21ms, vehicles TOT 849 ACT 94 BUF 11\n",
      " Retrying in 1 seconds\n",
      "Step #1000.00 (1ms ~= 1000.00*RT, ~95000.00UPS, TraCI: 21ms, vehicles TOT 868 ACT 95 BUF 11\n",
      " Retrying in 1 seconds\n",
      "Step #1000.00 (0ms ?*RT. ?UPS, TraCI: 21ms, vehicles TOT 884 ACT 92 BUF 1070)              \n",
      " Retrying in 1 seconds\n",
      "----------------------------------\n",
      "| rollout/            |          |\n",
      "|    ep_len_mean      | 200      |\n",
      "|    ep_rew_mean      | -167     |\n",
      "|    exploration_rate | 0.01     |\n",
      "| time/               |          |\n",
      "|    episodes         | 32       |\n",
      "|    fps              | 28       |\n",
      "|    time_elapsed     | 225      |\n",
      "|    total_timesteps  | 6400     |\n",
      "| train/              |          |\n",
      "|    learning_rate    | 0.001    |\n",
      "|    loss             | 0.0224   |\n",
      "|    n_updates        | 6399     |\n",
      "----------------------------------\n",
      "Step #1000.00 (1ms ~= 1000.00*RT, ~94000.00UPS, TraCI: 22ms, vehicles TOT 838 ACT 94 BUF 11\n",
      " Retrying in 1 seconds\n",
      "Step #1000.00 (1ms ~= 1000.00*RT, ~95000.00UPS, TraCI: 22ms, vehicles TOT 792 ACT 95 BUF 11\n",
      " Retrying in 1 seconds\n",
      "Step #1000.00 (1ms ~= 1000.00*RT, ~96000.00UPS, TraCI: 21ms, vehicles TOT 810 ACT 96 BUF 11\n",
      " Retrying in 1 seconds\n",
      "Step #1000.00 (1ms ~= 1000.00*RT, ~91000.00UPS, TraCI: 20ms, vehicles TOT 892 ACT 91 BUF 11\n",
      " Retrying in 1 seconds\n",
      "----------------------------------\n",
      "| rollout/            |          |\n",
      "|    ep_len_mean      | 200      |\n",
      "|    ep_rew_mean      | -167     |\n",
      "|    exploration_rate | 0.01     |\n",
      "| time/               |          |\n",
      "|    episodes         | 36       |\n",
      "|    fps              | 28       |\n",
      "|    time_elapsed     | 252      |\n",
      "|    total_timesteps  | 7200     |\n",
      "| train/              |          |\n",
      "|    learning_rate    | 0.001    |\n",
      "|    loss             | 0.0235   |\n",
      "|    n_updates        | 7199     |\n",
      "----------------------------------\n",
      "Step #1000.00 (1ms ~= 1000.00*RT, ~94000.00UPS, TraCI: 20ms, vehicles TOT 910 ACT 94 BUF 11\n",
      " Retrying in 1 seconds\n",
      "Step #1000.00 (1ms ~= 1000.00*RT, ~95000.00UPS, TraCI: 20ms, vehicles TOT 903 ACT 95 BUF 10\n",
      " Retrying in 1 seconds\n",
      "Step #1000.00 (0ms ?*RT. ?UPS, TraCI: 21ms, vehicles TOT 879 ACT 94 BUF 1113)              \n",
      " Retrying in 1 seconds\n",
      "Step #1000.00 (1ms ~= 1000.00*RT, ~91000.00UPS, TraCI: 21ms, vehicles TOT 889 ACT 91 BUF 11\n",
      " Retrying in 1 seconds\n",
      "----------------------------------\n",
      "| rollout/            |          |\n",
      "|    ep_len_mean      | 200      |\n",
      "|    ep_rew_mean      | -167     |\n",
      "|    exploration_rate | 0.01     |\n",
      "| time/               |          |\n",
      "|    episodes         | 40       |\n",
      "|    fps              | 28       |\n",
      "|    time_elapsed     | 280      |\n",
      "|    total_timesteps  | 8000     |\n",
      "| train/              |          |\n",
      "|    learning_rate    | 0.001    |\n",
      "|    loss             | 0.0121   |\n",
      "|    n_updates        | 7999     |\n",
      "----------------------------------\n",
      "Step #1000.00 (0ms ?*RT. ?UPS, TraCI: 21ms, vehicles TOT 910 ACT 98 BUF 1109)              \n",
      " Retrying in 1 seconds\n",
      "Step #1000.00 (1ms ~= 1000.00*RT, ~95000.00UPS, TraCI: 21ms, vehicles TOT 929 ACT 95 BUF 10\n",
      " Retrying in 1 seconds\n",
      "Step #1000.00 (1ms ~= 1000.00*RT, ~95000.00UPS, TraCI: 20ms, vehicles TOT 899 ACT 95 BUF 10\n",
      " Retrying in 1 seconds\n",
      "Step #1000.00 (1ms ~= 1000.00*RT, ~97000.00UPS, TraCI: 21ms, vehicles TOT 830 ACT 97 BUF 11\n",
      " Retrying in 1 seconds\n",
      "----------------------------------\n",
      "| rollout/            |          |\n",
      "|    ep_len_mean      | 200      |\n",
      "|    ep_rew_mean      | -167     |\n",
      "|    exploration_rate | 0.01     |\n",
      "| time/               |          |\n",
      "|    episodes         | 44       |\n",
      "|    fps              | 28       |\n",
      "|    time_elapsed     | 308      |\n",
      "|    total_timesteps  | 8800     |\n",
      "| train/              |          |\n",
      "|    learning_rate    | 0.001    |\n",
      "|    loss             | 0.0801   |\n",
      "|    n_updates        | 8799     |\n",
      "----------------------------------\n",
      "Step #1000.00 (1ms ~= 1000.00*RT, ~100000.00UPS, TraCI: 21ms, vehicles TOT 848 ACT 100 BUF \n",
      " Retrying in 1 seconds\n",
      "Step #1000.00 (1ms ~= 1000.00*RT, ~92000.00UPS, TraCI: 20ms, vehicles TOT 926 ACT 92 BUF 10\n",
      " Retrying in 1 seconds\n",
      "Step #1000.00 (1ms ~= 1000.00*RT, ~96000.00UPS, TraCI: 21ms, vehicles TOT 906 ACT 96 BUF 11\n",
      " Retrying in 1 seconds\n",
      "Step #1000.00 (0ms ?*RT. ?UPS, TraCI: 21ms, vehicles TOT 908 ACT 97 BUF 1008)              \n",
      " Retrying in 1 seconds\n",
      "----------------------------------\n",
      "| rollout/            |          |\n",
      "|    ep_len_mean      | 200      |\n",
      "|    ep_rew_mean      | -167     |\n",
      "|    exploration_rate | 0.01     |\n",
      "| time/               |          |\n",
      "|    episodes         | 48       |\n",
      "|    fps              | 28       |\n",
      "|    time_elapsed     | 335      |\n",
      "|    total_timesteps  | 9600     |\n",
      "| train/              |          |\n",
      "|    learning_rate    | 0.001    |\n",
      "|    loss             | 0.307    |\n",
      "|    n_updates        | 9599     |\n",
      "----------------------------------\n",
      "Step #1000.00 (0ms ?*RT. ?UPS, TraCI: 20ms, vehicles TOT 932 ACT 92 BUF 1074)              \n",
      " Retrying in 1 seconds\n",
      "Step #1000.00 (0ms ?*RT. ?UPS, TraCI: 20ms, vehicles TOT 916 ACT 91 BUF 1073)              \n",
      " Retrying in 1 seconds\n"
     ]
    }
   ],
   "source": [
    "train_DQN('2x2grid/2x2o5')"
   ]
  },
  {
   "cell_type": "code",
   "execution_count": 11,
   "metadata": {},
   "outputs": [
    {
     "name": "stdout",
     "output_type": "stream",
     "text": [
      " Retrying in 1 seconds\n",
      "Step #0.00 (0ms ?*RT. ?UPS, TraCI: 14ms, vehicles TOT 0 ACT 0 BUF 0)                     \n",
      " Retrying in 1 seconds\n",
      "Using mps device\n",
      "Wrapping the env with a `Monitor` wrapper\n",
      "Wrapping the env in a DummyVecEnv.\n",
      "Step #0.00 (0ms ?*RT. ?UPS, TraCI: 85ms, vehicles TOT 0 ACT 0 BUF 0)                     \n",
      " Retrying in 1 seconds\n",
      "Step #1000.00 (0ms ?*RT. ?UPS, TraCI: 22ms, vehicles TOT 707 ACT 90 BUF 666)               \n",
      " Retrying in 1 seconds\n",
      "Step #1000.00 (1ms ~= 1000.00*RT, ~93000.00UPS, TraCI: 20ms, vehicles TOT 707 ACT 93 BUF 71\n",
      " Retrying in 1 seconds\n",
      "Step #1000.00 (1ms ~= 1000.00*RT, ~86000.00UPS, TraCI: 19ms, vehicles TOT 708 ACT 86 BUF 62\n",
      " Retrying in 1 seconds\n",
      "Step #1000.00 (0ms ?*RT. ?UPS, TraCI: 19ms, vehicles TOT 739 ACT 83 BUF 648)               \n",
      " Retrying in 1 seconds\n",
      "----------------------------------\n",
      "| rollout/            |          |\n",
      "|    ep_len_mean      | 200      |\n",
      "|    ep_rew_mean      | -162     |\n",
      "|    exploration_rate | 0.018    |\n",
      "| time/               |          |\n",
      "|    episodes         | 4        |\n",
      "|    fps              | 28       |\n",
      "|    time_elapsed     | 28       |\n",
      "|    total_timesteps  | 800      |\n",
      "| train/              |          |\n",
      "|    learning_rate    | 0.001    |\n",
      "|    loss             | 0.0274   |\n",
      "|    n_updates        | 799      |\n",
      "----------------------------------\n",
      "Step #1000.00 (0ms ?*RT. ?UPS, TraCI: 21ms, vehicles TOT 763 ACT 86 BUF 629)               \n",
      " Retrying in 1 seconds\n",
      "Step #1000.00 (1ms ~= 1000.00*RT, ~86000.00UPS, TraCI: 22ms, vehicles TOT 764 ACT 86 BUF 63\n",
      " Retrying in 1 seconds\n",
      "Step #1000.00 (0ms ?*RT. ?UPS, TraCI: 21ms, vehicles TOT 719 ACT 89 BUF 640)               \n",
      " Retrying in 1 seconds\n",
      "Step #1000.00 (0ms ?*RT. ?UPS, TraCI: 19ms, vehicles TOT 754 ACT 83 BUF 682)               \n",
      " Retrying in 1 seconds\n",
      "----------------------------------\n",
      "| rollout/            |          |\n",
      "|    ep_len_mean      | 200      |\n",
      "|    ep_rew_mean      | -164     |\n",
      "|    exploration_rate | 0.01     |\n",
      "| time/               |          |\n",
      "|    episodes         | 8        |\n",
      "|    fps              | 29       |\n",
      "|    time_elapsed     | 54       |\n",
      "|    total_timesteps  | 1600     |\n",
      "| train/              |          |\n",
      "|    learning_rate    | 0.001    |\n",
      "|    loss             | 0.155    |\n",
      "|    n_updates        | 1599     |\n",
      "----------------------------------\n",
      "Step #1000.00 (1ms ~= 1000.00*RT, ~76000.00UPS, TraCI: 19ms, vehicles TOT 736 ACT 76 BUF 69\n",
      " Retrying in 1 seconds\n",
      "Step #1000.00 (1ms ~= 1000.00*RT, ~84000.00UPS, TraCI: 19ms, vehicles TOT 759 ACT 84 BUF 63\n",
      " Retrying in 1 seconds\n",
      "Step #1000.00 (1ms ~= 1000.00*RT, ~90000.00UPS, TraCI: 20ms, vehicles TOT 761 ACT 90 BUF 68\n",
      " Retrying in 1 seconds\n",
      "Step #1000.00 (0ms ?*RT. ?UPS, TraCI: 20ms, vehicles TOT 809 ACT 87 BUF 645)               \n",
      " Retrying in 1 seconds\n",
      "----------------------------------\n",
      "| rollout/            |          |\n",
      "|    ep_len_mean      | 200      |\n",
      "|    ep_rew_mean      | -165     |\n",
      "|    exploration_rate | 0.01     |\n",
      "| time/               |          |\n",
      "|    episodes         | 12       |\n",
      "|    fps              | 29       |\n",
      "|    time_elapsed     | 81       |\n",
      "|    total_timesteps  | 2400     |\n",
      "| train/              |          |\n",
      "|    learning_rate    | 0.001    |\n",
      "|    loss             | 0.0084   |\n",
      "|    n_updates        | 2399     |\n",
      "----------------------------------\n",
      "Step #1000.00 (0ms ?*RT. ?UPS, TraCI: 21ms, vehicles TOT 771 ACT 90 BUF 656)               \n",
      " Retrying in 1 seconds\n",
      "Step #1000.00 (1ms ~= 1000.00*RT, ~84000.00UPS, TraCI: 19ms, vehicles TOT 748 ACT 84 BUF 63\n",
      " Retrying in 1 seconds\n",
      "Step #1000.00 (0ms ?*RT. ?UPS, TraCI: 20ms, vehicles TOT 773 ACT 89 BUF 632)               \n",
      " Retrying in 1 seconds\n",
      "Step #1000.00 (1ms ~= 1000.00*RT, ~91000.00UPS, TraCI: 20ms, vehicles TOT 779 ACT 91 BUF 68\n",
      " Retrying in 1 seconds\n",
      "----------------------------------\n",
      "| rollout/            |          |\n",
      "|    ep_len_mean      | 200      |\n",
      "|    ep_rew_mean      | -166     |\n",
      "|    exploration_rate | 0.01     |\n",
      "| time/               |          |\n",
      "|    episodes         | 16       |\n",
      "|    fps              | 29       |\n",
      "|    time_elapsed     | 107      |\n",
      "|    total_timesteps  | 3200     |\n",
      "| train/              |          |\n",
      "|    learning_rate    | 0.001    |\n",
      "|    loss             | 0.0403   |\n",
      "|    n_updates        | 3199     |\n",
      "----------------------------------\n",
      "Step #1000.00 (0ms ?*RT. ?UPS, TraCI: 40ms, vehicles TOT 738 ACT 82 BUF 693)               \n",
      " Retrying in 1 seconds\n",
      "Step #1000.00 (0ms ?*RT. ?UPS, TraCI: 19ms, vehicles TOT 731 ACT 82 BUF 659)               \n",
      " Retrying in 1 seconds\n",
      "Step #1000.00 (0ms ?*RT. ?UPS, TraCI: 21ms, vehicles TOT 739 ACT 92 BUF 667)               \n",
      " Retrying in 1 seconds\n",
      "Step #1000.00 (0ms ?*RT. ?UPS, TraCI: 20ms, vehicles TOT 730 ACT 83 BUF 654)               \n",
      " Retrying in 1 seconds\n",
      "----------------------------------\n",
      "| rollout/            |          |\n",
      "|    ep_len_mean      | 200      |\n",
      "|    ep_rew_mean      | -166     |\n",
      "|    exploration_rate | 0.01     |\n",
      "| time/               |          |\n",
      "|    episodes         | 20       |\n",
      "|    fps              | 29       |\n",
      "|    time_elapsed     | 133      |\n",
      "|    total_timesteps  | 4000     |\n",
      "| train/              |          |\n",
      "|    learning_rate    | 0.001    |\n",
      "|    loss             | 0.0358   |\n",
      "|    n_updates        | 3999     |\n",
      "----------------------------------\n",
      "Step #1000.00 (0ms ?*RT. ?UPS, TraCI: 20ms, vehicles TOT 744 ACT 84 BUF 639)               \n",
      " Retrying in 1 seconds\n",
      "Step #1000.00 (0ms ?*RT. ?UPS, TraCI: 19ms, vehicles TOT 747 ACT 85 BUF 676)               \n",
      " Retrying in 1 seconds\n",
      "Step #1000.00 (0ms ?*RT. ?UPS, TraCI: 20ms, vehicles TOT 721 ACT 85 BUF 634)               \n",
      " Retrying in 1 seconds\n",
      "Step #1000.00 (1ms ~= 1000.00*RT, ~82000.00UPS, TraCI: 18ms, vehicles TOT 762 ACT 82 BUF 61\n",
      " Retrying in 1 seconds\n",
      "----------------------------------\n",
      "| rollout/            |          |\n",
      "|    ep_len_mean      | 200      |\n",
      "|    ep_rew_mean      | -166     |\n",
      "|    exploration_rate | 0.01     |\n",
      "| time/               |          |\n",
      "|    episodes         | 24       |\n",
      "|    fps              | 29       |\n",
      "|    time_elapsed     | 160      |\n",
      "|    total_timesteps  | 4800     |\n",
      "| train/              |          |\n",
      "|    learning_rate    | 0.001    |\n",
      "|    loss             | 0.0387   |\n",
      "|    n_updates        | 4799     |\n",
      "----------------------------------\n",
      "Step #1000.00 (1ms ~= 1000.00*RT, ~86000.00UPS, TraCI: 17ms, vehicles TOT 738 ACT 86 BUF 63\n",
      " Retrying in 1 seconds\n",
      "Step #1000.00 (0ms ?*RT. ?UPS, TraCI: 20ms, vehicles TOT 726 ACT 86 BUF 613)               \n",
      " Retrying in 1 seconds\n",
      "Step #1000.00 (0ms ?*RT. ?UPS, TraCI: 20ms, vehicles TOT 690 ACT 89 BUF 687)               \n",
      " Retrying in 1 seconds\n",
      "Step #1000.00 (0ms ?*RT. ?UPS, TraCI: 19ms, vehicles TOT 744 ACT 86 BUF 642)               \n",
      " Retrying in 1 seconds\n",
      "----------------------------------\n",
      "| rollout/            |          |\n",
      "|    ep_len_mean      | 200      |\n",
      "|    ep_rew_mean      | -166     |\n",
      "|    exploration_rate | 0.01     |\n",
      "| time/               |          |\n",
      "|    episodes         | 28       |\n",
      "|    fps              | 29       |\n",
      "|    time_elapsed     | 187      |\n",
      "|    total_timesteps  | 5600     |\n",
      "| train/              |          |\n",
      "|    learning_rate    | 0.001    |\n",
      "|    loss             | 0.0198   |\n",
      "|    n_updates        | 5599     |\n",
      "----------------------------------\n",
      "Step #1000.00 (1ms ~= 1000.00*RT, ~80000.00UPS, TraCI: 19ms, vehicles TOT 714 ACT 80 BUF 66\n",
      " Retrying in 1 seconds\n",
      "Step #1000.00 (0ms ?*RT. ?UPS, TraCI: 20ms, vehicles TOT 756 ACT 93 BUF 670)               \n",
      " Retrying in 1 seconds\n",
      "Step #1000.00 (0ms ?*RT. ?UPS, TraCI: 18ms, vehicles TOT 797 ACT 75 BUF 669)               \n",
      " Retrying in 1 seconds\n",
      "Step #1000.00 (1ms ~= 1000.00*RT, ~84000.00UPS, TraCI: 20ms, vehicles TOT 723 ACT 84 BUF 62\n",
      " Retrying in 1 seconds\n",
      "----------------------------------\n",
      "| rollout/            |          |\n",
      "|    ep_len_mean      | 200      |\n",
      "|    ep_rew_mean      | -165     |\n",
      "|    exploration_rate | 0.01     |\n",
      "| time/               |          |\n",
      "|    episodes         | 32       |\n",
      "|    fps              | 29       |\n",
      "|    time_elapsed     | 213      |\n",
      "|    total_timesteps  | 6400     |\n",
      "| train/              |          |\n",
      "|    learning_rate    | 0.001    |\n",
      "|    loss             | 0.0375   |\n",
      "|    n_updates        | 6399     |\n",
      "----------------------------------\n",
      "Step #1000.00 (0ms ?*RT. ?UPS, TraCI: 20ms, vehicles TOT 770 ACT 94 BUF 631)               \n",
      " Retrying in 1 seconds\n",
      "Step #1000.00 (0ms ?*RT. ?UPS, TraCI: 19ms, vehicles TOT 777 ACT 86 BUF 642)               \n",
      " Retrying in 1 seconds\n",
      "Step #1000.00 (1ms ~= 1000.00*RT, ~83000.00UPS, TraCI: 19ms, vehicles TOT 741 ACT 83 BUF 62\n",
      " Retrying in 1 seconds\n",
      "Step #1000.00 (1ms ~= 1000.00*RT, ~85000.00UPS, TraCI: 19ms, vehicles TOT 748 ACT 85 BUF 65\n",
      " Retrying in 1 seconds\n",
      "----------------------------------\n",
      "| rollout/            |          |\n",
      "|    ep_len_mean      | 200      |\n",
      "|    ep_rew_mean      | -166     |\n",
      "|    exploration_rate | 0.01     |\n",
      "| time/               |          |\n",
      "|    episodes         | 36       |\n",
      "|    fps              | 30       |\n",
      "|    time_elapsed     | 239      |\n",
      "|    total_timesteps  | 7200     |\n",
      "| train/              |          |\n",
      "|    learning_rate    | 0.001    |\n",
      "|    loss             | 0.0575   |\n",
      "|    n_updates        | 7199     |\n",
      "----------------------------------\n",
      "Step #1000.00 (0ms ?*RT. ?UPS, TraCI: 21ms, vehicles TOT 737 ACT 90 BUF 645)               \n",
      " Retrying in 1 seconds\n",
      "Step #1000.00 (0ms ?*RT. ?UPS, TraCI: 19ms, vehicles TOT 763 ACT 79 BUF 636)               \n",
      " Retrying in 1 seconds\n",
      "Step #1000.00 (0ms ?*RT. ?UPS, TraCI: 19ms, vehicles TOT 762 ACT 83 BUF 649)               \n",
      " Retrying in 1 seconds\n",
      "Step #1000.00 (1ms ~= 1000.00*RT, ~83000.00UPS, TraCI: 19ms, vehicles TOT 757 ACT 83 BUF 65\n",
      " Retrying in 1 seconds\n",
      "----------------------------------\n",
      "| rollout/            |          |\n",
      "|    ep_len_mean      | 200      |\n",
      "|    ep_rew_mean      | -166     |\n",
      "|    exploration_rate | 0.01     |\n",
      "| time/               |          |\n",
      "|    episodes         | 40       |\n",
      "|    fps              | 30       |\n",
      "|    time_elapsed     | 265      |\n",
      "|    total_timesteps  | 8000     |\n",
      "| train/              |          |\n",
      "|    learning_rate    | 0.001    |\n",
      "|    loss             | 0.0126   |\n",
      "|    n_updates        | 7999     |\n",
      "----------------------------------\n",
      "Step #1000.00 (1ms ~= 1000.00*RT, ~88000.00UPS, TraCI: 19ms, vehicles TOT 789 ACT 88 BUF 61\n",
      " Retrying in 1 seconds\n",
      "Step #1000.00 (1ms ~= 1000.00*RT, ~90000.00UPS, TraCI: 22ms, vehicles TOT 751 ACT 90 BUF 66\n",
      " Retrying in 1 seconds\n",
      "Step #1000.00 (0ms ?*RT. ?UPS, TraCI: 21ms, vehicles TOT 726 ACT 82 BUF 648)               \n",
      " Retrying in 1 seconds\n",
      "Step #1000.00 (1ms ~= 1000.00*RT, ~89000.00UPS, TraCI: 21ms, vehicles TOT 738 ACT 89 BUF 62\n",
      " Retrying in 1 seconds\n",
      "----------------------------------\n",
      "| rollout/            |          |\n",
      "|    ep_len_mean      | 200      |\n",
      "|    ep_rew_mean      | -166     |\n",
      "|    exploration_rate | 0.01     |\n",
      "| time/               |          |\n",
      "|    episodes         | 44       |\n",
      "|    fps              | 30       |\n",
      "|    time_elapsed     | 292      |\n",
      "|    total_timesteps  | 8800     |\n",
      "| train/              |          |\n",
      "|    learning_rate    | 0.001    |\n",
      "|    loss             | 0.0433   |\n",
      "|    n_updates        | 8799     |\n",
      "----------------------------------\n",
      "Step #1000.00 (1ms ~= 1000.00*RT, ~90000.00UPS, TraCI: 19ms, vehicles TOT 739 ACT 90 BUF 67\n",
      " Retrying in 1 seconds\n",
      "Step #1000.00 (0ms ?*RT. ?UPS, TraCI: 21ms, vehicles TOT 809 ACT 92 BUF 628)               \n",
      " Retrying in 1 seconds\n",
      "Step #1000.00 (1ms ~= 1000.00*RT, ~87000.00UPS, TraCI: 19ms, vehicles TOT 757 ACT 87 BUF 67\n",
      " Retrying in 1 seconds\n",
      "Step #1000.00 (1ms ~= 1000.00*RT, ~82000.00UPS, TraCI: 19ms, vehicles TOT 764 ACT 82 BUF 61\n",
      " Retrying in 1 seconds\n",
      "----------------------------------\n",
      "| rollout/            |          |\n",
      "|    ep_len_mean      | 200      |\n",
      "|    ep_rew_mean      | -166     |\n",
      "|    exploration_rate | 0.01     |\n",
      "| time/               |          |\n",
      "|    episodes         | 48       |\n",
      "|    fps              | 30       |\n",
      "|    time_elapsed     | 318      |\n",
      "|    total_timesteps  | 9600     |\n",
      "| train/              |          |\n",
      "|    learning_rate    | 0.001    |\n",
      "|    loss             | 0.00236  |\n",
      "|    n_updates        | 9599     |\n",
      "----------------------------------\n",
      "Step #1000.00 (0ms ?*RT. ?UPS, TraCI: 20ms, vehicles TOT 740 ACT 84 BUF 618)               \n",
      " Retrying in 1 seconds\n",
      "Step #1000.00 (1ms ~= 1000.00*RT, ~83000.00UPS, TraCI: 18ms, vehicles TOT 749 ACT 83 BUF 65\n",
      " Retrying in 1 seconds\n"
     ]
    }
   ],
   "source": [
    "train_DQN('2x2grid/2x2o35')"
   ]
  },
  {
   "cell_type": "code",
   "execution_count": 12,
   "metadata": {},
   "outputs": [],
   "source": [
    "experts = {\n",
    "    0.1 : './dqn_2x2o1.pth',\n",
    "    0.2 : './dqn_2x2o2.pth',\n",
    "    0.5 : './dqn_2x2o5.pth',\n",
    "    0.7 : './dqn_2x2o7.pth',\n",
    "}"
   ]
  },
  {
   "cell_type": "code",
   "execution_count": 13,
   "metadata": {},
   "outputs": [],
   "source": [
    "modelo1 = DQN.load(experts[0.1])"
   ]
  },
  {
   "cell_type": "code",
   "execution_count": null,
   "metadata": {},
   "outputs": [],
   "source": []
  },
  {
   "cell_type": "code",
   "execution_count": 15,
   "metadata": {},
   "outputs": [
    {
     "name": "stdout",
     "output_type": "stream",
     "text": [
      " Retrying in 1 seconds\n"
     ]
    },
    {
     "name": "stderr",
     "output_type": "stream",
     "text": [
      "Fontconfig error: Cannot load default config file: No such file: (null)\n"
     ]
    }
   ],
   "source": [
    "obs, info = sumo_env.reset()"
   ]
  },
  {
   "cell_type": "code",
   "execution_count": null,
   "metadata": {},
   "outputs": [
    {
     "data": {
      "text/plain": [
       "(array(3), None)"
      ]
     },
     "execution_count": 18,
     "metadata": {},
     "output_type": "execute_result"
    }
   ],
   "source": [
    "with torch.no_grad():\n",
    "    action, meta = modelo1.predict(obs)\n",
    "obs, "
   ]
  },
  {
   "cell_type": "code",
   "execution_count": 21,
   "metadata": {},
   "outputs": [
    {
     "data": {
      "text/plain": [
       "(array([1.        , 0.        , 0.        , 0.        , 0.        ,\n",
       "        0.        , 0.        , 0.        , 0.        , 0.        ,\n",
       "        0.        , 0.05283551, 0.        , 0.        , 0.        ,\n",
       "        0.        , 0.        , 0.        , 0.        , 0.        ,\n",
       "        0.        ], dtype=float32),\n",
       " 0.0,\n",
       " False,\n",
       " False,\n",
       " {'step': 5.0,\n",
       "  'system_total_stopped': 0,\n",
       "  'system_total_waiting_time': 0.0,\n",
       "  'system_mean_waiting_time': 0.0,\n",
       "  'system_mean_speed': 13.183638617576841,\n",
       "  '1_stopped': 0,\n",
       "  '1_accumulated_waiting_time': 0.0,\n",
       "  '1_average_speed': 0.9112159981573043,\n",
       "  '2_stopped': 0,\n",
       "  '2_accumulated_waiting_time': 0.0,\n",
       "  '2_average_speed': 0.961186405470471,\n",
       "  '5_stopped': 0,\n",
       "  '5_accumulated_waiting_time': 0.0,\n",
       "  '5_average_speed': 0.9680257818334765,\n",
       "  '6_stopped': 0,\n",
       "  '6_accumulated_waiting_time': 0.0,\n",
       "  '6_average_speed': 1.0,\n",
       "  'agents_total_stopped': 0,\n",
       "  'agents_total_accumulated_waiting_time': 0.0})"
      ]
     },
     "execution_count": 21,
     "metadata": {},
     "output_type": "execute_result"
    }
   ],
   "source": [
    "sumo_env.step(action[0])"
   ]
  },
  {
   "cell_type": "code",
   "execution_count": null,
   "metadata": {},
   "outputs": [],
   "source": [
    "# obs = env.reset()\n",
    "#     total_reward = 0\n",
    "#     for _ in range(1000):  # Simulate 1000 steps\n",
    "#         action, _states = model.predict(obs, deterministic=True)\n",
    "#         obs, reward, done, info = env.step(action)\n",
    "#         total_reward += reward\n",
    "#         if done:\n",
    "#             break"
   ]
  },
  {
   "cell_type": "code",
   "execution_count": 24,
   "metadata": {},
   "outputs": [],
   "source": [
    "def eval_DQN(route_context, max_iter = 1000):\n",
    "    route = route_context.split('/')[1]\n",
    "    sumo_env = SumoEnvironment(\n",
    "        net_file=EnvConfig.net_file, \n",
    "        route_file=f'./nets/{route_context}.rou.xml', \n",
    "        out_csv_name=f'./outputs/{route}/out', \n",
    "        single_agent = EnvConfig.single_agent,\n",
    "        use_gui=EnvConfig.use_gui,\n",
    "        num_seconds=EnvConfig.num_seconds\n",
    "    )\n",
    "    model = DQN.load(f'./dqn_{route}.pth')\n",
    "    obs, info = sumo_env.reset()\n",
    "    total_reward = 0\n",
    "    info_dump = []\n",
    "    for _ in range(max_iter):\n",
    "        with torch.no_grad():\n",
    "            action, meta = model.predict(obs)\n",
    "        obs, reward, done, trunc, info = sumo_env.step(action)\n",
    "        total_reward += reward\n",
    "        info_dump.append(info)\n",
    "        if done:\n",
    "            break\n",
    "    return total_reward, info_dump"
   ]
  },
  {
   "cell_type": "code",
   "execution_count": 25,
   "metadata": {},
   "outputs": [
    {
     "name": "stdout",
     "output_type": "stream",
     "text": [
      " Retrying in 1 seconds\n",
      "Step #0.00 (0ms ?*RT. ?UPS, TraCI: 16ms, vehicles TOT 0 ACT 0 BUF 0)                     \n",
      " Retrying in 1 seconds\n"
     ]
    }
   ],
   "source": [
    "rewo1, info_01 = eval_DQN('2x2grid/2x2o1')"
   ]
  },
  {
   "cell_type": "code",
   "execution_count": 26,
   "metadata": {},
   "outputs": [
    {
     "data": {
      "text/plain": [
       "-540.0"
      ]
     },
     "execution_count": 26,
     "metadata": {},
     "output_type": "execute_result"
    }
   ],
   "source": [
    "rewo1"
   ]
  },
  {
   "cell_type": "code",
   "execution_count": 122,
   "metadata": {},
   "outputs": [],
   "source": [
    "class EnvConfig:\n",
    "    net_file='./nets/4x4loop/4x4loop.net.xml'\n",
    "    single_agent = True\n",
    "    use_gui=False\n",
    "    num_seconds=1000\n",
    "\n",
    "class DQNConfig:\n",
    "    learning_rate=0.001\n",
    "    device = torch.device('mps')\n",
    "    total_timesteps = 5000"
   ]
  },
  {
   "cell_type": "code",
   "execution_count": 123,
   "metadata": {},
   "outputs": [],
   "source": [
    "def train_DQN(route_context):\n",
    "    route = route_context.split('/')[1]\n",
    "    sumo_env = SumoEnvironment(\n",
    "        net_file=EnvConfig.net_file, \n",
    "        route_file=f'./nets/{route_context}.rou.xml', \n",
    "        out_csv_name=f'./outputs/{route}/out', \n",
    "        single_agent = EnvConfig.single_agent,\n",
    "        use_gui=EnvConfig.use_gui,\n",
    "        num_seconds=EnvConfig.num_seconds\n",
    "    )\n",
    "    sumo_env.reset()\n",
    "    model = DQN(\n",
    "        env=sumo_env,\n",
    "        policy=\"MlpPolicy\",\n",
    "        learning_rate=DQNConfig.learning_rate,\n",
    "        learning_starts=0,\n",
    "        train_freq=1,\n",
    "        target_update_interval=500,\n",
    "        exploration_initial_eps=0.05,\n",
    "        exploration_final_eps=0.01,\n",
    "        verbose=1,\n",
    "        device = DQNConfig.device\n",
    "    )\n",
    "    print(DQNConfig.total_timesteps)\n",
    "    model.learn(total_timesteps=DQNConfig.total_timesteps)\n",
    "    model.save(f'dqn_{route}.pth')"
   ]
  },
  {
   "cell_type": "code",
   "execution_count": 124,
   "metadata": {},
   "outputs": [
    {
     "name": "stdout",
     "output_type": "stream",
     "text": [
      " Retrying in 1 seconds\n",
      "Step #0.00 (0ms ?*RT. ?UPS, TraCI: 25ms, vehicles TOT 0 ACT 0 BUF 0)                     \n",
      " Retrying in 1 seconds\n"
     ]
    },
    {
     "name": "stderr",
     "output_type": "stream",
     "text": [
      "Warning: Flow '3' has no instances; will skip it.\n"
     ]
    },
    {
     "name": "stdout",
     "output_type": "stream",
     "text": [
      "Using mps device\n",
      "Wrapping the env with a `Monitor` wrapper\n",
      "Wrapping the env in a DummyVecEnv.\n",
      "5000\n",
      "Step #0.00 (0ms ?*RT. ?UPS, TraCI: 85ms, vehicles TOT 0 ACT 0 BUF 0)                     \n",
      " Retrying in 1 seconds\n"
     ]
    },
    {
     "name": "stderr",
     "output_type": "stream",
     "text": [
      "Warning: Flow '3' has no instances; will skip it.\n"
     ]
    },
    {
     "name": "stdout",
     "output_type": "stream",
     "text": [
      "Step #1000.00 (1ms ~= 1000.00*RT, ~269000.00UPS, TraCI: 38ms, vehicles TOT 469 ACT 269 BUF \n",
      " Retrying in 1 seconds\n"
     ]
    },
    {
     "name": "stderr",
     "output_type": "stream",
     "text": [
      "Warning: Flow '3' has no instances; will skip it.\n"
     ]
    },
    {
     "name": "stdout",
     "output_type": "stream",
     "text": [
      "Step #1000.00 (0ms ?*RT. ?UPS, TraCI: 37ms, vehicles TOT 470 ACT 270 BUF 130)              \n",
      " Retrying in 1 seconds\n"
     ]
    },
    {
     "name": "stderr",
     "output_type": "stream",
     "text": [
      "Warning: Flow '3' has no instances; will skip it.\n"
     ]
    },
    {
     "name": "stdout",
     "output_type": "stream",
     "text": [
      "Step #1000.00 (0ms ?*RT. ?UPS, TraCI: 39ms, vehicles TOT 472 ACT 272 BUF 128)              \n",
      " Retrying in 1 seconds\n"
     ]
    },
    {
     "name": "stderr",
     "output_type": "stream",
     "text": [
      "Warning: Flow '3' has no instances; will skip it.\n"
     ]
    },
    {
     "name": "stdout",
     "output_type": "stream",
     "text": [
      "Step #1000.00 (1ms ~= 1000.00*RT, ~270000.00UPS, TraCI: 37ms, vehicles TOT 470 ACT 270 BUF \n",
      " Retrying in 1 seconds\n",
      "----------------------------------\n",
      "| rollout/            |          |\n",
      "|    ep_len_mean      | 200      |\n",
      "|    ep_rew_mean      | -323     |\n",
      "|    exploration_rate | 0.01     |\n",
      "| time/               |          |\n",
      "|    episodes         | 4        |\n",
      "|    fps              | 16       |\n",
      "|    time_elapsed     | 47       |\n",
      "|    total_timesteps  | 800      |\n",
      "| train/              |          |\n",
      "|    learning_rate    | 0.001    |\n",
      "|    loss             | 0.00281  |\n",
      "|    n_updates        | 799      |\n",
      "----------------------------------\n"
     ]
    },
    {
     "name": "stderr",
     "output_type": "stream",
     "text": [
      "Warning: Flow '3' has no instances; will skip it.\n"
     ]
    },
    {
     "name": "stdout",
     "output_type": "stream",
     "text": [
      "Step #1000.00 (1ms ~= 1000.00*RT, ~272000.00UPS, TraCI: 38ms, vehicles TOT 472 ACT 272 BUF \n",
      " Retrying in 1 seconds\n"
     ]
    },
    {
     "name": "stderr",
     "output_type": "stream",
     "text": [
      "Warning: Flow '3' has no instances; will skip it.\n"
     ]
    },
    {
     "name": "stdout",
     "output_type": "stream",
     "text": [
      "Step #1000.00 (1ms ~= 1000.00*RT, ~269000.00UPS, TraCI: 37ms, vehicles TOT 469 ACT 269 BUF \n",
      " Retrying in 1 seconds\n"
     ]
    },
    {
     "name": "stderr",
     "output_type": "stream",
     "text": [
      "Warning: Flow '3' has no instances; will skip it.\n"
     ]
    },
    {
     "name": "stdout",
     "output_type": "stream",
     "text": [
      "Step #1000.00 (1ms ~= 1000.00*RT, ~270000.00UPS, TraCI: 41ms, vehicles TOT 470 ACT 270 BUF \n",
      " Retrying in 1 seconds\n"
     ]
    },
    {
     "name": "stderr",
     "output_type": "stream",
     "text": [
      "Warning: Flow '3' has no instances; will skip it.\n"
     ]
    },
    {
     "name": "stdout",
     "output_type": "stream",
     "text": [
      "Step #1000.00 (0ms ?*RT. ?UPS, TraCI: 41ms, vehicles TOT 473 ACT 273 BUF 127)              \n",
      " Retrying in 1 seconds\n",
      "----------------------------------\n",
      "| rollout/            |          |\n",
      "|    ep_len_mean      | 200      |\n",
      "|    ep_rew_mean      | -323     |\n",
      "|    exploration_rate | 0.01     |\n",
      "| time/               |          |\n",
      "|    episodes         | 8        |\n",
      "|    fps              | 16       |\n",
      "|    time_elapsed     | 94       |\n",
      "|    total_timesteps  | 1600     |\n",
      "| train/              |          |\n",
      "|    learning_rate    | 0.001    |\n",
      "|    loss             | 0.00337  |\n",
      "|    n_updates        | 1599     |\n",
      "----------------------------------\n"
     ]
    },
    {
     "name": "stderr",
     "output_type": "stream",
     "text": [
      "Warning: Flow '3' has no instances; will skip it.\n"
     ]
    },
    {
     "name": "stdout",
     "output_type": "stream",
     "text": [
      "Step #1000.00 (1ms ~= 1000.00*RT, ~271000.00UPS, TraCI: 37ms, vehicles TOT 471 ACT 271 BUF \n",
      " Retrying in 1 seconds\n"
     ]
    },
    {
     "name": "stderr",
     "output_type": "stream",
     "text": [
      "Warning: Flow '3' has no instances; will skip it.\n"
     ]
    },
    {
     "name": "stdout",
     "output_type": "stream",
     "text": [
      "Step #1000.00 (1ms ~= 1000.00*RT, ~271000.00UPS, TraCI: 39ms, vehicles TOT 471 ACT 271 BUF \n",
      " Retrying in 1 seconds\n"
     ]
    },
    {
     "name": "stderr",
     "output_type": "stream",
     "text": [
      "Warning: Flow '3' has no instances; will skip it.\n"
     ]
    },
    {
     "name": "stdout",
     "output_type": "stream",
     "text": [
      "Step #1000.00 (1ms ~= 1000.00*RT, ~268000.00UPS, TraCI: 37ms, vehicles TOT 468 ACT 268 BUF \n",
      " Retrying in 1 seconds\n"
     ]
    },
    {
     "name": "stderr",
     "output_type": "stream",
     "text": [
      "Warning: Flow '3' has no instances; will skip it.\n"
     ]
    },
    {
     "name": "stdout",
     "output_type": "stream",
     "text": [
      "Step #1000.00 (1ms ~= 1000.00*RT, ~272000.00UPS, TraCI: 37ms, vehicles TOT 472 ACT 272 BUF \n",
      " Retrying in 1 seconds\n",
      "----------------------------------\n",
      "| rollout/            |          |\n",
      "|    ep_len_mean      | 200      |\n",
      "|    ep_rew_mean      | -323     |\n",
      "|    exploration_rate | 0.01     |\n",
      "| time/               |          |\n",
      "|    episodes         | 12       |\n",
      "|    fps              | 16       |\n",
      "|    time_elapsed     | 141      |\n",
      "|    total_timesteps  | 2400     |\n",
      "| train/              |          |\n",
      "|    learning_rate    | 0.001    |\n",
      "|    loss             | 0.00296  |\n",
      "|    n_updates        | 2399     |\n",
      "----------------------------------\n"
     ]
    },
    {
     "name": "stderr",
     "output_type": "stream",
     "text": [
      "Warning: Flow '3' has no instances; will skip it.\n"
     ]
    },
    {
     "name": "stdout",
     "output_type": "stream",
     "text": [
      "Step #1000.00 (1ms ~= 1000.00*RT, ~271000.00UPS, TraCI: 40ms, vehicles TOT 471 ACT 271 BUF \n",
      " Retrying in 1 seconds\n"
     ]
    },
    {
     "name": "stderr",
     "output_type": "stream",
     "text": [
      "Warning: Flow '3' has no instances; will skip it.\n"
     ]
    },
    {
     "name": "stdout",
     "output_type": "stream",
     "text": [
      "Step #1000.00 (0ms ?*RT. ?UPS, TraCI: 38ms, vehicles TOT 470 ACT 270 BUF 130)              \n",
      " Retrying in 1 seconds\n"
     ]
    },
    {
     "name": "stderr",
     "output_type": "stream",
     "text": [
      "Warning: Flow '3' has no instances; will skip it.\n"
     ]
    },
    {
     "name": "stdout",
     "output_type": "stream",
     "text": [
      "Step #1000.00 (1ms ~= 1000.00*RT, ~270000.00UPS, TraCI: 39ms, vehicles TOT 470 ACT 270 BUF \n",
      " Retrying in 1 seconds\n"
     ]
    },
    {
     "name": "stderr",
     "output_type": "stream",
     "text": [
      "Warning: Flow '3' has no instances; will skip it.\n"
     ]
    },
    {
     "name": "stdout",
     "output_type": "stream",
     "text": [
      "Step #1000.00 (0ms ?*RT. ?UPS, TraCI: 38ms, vehicles TOT 469 ACT 269 BUF 131)              \n",
      " Retrying in 1 seconds\n",
      "----------------------------------\n",
      "| rollout/            |          |\n",
      "|    ep_len_mean      | 200      |\n",
      "|    ep_rew_mean      | -323     |\n",
      "|    exploration_rate | 0.01     |\n",
      "| time/               |          |\n",
      "|    episodes         | 16       |\n",
      "|    fps              | 16       |\n",
      "|    time_elapsed     | 190      |\n",
      "|    total_timesteps  | 3200     |\n",
      "| train/              |          |\n",
      "|    learning_rate    | 0.001    |\n",
      "|    loss             | 0.0196   |\n",
      "|    n_updates        | 3199     |\n",
      "----------------------------------\n"
     ]
    },
    {
     "name": "stderr",
     "output_type": "stream",
     "text": [
      "Warning: Flow '3' has no instances; will skip it.\n"
     ]
    },
    {
     "name": "stdout",
     "output_type": "stream",
     "text": [
      "Step #1000.00 (1ms ~= 1000.00*RT, ~270000.00UPS, TraCI: 38ms, vehicles TOT 470 ACT 270 BUF \n",
      " Retrying in 1 seconds\n"
     ]
    },
    {
     "name": "stderr",
     "output_type": "stream",
     "text": [
      "Warning: Flow '3' has no instances; will skip it.\n"
     ]
    },
    {
     "name": "stdout",
     "output_type": "stream",
     "text": [
      "Step #1000.00 (1ms ~= 1000.00*RT, ~273000.00UPS, TraCI: 39ms, vehicles TOT 473 ACT 273 BUF \n",
      " Retrying in 1 seconds\n"
     ]
    },
    {
     "name": "stderr",
     "output_type": "stream",
     "text": [
      "Warning: Flow '3' has no instances; will skip it.\n"
     ]
    },
    {
     "name": "stdout",
     "output_type": "stream",
     "text": [
      "Step #1000.00 (1ms ~= 1000.00*RT, ~270000.00UPS, TraCI: 37ms, vehicles TOT 470 ACT 270 BUF \n",
      " Retrying in 1 seconds\n"
     ]
    },
    {
     "name": "stderr",
     "output_type": "stream",
     "text": [
      "Warning: Flow '3' has no instances; will skip it.\n"
     ]
    },
    {
     "name": "stdout",
     "output_type": "stream",
     "text": [
      "Step #1000.00 (0ms ?*RT. ?UPS, TraCI: 39ms, vehicles TOT 470 ACT 270 BUF 130)              \n",
      " Retrying in 1 seconds\n",
      "----------------------------------\n",
      "| rollout/            |          |\n",
      "|    ep_len_mean      | 200      |\n",
      "|    ep_rew_mean      | -324     |\n",
      "|    exploration_rate | 0.01     |\n",
      "| time/               |          |\n",
      "|    episodes         | 20       |\n",
      "|    fps              | 16       |\n",
      "|    time_elapsed     | 239      |\n",
      "|    total_timesteps  | 4000     |\n",
      "| train/              |          |\n",
      "|    learning_rate    | 0.001    |\n",
      "|    loss             | 0.00655  |\n",
      "|    n_updates        | 3999     |\n",
      "----------------------------------\n"
     ]
    },
    {
     "name": "stderr",
     "output_type": "stream",
     "text": [
      "Warning: Flow '3' has no instances; will skip it.\n"
     ]
    },
    {
     "name": "stdout",
     "output_type": "stream",
     "text": [
      "Step #1000.00 (1ms ~= 1000.00*RT, ~269000.00UPS, TraCI: 37ms, vehicles TOT 469 ACT 269 BUF \n",
      " Retrying in 1 seconds\n"
     ]
    },
    {
     "name": "stderr",
     "output_type": "stream",
     "text": [
      "Warning: Flow '3' has no instances; will skip it.\n"
     ]
    },
    {
     "name": "stdout",
     "output_type": "stream",
     "text": [
      "Step #1000.00 (1ms ~= 1000.00*RT, ~272000.00UPS, TraCI: 38ms, vehicles TOT 472 ACT 272 BUF \n",
      " Retrying in 1 seconds\n"
     ]
    },
    {
     "name": "stderr",
     "output_type": "stream",
     "text": [
      "Warning: Flow '3' has no instances; will skip it.\n"
     ]
    },
    {
     "name": "stdout",
     "output_type": "stream",
     "text": [
      "Step #1000.00 (1ms ~= 1000.00*RT, ~268000.00UPS, TraCI: 41ms, vehicles TOT 468 ACT 268 BUF \n",
      " Retrying in 1 seconds\n"
     ]
    },
    {
     "name": "stderr",
     "output_type": "stream",
     "text": [
      "Warning: Flow '3' has no instances; will skip it.\n"
     ]
    },
    {
     "name": "stdout",
     "output_type": "stream",
     "text": [
      "Step #1000.00 (1ms ~= 1000.00*RT, ~270000.00UPS, TraCI: 40ms, vehicles TOT 470 ACT 270 BUF \n",
      " Retrying in 1 seconds\n",
      "----------------------------------\n",
      "| rollout/            |          |\n",
      "|    ep_len_mean      | 200      |\n",
      "|    ep_rew_mean      | -324     |\n",
      "|    exploration_rate | 0.01     |\n",
      "| time/               |          |\n",
      "|    episodes         | 24       |\n",
      "|    fps              | 16       |\n",
      "|    time_elapsed     | 286      |\n",
      "|    total_timesteps  | 4800     |\n",
      "| train/              |          |\n",
      "|    learning_rate    | 0.001    |\n",
      "|    loss             | 0.0168   |\n",
      "|    n_updates        | 4799     |\n",
      "----------------------------------\n"
     ]
    },
    {
     "name": "stderr",
     "output_type": "stream",
     "text": [
      "Warning: Flow '3' has no instances; will skip it.\n"
     ]
    },
    {
     "name": "stdout",
     "output_type": "stream",
     "text": [
      "Step #1000.00 (1ms ~= 1000.00*RT, ~267000.00UPS, TraCI: 38ms, vehicles TOT 467 ACT 267 BUF \n",
      " Retrying in 1 seconds\n"
     ]
    },
    {
     "name": "stderr",
     "output_type": "stream",
     "text": [
      "Warning: Flow '3' has no instances; will skip it.\n"
     ]
    }
   ],
   "source": [
    "train_DQN('4x4loop/4x4loopo1')"
   ]
  },
  {
   "cell_type": "code",
   "execution_count": 125,
   "metadata": {},
   "outputs": [],
   "source": [
    "modelo1 = DQN.load(\"dqn_4x4loopo1.pth\")"
   ]
  },
  {
   "cell_type": "code",
   "execution_count": 126,
   "metadata": {},
   "outputs": [
    {
     "name": "stdout",
     "output_type": "stream",
     "text": [
      "Step #0.00 (0ms ?*RT. ?UPS, TraCI: 1005050ms, vehicles TOT 0 ACT 0 BUF 0)                \n",
      " Retrying in 1 seconds\n"
     ]
    }
   ],
   "source": [
    "obs, info = sumo_env.reset()"
   ]
  },
  {
   "cell_type": "code",
   "execution_count": 127,
   "metadata": {},
   "outputs": [
    {
     "name": "stdout",
     "output_type": "stream",
     "text": [
      "<class 'numpy.ndarray'>\n"
     ]
    }
   ],
   "source": [
    "print(type(obs))"
   ]
  },
  {
   "cell_type": "code",
   "execution_count": 129,
   "metadata": {},
   "outputs": [],
   "source": [
    "def eval_DQN(route_context, max_iter = 1000):\n",
    "    route = route_context.split('/')[1]\n",
    "    sumo_env = SumoEnvironment(\n",
    "        net_file=EnvConfig.net_file, \n",
    "        route_file=f'./nets/{route_context}.rou.xml', \n",
    "        out_csv_name=f'./outputs/{route}/out', \n",
    "        single_agent = EnvConfig.single_agent,\n",
    "        use_gui=EnvConfig.use_gui,\n",
    "        num_seconds=EnvConfig.num_seconds\n",
    "    )\n",
    "    model = DQN.load(f'./dqn_{route}.pth')\n",
    "    obs, info = sumo_env.reset()\n",
    "    total_reward = 0\n",
    "    info_dump = []\n",
    "    for _ in range(max_iter):\n",
    "        with torch.no_grad():\n",
    "            action, meta = model.predict(obs)\n",
    "        obs, reward, done, trunc, info = sumo_env.step(action)\n",
    "        total_reward += reward\n",
    "        info_dump.append(info)\n",
    "        if done:\n",
    "            break\n",
    "    return total_reward, info_dump"
   ]
  },
  {
   "cell_type": "code",
   "execution_count": 130,
   "metadata": {},
   "outputs": [
    {
     "name": "stdout",
     "output_type": "stream",
     "text": [
      " Retrying in 1 seconds\n",
      "Step #0.00 (0ms ?*RT. ?UPS, TraCI: 23ms, vehicles TOT 0 ACT 0 BUF 0)                     \n",
      " Retrying in 1 seconds\n"
     ]
    },
    {
     "name": "stderr",
     "output_type": "stream",
     "text": [
      "Warning: Flow '3' has no instances; will skip it.\n"
     ]
    }
   ],
   "source": [
    "rewo1, info_01 = eval_DQN('4x4loop/4x4loopo1')"
   ]
  },
  {
   "cell_type": "code",
   "execution_count": 133,
   "metadata": {},
   "outputs": [
    {
     "data": {
      "text/plain": [
       "-380.0"
      ]
     },
     "execution_count": 133,
     "metadata": {},
     "output_type": "execute_result"
    }
   ],
   "source": [
    "rewo1"
   ]
  },
  {
   "cell_type": "code",
   "execution_count": 134,
   "metadata": {},
   "outputs": [
    {
     "name": "stdout",
     "output_type": "stream",
     "text": [
      " Retrying in 1 seconds\n",
      "Step #0.00 (0ms ?*RT. ?UPS, TraCI: 23ms, vehicles TOT 0 ACT 0 BUF 0)                     \n",
      " Retrying in 1 seconds\n"
     ]
    },
    {
     "name": "stderr",
     "output_type": "stream",
     "text": [
      "Warning: Flow '2' has no instances; will skip it.\n"
     ]
    },
    {
     "name": "stdout",
     "output_type": "stream",
     "text": [
      "Using mps device\n",
      "Wrapping the env with a `Monitor` wrapper\n",
      "Wrapping the env in a DummyVecEnv.\n",
      "5000\n",
      "Step #0.00 (0ms ?*RT. ?UPS, TraCI: 82ms, vehicles TOT 0 ACT 0 BUF 0)                     \n",
      " Retrying in 1 seconds\n"
     ]
    },
    {
     "name": "stderr",
     "output_type": "stream",
     "text": [
      "Warning: Flow '2' has no instances; will skip it.\n"
     ]
    },
    {
     "name": "stdout",
     "output_type": "stream",
     "text": [
      "Step #1000.00 (0ms ?*RT. ?UPS, TraCI: 35ms, vehicles TOT 444 ACT 244 BUF 156)              \n",
      " Retrying in 1 seconds\n"
     ]
    },
    {
     "name": "stderr",
     "output_type": "stream",
     "text": [
      "Warning: Flow '2' has no instances; will skip it.\n"
     ]
    },
    {
     "name": "stdout",
     "output_type": "stream",
     "text": [
      "Step #1000.00 (1ms ~= 1000.00*RT, ~247000.00UPS, TraCI: 35ms, vehicles TOT 447 ACT 247 BUF \n",
      " Retrying in 1 seconds\n"
     ]
    },
    {
     "name": "stderr",
     "output_type": "stream",
     "text": [
      "Warning: Flow '2' has no instances; will skip it.\n"
     ]
    },
    {
     "name": "stdout",
     "output_type": "stream",
     "text": [
      "Step #1000.00 (0ms ?*RT. ?UPS, TraCI: 38ms, vehicles TOT 448 ACT 248 BUF 152)              \n",
      " Retrying in 1 seconds\n"
     ]
    },
    {
     "name": "stderr",
     "output_type": "stream",
     "text": [
      "Warning: Flow '2' has no instances; will skip it.\n"
     ]
    },
    {
     "name": "stdout",
     "output_type": "stream",
     "text": [
      "Step #1000.00 (0ms ?*RT. ?UPS, TraCI: 36ms, vehicles TOT 445 ACT 245 BUF 155)              \n",
      " Retrying in 1 seconds\n",
      "----------------------------------\n",
      "| rollout/            |          |\n",
      "|    ep_len_mean      | 200      |\n",
      "|    ep_rew_mean      | 0        |\n",
      "|    exploration_rate | 0.01     |\n",
      "| time/               |          |\n",
      "|    episodes         | 4        |\n",
      "|    fps              | 16       |\n",
      "|    time_elapsed     | 47       |\n",
      "|    total_timesteps  | 800      |\n",
      "| train/              |          |\n",
      "|    learning_rate    | 0.001    |\n",
      "|    loss             | 1.17e-06 |\n",
      "|    n_updates        | 799      |\n",
      "----------------------------------\n"
     ]
    },
    {
     "name": "stderr",
     "output_type": "stream",
     "text": [
      "Warning: Flow '2' has no instances; will skip it.\n"
     ]
    },
    {
     "name": "stdout",
     "output_type": "stream",
     "text": [
      "Step #1000.00 (1ms ~= 1000.00*RT, ~248000.00UPS, TraCI: 37ms, vehicles TOT 448 ACT 248 BUF \n",
      " Retrying in 1 seconds\n"
     ]
    },
    {
     "name": "stderr",
     "output_type": "stream",
     "text": [
      "Warning: Flow '2' has no instances; will skip it.\n"
     ]
    },
    {
     "name": "stdout",
     "output_type": "stream",
     "text": [
      "Step #1000.00 (1ms ~= 1000.00*RT, ~249000.00UPS, TraCI: 37ms, vehicles TOT 449 ACT 249 BUF \n",
      " Retrying in 1 seconds\n"
     ]
    },
    {
     "name": "stderr",
     "output_type": "stream",
     "text": [
      "Warning: Flow '2' has no instances; will skip it.\n"
     ]
    },
    {
     "name": "stdout",
     "output_type": "stream",
     "text": [
      "Step #1000.00 (1ms ~= 1000.00*RT, ~246000.00UPS, TraCI: 37ms, vehicles TOT 446 ACT 246 BUF \n",
      " Retrying in 1 seconds\n"
     ]
    },
    {
     "name": "stderr",
     "output_type": "stream",
     "text": [
      "Warning: Flow '2' has no instances; will skip it.\n"
     ]
    },
    {
     "name": "stdout",
     "output_type": "stream",
     "text": [
      "Step #1000.00 (0ms ?*RT. ?UPS, TraCI: 41ms, vehicles TOT 447 ACT 247 BUF 153)              \n",
      " Retrying in 1 seconds\n",
      "----------------------------------\n",
      "| rollout/            |          |\n",
      "|    ep_len_mean      | 200      |\n",
      "|    ep_rew_mean      | 0        |\n",
      "|    exploration_rate | 0.01     |\n",
      "| time/               |          |\n",
      "|    episodes         | 8        |\n",
      "|    fps              | 17       |\n",
      "|    time_elapsed     | 93       |\n",
      "|    total_timesteps  | 1600     |\n",
      "| train/              |          |\n",
      "|    learning_rate    | 0.001    |\n",
      "|    loss             | 2.91e-09 |\n",
      "|    n_updates        | 1599     |\n",
      "----------------------------------\n"
     ]
    },
    {
     "name": "stderr",
     "output_type": "stream",
     "text": [
      "Warning: Flow '2' has no instances; will skip it.\n"
     ]
    },
    {
     "name": "stdout",
     "output_type": "stream",
     "text": [
      "Step #1000.00 (1ms ~= 1000.00*RT, ~247000.00UPS, TraCI: 34ms, vehicles TOT 447 ACT 247 BUF \n",
      " Retrying in 1 seconds\n"
     ]
    },
    {
     "name": "stderr",
     "output_type": "stream",
     "text": [
      "Warning: Flow '2' has no instances; will skip it.\n"
     ]
    },
    {
     "name": "stdout",
     "output_type": "stream",
     "text": [
      "Step #1000.00 (1ms ~= 1000.00*RT, ~249000.00UPS, TraCI: 34ms, vehicles TOT 449 ACT 249 BUF \n",
      " Retrying in 1 seconds\n"
     ]
    },
    {
     "name": "stderr",
     "output_type": "stream",
     "text": [
      "Warning: Flow '2' has no instances; will skip it.\n"
     ]
    },
    {
     "name": "stdout",
     "output_type": "stream",
     "text": [
      "Step #1000.00 (1ms ~= 1000.00*RT, ~244000.00UPS, TraCI: 34ms, vehicles TOT 444 ACT 244 BUF \n",
      " Retrying in 1 seconds\n"
     ]
    },
    {
     "name": "stderr",
     "output_type": "stream",
     "text": [
      "Warning: Flow '2' has no instances; will skip it.\n"
     ]
    },
    {
     "name": "stdout",
     "output_type": "stream",
     "text": [
      "Step #1000.00 (1ms ~= 1000.00*RT, ~248000.00UPS, TraCI: 36ms, vehicles TOT 448 ACT 248 BUF \n",
      " Retrying in 1 seconds\n",
      "----------------------------------\n",
      "| rollout/            |          |\n",
      "|    ep_len_mean      | 200      |\n",
      "|    ep_rew_mean      | 0        |\n",
      "|    exploration_rate | 0.01     |\n",
      "| time/               |          |\n",
      "|    episodes         | 12       |\n",
      "|    fps              | 17       |\n",
      "|    time_elapsed     | 139      |\n",
      "|    total_timesteps  | 2400     |\n",
      "| train/              |          |\n",
      "|    learning_rate    | 0.001    |\n",
      "|    loss             | 7.53e-08 |\n",
      "|    n_updates        | 2399     |\n",
      "----------------------------------\n"
     ]
    },
    {
     "name": "stderr",
     "output_type": "stream",
     "text": [
      "Warning: Flow '2' has no instances; will skip it.\n"
     ]
    },
    {
     "name": "stdout",
     "output_type": "stream",
     "text": [
      "Step #1000.00 (1ms ~= 1000.00*RT, ~244000.00UPS, TraCI: 35ms, vehicles TOT 444 ACT 244 BUF \n",
      " Retrying in 1 seconds\n"
     ]
    },
    {
     "name": "stderr",
     "output_type": "stream",
     "text": [
      "Warning: Flow '2' has no instances; will skip it.\n"
     ]
    },
    {
     "name": "stdout",
     "output_type": "stream",
     "text": [
      "Step #1000.00 (1ms ~= 1000.00*RT, ~247000.00UPS, TraCI: 34ms, vehicles TOT 447 ACT 247 BUF \n",
      " Retrying in 1 seconds\n"
     ]
    },
    {
     "name": "stderr",
     "output_type": "stream",
     "text": [
      "Warning: Flow '2' has no instances; will skip it.\n"
     ]
    },
    {
     "name": "stdout",
     "output_type": "stream",
     "text": [
      "Step #1000.00 (1ms ~= 1000.00*RT, ~248000.00UPS, TraCI: 35ms, vehicles TOT 448 ACT 248 BUF \n",
      " Retrying in 1 seconds\n"
     ]
    },
    {
     "name": "stderr",
     "output_type": "stream",
     "text": [
      "Warning: Flow '2' has no instances; will skip it.\n"
     ]
    },
    {
     "name": "stdout",
     "output_type": "stream",
     "text": [
      "Step #1000.00 (1ms ~= 1000.00*RT, ~244000.00UPS, TraCI: 38ms, vehicles TOT 444 ACT 244 BUF \n",
      " Retrying in 1 seconds\n",
      "----------------------------------\n",
      "| rollout/            |          |\n",
      "|    ep_len_mean      | 200      |\n",
      "|    ep_rew_mean      | 0        |\n",
      "|    exploration_rate | 0.01     |\n",
      "| time/               |          |\n",
      "|    episodes         | 16       |\n",
      "|    fps              | 17       |\n",
      "|    time_elapsed     | 185      |\n",
      "|    total_timesteps  | 3200     |\n",
      "| train/              |          |\n",
      "|    learning_rate    | 0.001    |\n",
      "|    loss             | 9.18e-10 |\n",
      "|    n_updates        | 3199     |\n",
      "----------------------------------\n"
     ]
    },
    {
     "name": "stderr",
     "output_type": "stream",
     "text": [
      "Warning: Flow '2' has no instances; will skip it.\n"
     ]
    },
    {
     "name": "stdout",
     "output_type": "stream",
     "text": [
      "Step #1000.00 (1ms ~= 1000.00*RT, ~246000.00UPS, TraCI: 36ms, vehicles TOT 446 ACT 246 BUF \n",
      " Retrying in 1 seconds\n"
     ]
    },
    {
     "name": "stderr",
     "output_type": "stream",
     "text": [
      "Warning: Flow '2' has no instances; will skip it.\n"
     ]
    },
    {
     "name": "stdout",
     "output_type": "stream",
     "text": [
      "Step #1000.00 (0ms ?*RT. ?UPS, TraCI: 36ms, vehicles TOT 448 ACT 248 BUF 152)              \n",
      " Retrying in 1 seconds\n"
     ]
    },
    {
     "name": "stderr",
     "output_type": "stream",
     "text": [
      "Warning: Flow '2' has no instances; will skip it.\n"
     ]
    },
    {
     "name": "stdout",
     "output_type": "stream",
     "text": [
      "Step #1000.00 (1ms ~= 1000.00*RT, ~248000.00UPS, TraCI: 36ms, vehicles TOT 448 ACT 248 BUF \n",
      " Retrying in 1 seconds\n"
     ]
    },
    {
     "name": "stderr",
     "output_type": "stream",
     "text": [
      "Warning: Flow '2' has no instances; will skip it.\n"
     ]
    },
    {
     "name": "stdout",
     "output_type": "stream",
     "text": [
      "Step #1000.00 (0ms ?*RT. ?UPS, TraCI: 36ms, vehicles TOT 444 ACT 244 BUF 156)              \n",
      " Retrying in 1 seconds\n",
      "----------------------------------\n",
      "| rollout/            |          |\n",
      "|    ep_len_mean      | 200      |\n",
      "|    ep_rew_mean      | 0        |\n",
      "|    exploration_rate | 0.01     |\n",
      "| time/               |          |\n",
      "|    episodes         | 20       |\n",
      "|    fps              | 17       |\n",
      "|    time_elapsed     | 231      |\n",
      "|    total_timesteps  | 4000     |\n",
      "| train/              |          |\n",
      "|    learning_rate    | 0.001    |\n",
      "|    loss             | 1.55e-10 |\n",
      "|    n_updates        | 3999     |\n",
      "----------------------------------\n"
     ]
    },
    {
     "name": "stderr",
     "output_type": "stream",
     "text": [
      "Warning: Flow '2' has no instances; will skip it.\n"
     ]
    },
    {
     "name": "stdout",
     "output_type": "stream",
     "text": [
      "Step #1000.00 (1ms ~= 1000.00*RT, ~248000.00UPS, TraCI: 36ms, vehicles TOT 448 ACT 248 BUF \n",
      " Retrying in 1 seconds\n"
     ]
    },
    {
     "name": "stderr",
     "output_type": "stream",
     "text": [
      "Warning: Flow '2' has no instances; will skip it.\n"
     ]
    },
    {
     "name": "stdout",
     "output_type": "stream",
     "text": [
      "Step #1000.00 (1ms ~= 1000.00*RT, ~246000.00UPS, TraCI: 35ms, vehicles TOT 446 ACT 246 BUF \n",
      " Retrying in 1 seconds\n"
     ]
    },
    {
     "name": "stderr",
     "output_type": "stream",
     "text": [
      "Warning: Flow '2' has no instances; will skip it.\n"
     ]
    },
    {
     "name": "stdout",
     "output_type": "stream",
     "text": [
      "Step #1000.00 (0ms ?*RT. ?UPS, TraCI: 37ms, vehicles TOT 443 ACT 243 BUF 157)              \n",
      " Retrying in 1 seconds\n"
     ]
    },
    {
     "name": "stderr",
     "output_type": "stream",
     "text": [
      "Warning: Flow '2' has no instances; will skip it.\n"
     ]
    },
    {
     "name": "stdout",
     "output_type": "stream",
     "text": [
      "Step #1000.00 (0ms ?*RT. ?UPS, TraCI: 37ms, vehicles TOT 447 ACT 247 BUF 153)              \n",
      " Retrying in 1 seconds\n",
      "----------------------------------\n",
      "| rollout/            |          |\n",
      "|    ep_len_mean      | 200      |\n",
      "|    ep_rew_mean      | 0        |\n",
      "|    exploration_rate | 0.01     |\n",
      "| time/               |          |\n",
      "|    episodes         | 24       |\n",
      "|    fps              | 17       |\n",
      "|    time_elapsed     | 277      |\n",
      "|    total_timesteps  | 4800     |\n",
      "| train/              |          |\n",
      "|    learning_rate    | 0.001    |\n",
      "|    loss             | 3.9e-10  |\n",
      "|    n_updates        | 4799     |\n",
      "----------------------------------\n"
     ]
    },
    {
     "name": "stderr",
     "output_type": "stream",
     "text": [
      "Warning: Flow '2' has no instances; will skip it.\n"
     ]
    },
    {
     "name": "stdout",
     "output_type": "stream",
     "text": [
      "Step #1000.00 (0ms ?*RT. ?UPS, TraCI: 37ms, vehicles TOT 449 ACT 249 BUF 151)              \n",
      " Retrying in 1 seconds\n"
     ]
    },
    {
     "name": "stderr",
     "output_type": "stream",
     "text": [
      "Warning: Flow '2' has no instances; will skip it.\n"
     ]
    }
   ],
   "source": [
    "train_DQN('4x4loop/4x4loopo2')"
   ]
  },
  {
   "cell_type": "code",
   "execution_count": 135,
   "metadata": {},
   "outputs": [
    {
     "name": "stdout",
     "output_type": "stream",
     "text": [
      " Retrying in 1 seconds\n",
      "Step #0.00 (0ms ?*RT. ?UPS, TraCI: 18ms, vehicles TOT 0 ACT 0 BUF 0)                     \n",
      " Retrying in 1 seconds\n"
     ]
    },
    {
     "name": "stderr",
     "output_type": "stream",
     "text": [
      "Warning: Flow '1' has no instances; will skip it.\n"
     ]
    },
    {
     "name": "stdout",
     "output_type": "stream",
     "text": [
      "Using mps device\n",
      "Wrapping the env with a `Monitor` wrapper\n",
      "Wrapping the env in a DummyVecEnv.\n",
      "5000\n",
      "Step #0.00 (0ms ?*RT. ?UPS, TraCI: 55ms, vehicles TOT 0 ACT 0 BUF 0)                     \n",
      " Retrying in 1 seconds\n"
     ]
    },
    {
     "name": "stderr",
     "output_type": "stream",
     "text": [
      "Warning: Flow '1' has no instances; will skip it.\n"
     ]
    },
    {
     "name": "stdout",
     "output_type": "stream",
     "text": [
      "Step #1000.00 (1ms ~= 1000.00*RT, ~271000.00UPS, TraCI: 37ms, vehicles TOT 471 ACT 271 BUF \n",
      " Retrying in 1 seconds\n"
     ]
    },
    {
     "name": "stderr",
     "output_type": "stream",
     "text": [
      "Warning: Flow '1' has no instances; will skip it.\n"
     ]
    },
    {
     "name": "stdout",
     "output_type": "stream",
     "text": [
      "Step #1000.00 (0ms ?*RT. ?UPS, TraCI: 56ms, vehicles TOT 468 ACT 268 BUF 132)              \n",
      " Retrying in 1 seconds\n"
     ]
    },
    {
     "name": "stderr",
     "output_type": "stream",
     "text": [
      "Warning: Flow '1' has no instances; will skip it.\n"
     ]
    },
    {
     "name": "stdout",
     "output_type": "stream",
     "text": [
      "Step #1000.00 (1ms ~= 1000.00*RT, ~268000.00UPS, TraCI: 40ms, vehicles TOT 468 ACT 268 BUF \n",
      " Retrying in 1 seconds\n"
     ]
    },
    {
     "name": "stderr",
     "output_type": "stream",
     "text": [
      "Warning: Flow '1' has no instances; will skip it.\n"
     ]
    },
    {
     "name": "stdout",
     "output_type": "stream",
     "text": [
      "Step #1000.00 (1ms ~= 1000.00*RT, ~271000.00UPS, TraCI: 40ms, vehicles TOT 471 ACT 271 BUF \n",
      " Retrying in 1 seconds\n",
      "----------------------------------\n",
      "| rollout/            |          |\n",
      "|    ep_len_mean      | 200      |\n",
      "|    ep_rew_mean      | -323     |\n",
      "|    exploration_rate | 0.01     |\n",
      "| time/               |          |\n",
      "|    episodes         | 4        |\n",
      "|    fps              | 15       |\n",
      "|    time_elapsed     | 50       |\n",
      "|    total_timesteps  | 800      |\n",
      "| train/              |          |\n",
      "|    learning_rate    | 0.001    |\n",
      "|    loss             | 0.000347 |\n",
      "|    n_updates        | 799      |\n",
      "----------------------------------\n"
     ]
    },
    {
     "name": "stderr",
     "output_type": "stream",
     "text": [
      "Warning: Flow '1' has no instances; will skip it.\n"
     ]
    },
    {
     "name": "stdout",
     "output_type": "stream",
     "text": [
      "Step #1000.00 (1ms ~= 1000.00*RT, ~269000.00UPS, TraCI: 40ms, vehicles TOT 469 ACT 269 BUF \n",
      " Retrying in 1 seconds\n"
     ]
    },
    {
     "name": "stderr",
     "output_type": "stream",
     "text": [
      "Warning: Flow '1' has no instances; will skip it.\n"
     ]
    },
    {
     "name": "stdout",
     "output_type": "stream",
     "text": [
      "Step #1000.00 (1ms ~= 1000.00*RT, ~271000.00UPS, TraCI: 37ms, vehicles TOT 471 ACT 271 BUF \n",
      " Retrying in 1 seconds\n"
     ]
    },
    {
     "name": "stderr",
     "output_type": "stream",
     "text": [
      "Warning: Flow '1' has no instances; will skip it.\n"
     ]
    },
    {
     "name": "stdout",
     "output_type": "stream",
     "text": [
      "Step #1000.00 (0ms ?*RT. ?UPS, TraCI: 38ms, vehicles TOT 471 ACT 271 BUF 129)              \n",
      " Retrying in 1 seconds\n"
     ]
    },
    {
     "name": "stderr",
     "output_type": "stream",
     "text": [
      "Warning: Flow '1' has no instances; will skip it.\n"
     ]
    },
    {
     "name": "stdout",
     "output_type": "stream",
     "text": [
      "Step #1000.00 (1ms ~= 1000.00*RT, ~272000.00UPS, TraCI: 37ms, vehicles TOT 472 ACT 272 BUF \n",
      " Retrying in 1 seconds\n",
      "----------------------------------\n",
      "| rollout/            |          |\n",
      "|    ep_len_mean      | 200      |\n",
      "|    ep_rew_mean      | -323     |\n",
      "|    exploration_rate | 0.01     |\n",
      "| time/               |          |\n",
      "|    episodes         | 8        |\n",
      "|    fps              | 16       |\n",
      "|    time_elapsed     | 99       |\n",
      "|    total_timesteps  | 1600     |\n",
      "| train/              |          |\n",
      "|    learning_rate    | 0.001    |\n",
      "|    loss             | 0.00253  |\n",
      "|    n_updates        | 1599     |\n",
      "----------------------------------\n"
     ]
    },
    {
     "name": "stderr",
     "output_type": "stream",
     "text": [
      "Warning: Flow '1' has no instances; will skip it.\n"
     ]
    },
    {
     "name": "stdout",
     "output_type": "stream",
     "text": [
      "Step #1000.00 (1ms ~= 1000.00*RT, ~270000.00UPS, TraCI: 38ms, vehicles TOT 470 ACT 270 BUF \n",
      " Retrying in 1 seconds\n"
     ]
    },
    {
     "name": "stderr",
     "output_type": "stream",
     "text": [
      "Warning: Flow '1' has no instances; will skip it.\n"
     ]
    },
    {
     "name": "stdout",
     "output_type": "stream",
     "text": [
      "Step #1000.00 (0ms ?*RT. ?UPS, TraCI: 45ms, vehicles TOT 468 ACT 268 BUF 132)              \n",
      " Retrying in 1 seconds\n"
     ]
    },
    {
     "name": "stderr",
     "output_type": "stream",
     "text": [
      "Warning: Flow '1' has no instances; will skip it.\n"
     ]
    },
    {
     "name": "stdout",
     "output_type": "stream",
     "text": [
      "Step #1000.00 (1ms ~= 1000.00*RT, ~272000.00UPS, TraCI: 43ms, vehicles TOT 472 ACT 272 BUF \n",
      " Retrying in 1 seconds\n"
     ]
    },
    {
     "name": "stderr",
     "output_type": "stream",
     "text": [
      "Warning: Flow '1' has no instances; will skip it.\n"
     ]
    },
    {
     "name": "stdout",
     "output_type": "stream",
     "text": [
      "Step #1000.00 (0ms ?*RT. ?UPS, TraCI: 41ms, vehicles TOT 469 ACT 269 BUF 131)              \n",
      " Retrying in 1 seconds\n",
      "----------------------------------\n",
      "| rollout/            |          |\n",
      "|    ep_len_mean      | 200      |\n",
      "|    ep_rew_mean      | -323     |\n",
      "|    exploration_rate | 0.01     |\n",
      "| time/               |          |\n",
      "|    episodes         | 12       |\n",
      "|    fps              | 16       |\n",
      "|    time_elapsed     | 147      |\n",
      "|    total_timesteps  | 2400     |\n",
      "| train/              |          |\n",
      "|    learning_rate    | 0.001    |\n",
      "|    loss             | 0.0171   |\n",
      "|    n_updates        | 2399     |\n",
      "----------------------------------\n"
     ]
    },
    {
     "name": "stderr",
     "output_type": "stream",
     "text": [
      "Warning: Flow '1' has no instances; will skip it.\n"
     ]
    },
    {
     "name": "stdout",
     "output_type": "stream",
     "text": [
      "Step #1000.00 (0ms ?*RT. ?UPS, TraCI: 39ms, vehicles TOT 468 ACT 268 BUF 132)              \n",
      " Retrying in 1 seconds\n"
     ]
    },
    {
     "name": "stderr",
     "output_type": "stream",
     "text": [
      "Warning: Flow '1' has no instances; will skip it.\n"
     ]
    },
    {
     "name": "stdout",
     "output_type": "stream",
     "text": [
      "Step #1000.00 (1ms ~= 1000.00*RT, ~270000.00UPS, TraCI: 38ms, vehicles TOT 470 ACT 270 BUF \n",
      " Retrying in 1 seconds\n"
     ]
    },
    {
     "name": "stderr",
     "output_type": "stream",
     "text": [
      "Warning: Flow '1' has no instances; will skip it.\n"
     ]
    },
    {
     "name": "stdout",
     "output_type": "stream",
     "text": [
      "Step #1000.00 (0ms ?*RT. ?UPS, TraCI: 38ms, vehicles TOT 471 ACT 271 BUF 129)              \n",
      " Retrying in 1 seconds\n"
     ]
    },
    {
     "name": "stderr",
     "output_type": "stream",
     "text": [
      "Warning: Flow '1' has no instances; will skip it.\n"
     ]
    },
    {
     "name": "stdout",
     "output_type": "stream",
     "text": [
      "Step #1000.00 (1ms ~= 1000.00*RT, ~270000.00UPS, TraCI: 41ms, vehicles TOT 470 ACT 270 BUF \n",
      " Retrying in 1 seconds\n",
      "----------------------------------\n",
      "| rollout/            |          |\n",
      "|    ep_len_mean      | 200      |\n",
      "|    ep_rew_mean      | -323     |\n",
      "|    exploration_rate | 0.01     |\n",
      "| time/               |          |\n",
      "|    episodes         | 16       |\n",
      "|    fps              | 16       |\n",
      "|    time_elapsed     | 196      |\n",
      "|    total_timesteps  | 3200     |\n",
      "| train/              |          |\n",
      "|    learning_rate    | 0.001    |\n",
      "|    loss             | 0.00498  |\n",
      "|    n_updates        | 3199     |\n",
      "----------------------------------\n"
     ]
    },
    {
     "name": "stderr",
     "output_type": "stream",
     "text": [
      "Warning: Flow '1' has no instances; will skip it.\n"
     ]
    },
    {
     "name": "stdout",
     "output_type": "stream",
     "text": [
      "Step #1000.00 (1ms ~= 1000.00*RT, ~270000.00UPS, TraCI: 38ms, vehicles TOT 470 ACT 270 BUF \n",
      " Retrying in 1 seconds\n"
     ]
    },
    {
     "name": "stderr",
     "output_type": "stream",
     "text": [
      "Warning: Flow '1' has no instances; will skip it.\n"
     ]
    },
    {
     "name": "stdout",
     "output_type": "stream",
     "text": [
      "Step #1000.00 (1ms ~= 1000.00*RT, ~272000.00UPS, TraCI: 39ms, vehicles TOT 472 ACT 272 BUF \n",
      " Retrying in 1 seconds\n"
     ]
    },
    {
     "name": "stderr",
     "output_type": "stream",
     "text": [
      "Warning: Flow '1' has no instances; will skip it.\n"
     ]
    },
    {
     "name": "stdout",
     "output_type": "stream",
     "text": [
      "Step #1000.00 (0ms ?*RT. ?UPS, TraCI: 39ms, vehicles TOT 471 ACT 271 BUF 129)              \n",
      " Retrying in 1 seconds\n"
     ]
    },
    {
     "name": "stderr",
     "output_type": "stream",
     "text": [
      "Warning: Flow '1' has no instances; will skip it.\n"
     ]
    },
    {
     "name": "stdout",
     "output_type": "stream",
     "text": [
      "Step #1000.00 (0ms ?*RT. ?UPS, TraCI: 41ms, vehicles TOT 470 ACT 270 BUF 130)              \n",
      " Retrying in 1 seconds\n",
      "----------------------------------\n",
      "| rollout/            |          |\n",
      "|    ep_len_mean      | 200      |\n",
      "|    ep_rew_mean      | -323     |\n",
      "|    exploration_rate | 0.01     |\n",
      "| time/               |          |\n",
      "|    episodes         | 20       |\n",
      "|    fps              | 16       |\n",
      "|    time_elapsed     | 245      |\n",
      "|    total_timesteps  | 4000     |\n",
      "| train/              |          |\n",
      "|    learning_rate    | 0.001    |\n",
      "|    loss             | 0.0516   |\n",
      "|    n_updates        | 3999     |\n",
      "----------------------------------\n"
     ]
    },
    {
     "name": "stderr",
     "output_type": "stream",
     "text": [
      "Warning: Flow '1' has no instances; will skip it.\n"
     ]
    },
    {
     "name": "stdout",
     "output_type": "stream",
     "text": [
      "Step #1000.00 (1ms ~= 1000.00*RT, ~269000.00UPS, TraCI: 46ms, vehicles TOT 469 ACT 269 BUF \n",
      " Retrying in 1 seconds\n"
     ]
    },
    {
     "name": "stderr",
     "output_type": "stream",
     "text": [
      "Warning: Flow '1' has no instances; will skip it.\n"
     ]
    },
    {
     "name": "stdout",
     "output_type": "stream",
     "text": [
      "Step #1000.00 (0ms ?*RT. ?UPS, TraCI: 40ms, vehicles TOT 470 ACT 270 BUF 130)              \n",
      " Retrying in 1 seconds\n"
     ]
    },
    {
     "name": "stderr",
     "output_type": "stream",
     "text": [
      "Warning: Flow '1' has no instances; will skip it.\n"
     ]
    },
    {
     "name": "stdout",
     "output_type": "stream",
     "text": [
      "Step #1000.00 (1ms ~= 1000.00*RT, ~269000.00UPS, TraCI: 41ms, vehicles TOT 469 ACT 269 BUF \n",
      " Retrying in 1 seconds\n"
     ]
    },
    {
     "name": "stderr",
     "output_type": "stream",
     "text": [
      "Warning: Flow '1' has no instances; will skip it.\n"
     ]
    },
    {
     "name": "stdout",
     "output_type": "stream",
     "text": [
      "Step #1000.00 (1ms ~= 1000.00*RT, ~267000.00UPS, TraCI: 40ms, vehicles TOT 467 ACT 267 BUF \n",
      " Retrying in 1 seconds\n",
      "----------------------------------\n",
      "| rollout/            |          |\n",
      "|    ep_len_mean      | 200      |\n",
      "|    ep_rew_mean      | -323     |\n",
      "|    exploration_rate | 0.01     |\n",
      "| time/               |          |\n",
      "|    episodes         | 24       |\n",
      "|    fps              | 16       |\n",
      "|    time_elapsed     | 296      |\n",
      "|    total_timesteps  | 4800     |\n",
      "| train/              |          |\n",
      "|    learning_rate    | 0.001    |\n",
      "|    loss             | 0.00295  |\n",
      "|    n_updates        | 4799     |\n",
      "----------------------------------\n"
     ]
    },
    {
     "name": "stderr",
     "output_type": "stream",
     "text": [
      "Warning: Flow '1' has no instances; will skip it.\n"
     ]
    },
    {
     "name": "stdout",
     "output_type": "stream",
     "text": [
      "Step #1000.00 (1ms ~= 1000.00*RT, ~269000.00UPS, TraCI: 40ms, vehicles TOT 469 ACT 269 BUF \n",
      " Retrying in 1 seconds\n"
     ]
    },
    {
     "name": "stderr",
     "output_type": "stream",
     "text": [
      "Warning: Flow '1' has no instances; will skip it.\n"
     ]
    }
   ],
   "source": [
    "train_DQN('4x4loop/4x4loopo5')"
   ]
  },
  {
   "cell_type": "code",
   "execution_count": 136,
   "metadata": {},
   "outputs": [
    {
     "name": "stdout",
     "output_type": "stream",
     "text": [
      " Retrying in 1 seconds\n",
      "Step #0.00 (0ms ?*RT. ?UPS, TraCI: 22ms, vehicles TOT 0 ACT 0 BUF 0)                     \n",
      " Retrying in 1 seconds\n"
     ]
    },
    {
     "name": "stderr",
     "output_type": "stream",
     "text": [
      "Warning: Flow '0' has no instances; will skip it.\n"
     ]
    },
    {
     "name": "stdout",
     "output_type": "stream",
     "text": [
      "Using mps device\n",
      "Wrapping the env with a `Monitor` wrapper\n",
      "Wrapping the env in a DummyVecEnv.\n",
      "5000\n",
      "Step #0.00 (0ms ?*RT. ?UPS, TraCI: 59ms, vehicles TOT 0 ACT 0 BUF 0)                     \n",
      " Retrying in 1 seconds\n"
     ]
    },
    {
     "name": "stderr",
     "output_type": "stream",
     "text": [
      "Warning: Flow '0' has no instances; will skip it.\n"
     ]
    },
    {
     "name": "stdout",
     "output_type": "stream",
     "text": [
      "Step #1000.00 (1ms ~= 1000.00*RT, ~396000.00UPS, TraCI: 54ms, vehicles TOT 396 ACT 396 BUF \n",
      " Retrying in 1 seconds\n"
     ]
    },
    {
     "name": "stderr",
     "output_type": "stream",
     "text": [
      "Warning: Flow '0' has no instances; will skip it.\n"
     ]
    },
    {
     "name": "stdout",
     "output_type": "stream",
     "text": [
      "Step #1000.00 (1ms ~= 1000.00*RT, ~396000.00UPS, TraCI: 57ms, vehicles TOT 396 ACT 396 BUF \n",
      " Retrying in 1 seconds\n"
     ]
    },
    {
     "name": "stderr",
     "output_type": "stream",
     "text": [
      "Warning: Flow '0' has no instances; will skip it.\n"
     ]
    },
    {
     "name": "stdout",
     "output_type": "stream",
     "text": [
      "Step #1000.00 (1ms ~= 1000.00*RT, ~395000.00UPS, TraCI: 55ms, vehicles TOT 395 ACT 395 BUF \n",
      " Retrying in 1 seconds\n"
     ]
    },
    {
     "name": "stderr",
     "output_type": "stream",
     "text": [
      "Warning: Flow '0' has no instances; will skip it.\n"
     ]
    },
    {
     "name": "stdout",
     "output_type": "stream",
     "text": [
      "Step #1000.00 (1ms ~= 1000.00*RT, ~395000.00UPS, TraCI: 79ms, vehicles TOT 395 ACT 395 BUF \n",
      " Retrying in 1 seconds\n",
      "----------------------------------\n",
      "| rollout/            |          |\n",
      "|    ep_len_mean      | 200      |\n",
      "|    ep_rew_mean      | -323     |\n",
      "|    exploration_rate | 0.01     |\n",
      "| time/               |          |\n",
      "|    episodes         | 4        |\n",
      "|    fps              | 13       |\n",
      "|    time_elapsed     | 60       |\n",
      "|    total_timesteps  | 800      |\n",
      "| train/              |          |\n",
      "|    learning_rate    | 0.001    |\n",
      "|    loss             | 0.000371 |\n",
      "|    n_updates        | 799      |\n",
      "----------------------------------\n"
     ]
    },
    {
     "name": "stderr",
     "output_type": "stream",
     "text": [
      "Warning: Flow '0' has no instances; will skip it.\n"
     ]
    },
    {
     "name": "stdout",
     "output_type": "stream",
     "text": [
      "Step #1000.00 (1ms ~= 1000.00*RT, ~397000.00UPS, TraCI: 54ms, vehicles TOT 397 ACT 397 BUF \n",
      " Retrying in 1 seconds\n"
     ]
    },
    {
     "name": "stderr",
     "output_type": "stream",
     "text": [
      "Warning: Flow '0' has no instances; will skip it.\n"
     ]
    },
    {
     "name": "stdout",
     "output_type": "stream",
     "text": [
      "Step #1000.00 (1ms ~= 1000.00*RT, ~401000.00UPS, TraCI: 55ms, vehicles TOT 401 ACT 401 BUF \n",
      " Retrying in 1 seconds\n"
     ]
    },
    {
     "name": "stderr",
     "output_type": "stream",
     "text": [
      "Warning: Flow '0' has no instances; will skip it.\n"
     ]
    },
    {
     "name": "stdout",
     "output_type": "stream",
     "text": [
      "Step #1000.00 (1ms ~= 1000.00*RT, ~394000.00UPS, TraCI: 50ms, vehicles TOT 394 ACT 394 BUF \n",
      " Retrying in 1 seconds\n"
     ]
    },
    {
     "name": "stderr",
     "output_type": "stream",
     "text": [
      "Warning: Flow '0' has no instances; will skip it.\n"
     ]
    },
    {
     "name": "stdout",
     "output_type": "stream",
     "text": [
      "Step #1000.00 (1ms ~= 1000.00*RT, ~398000.00UPS, TraCI: 54ms, vehicles TOT 398 ACT 398 BUF \n",
      " Retrying in 1 seconds\n",
      "----------------------------------\n",
      "| rollout/            |          |\n",
      "|    ep_len_mean      | 200      |\n",
      "|    ep_rew_mean      | -324     |\n",
      "|    exploration_rate | 0.01     |\n",
      "| time/               |          |\n",
      "|    episodes         | 8        |\n",
      "|    fps              | 13       |\n",
      "|    time_elapsed     | 119      |\n",
      "|    total_timesteps  | 1600     |\n",
      "| train/              |          |\n",
      "|    learning_rate    | 0.001    |\n",
      "|    loss             | 0.0023   |\n",
      "|    n_updates        | 1599     |\n",
      "----------------------------------\n"
     ]
    },
    {
     "name": "stderr",
     "output_type": "stream",
     "text": [
      "Warning: Flow '0' has no instances; will skip it.\n"
     ]
    },
    {
     "name": "stdout",
     "output_type": "stream",
     "text": [
      "Step #1000.00 (1ms ~= 1000.00*RT, ~397000.00UPS, TraCI: 62ms, vehicles TOT 397 ACT 397 BUF \n",
      " Retrying in 1 seconds\n"
     ]
    },
    {
     "name": "stderr",
     "output_type": "stream",
     "text": [
      "Warning: Flow '0' has no instances; will skip it.\n"
     ]
    },
    {
     "name": "stdout",
     "output_type": "stream",
     "text": [
      "Step #1000.00 (1ms ~= 1000.00*RT, ~398000.00UPS, TraCI: 59ms, vehicles TOT 398 ACT 398 BUF \n",
      " Retrying in 1 seconds\n"
     ]
    },
    {
     "name": "stderr",
     "output_type": "stream",
     "text": [
      "Warning: Flow '0' has no instances; will skip it.\n"
     ]
    },
    {
     "name": "stdout",
     "output_type": "stream",
     "text": [
      "Step #1000.00 (1ms ~= 1000.00*RT, ~394000.00UPS, TraCI: 54ms, vehicles TOT 394 ACT 394 BUF \n",
      " Retrying in 1 seconds\n"
     ]
    },
    {
     "name": "stderr",
     "output_type": "stream",
     "text": [
      "Warning: Flow '0' has no instances; will skip it.\n"
     ]
    },
    {
     "name": "stdout",
     "output_type": "stream",
     "text": [
      "Step #1000.00 (1ms ~= 1000.00*RT, ~396000.00UPS, TraCI: 56ms, vehicles TOT 396 ACT 396 BUF \n",
      " Retrying in 1 seconds\n",
      "----------------------------------\n",
      "| rollout/            |          |\n",
      "|    ep_len_mean      | 200      |\n",
      "|    ep_rew_mean      | -324     |\n",
      "|    exploration_rate | 0.01     |\n",
      "| time/               |          |\n",
      "|    episodes         | 12       |\n",
      "|    fps              | 13       |\n",
      "|    time_elapsed     | 180      |\n",
      "|    total_timesteps  | 2400     |\n",
      "| train/              |          |\n",
      "|    learning_rate    | 0.001    |\n",
      "|    loss             | 0.000223 |\n",
      "|    n_updates        | 2399     |\n",
      "----------------------------------\n"
     ]
    },
    {
     "name": "stderr",
     "output_type": "stream",
     "text": [
      "Warning: Flow '0' has no instances; will skip it.\n"
     ]
    },
    {
     "name": "stdout",
     "output_type": "stream",
     "text": [
      "Step #1000.00 (1ms ~= 1000.00*RT, ~398000.00UPS, TraCI: 53ms, vehicles TOT 398 ACT 398 BUF \n",
      " Retrying in 1 seconds\n"
     ]
    },
    {
     "name": "stderr",
     "output_type": "stream",
     "text": [
      "Warning: Flow '0' has no instances; will skip it.\n"
     ]
    },
    {
     "name": "stdout",
     "output_type": "stream",
     "text": [
      "Step #1000.00 (1ms ~= 1000.00*RT, ~394000.00UPS, TraCI: 53ms, vehicles TOT 394 ACT 394 BUF \n",
      " Retrying in 1 seconds\n"
     ]
    },
    {
     "name": "stderr",
     "output_type": "stream",
     "text": [
      "Warning: Flow '0' has no instances; will skip it.\n"
     ]
    },
    {
     "name": "stdout",
     "output_type": "stream",
     "text": [
      "Step #1000.00 (1ms ~= 1000.00*RT, ~399000.00UPS, TraCI: 53ms, vehicles TOT 399 ACT 399 BUF \n",
      " Retrying in 1 seconds\n"
     ]
    },
    {
     "name": "stderr",
     "output_type": "stream",
     "text": [
      "Warning: Flow '0' has no instances; will skip it.\n"
     ]
    },
    {
     "name": "stdout",
     "output_type": "stream",
     "text": [
      "Step #1000.00 (0ms ?*RT. ?UPS, TraCI: 55ms, vehicles TOT 398 ACT 398 BUF 202)              \n",
      " Retrying in 1 seconds\n",
      "----------------------------------\n",
      "| rollout/            |          |\n",
      "|    ep_len_mean      | 200      |\n",
      "|    ep_rew_mean      | -323     |\n",
      "|    exploration_rate | 0.01     |\n",
      "| time/               |          |\n",
      "|    episodes         | 16       |\n",
      "|    fps              | 13       |\n",
      "|    time_elapsed     | 239      |\n",
      "|    total_timesteps  | 3200     |\n",
      "| train/              |          |\n",
      "|    learning_rate    | 0.001    |\n",
      "|    loss             | 0.00333  |\n",
      "|    n_updates        | 3199     |\n",
      "----------------------------------\n"
     ]
    },
    {
     "name": "stderr",
     "output_type": "stream",
     "text": [
      "Warning: Flow '0' has no instances; will skip it.\n"
     ]
    },
    {
     "name": "stdout",
     "output_type": "stream",
     "text": [
      "Step #1000.00 (1ms ~= 1000.00*RT, ~400000.00UPS, TraCI: 59ms, vehicles TOT 400 ACT 400 BUF \n",
      " Retrying in 1 seconds\n"
     ]
    },
    {
     "name": "stderr",
     "output_type": "stream",
     "text": [
      "Warning: Flow '0' has no instances; will skip it.\n"
     ]
    },
    {
     "name": "stdout",
     "output_type": "stream",
     "text": [
      "Step #1000.00 (1ms ~= 1000.00*RT, ~391000.00UPS, TraCI: 59ms, vehicles TOT 391 ACT 391 BUF \n",
      " Retrying in 1 seconds\n"
     ]
    },
    {
     "name": "stderr",
     "output_type": "stream",
     "text": [
      "Warning: Flow '0' has no instances; will skip it.\n"
     ]
    },
    {
     "name": "stdout",
     "output_type": "stream",
     "text": [
      "Step #1000.00 (1ms ~= 1000.00*RT, ~398000.00UPS, TraCI: 54ms, vehicles TOT 398 ACT 398 BUF \n",
      " Retrying in 1 seconds\n"
     ]
    },
    {
     "name": "stderr",
     "output_type": "stream",
     "text": [
      "Warning: Flow '0' has no instances; will skip it.\n"
     ]
    },
    {
     "name": "stdout",
     "output_type": "stream",
     "text": [
      "Step #1000.00 (1ms ~= 1000.00*RT, ~395000.00UPS, TraCI: 55ms, vehicles TOT 395 ACT 395 BUF \n",
      " Retrying in 1 seconds\n",
      "----------------------------------\n",
      "| rollout/            |          |\n",
      "|    ep_len_mean      | 200      |\n",
      "|    ep_rew_mean      | -323     |\n",
      "|    exploration_rate | 0.01     |\n",
      "| time/               |          |\n",
      "|    episodes         | 20       |\n",
      "|    fps              | 13       |\n",
      "|    time_elapsed     | 302      |\n",
      "|    total_timesteps  | 4000     |\n",
      "| train/              |          |\n",
      "|    learning_rate    | 0.001    |\n",
      "|    loss             | 0.0389   |\n",
      "|    n_updates        | 3999     |\n",
      "----------------------------------\n"
     ]
    },
    {
     "name": "stderr",
     "output_type": "stream",
     "text": [
      "Warning: Flow '0' has no instances; will skip it.\n"
     ]
    },
    {
     "name": "stdout",
     "output_type": "stream",
     "text": [
      "Step #1000.00 (2ms ~= 500.00*RT, ~199500.00UPS, TraCI: 58ms, vehicles TOT 399 ACT 399 BUF 2\n",
      " Retrying in 1 seconds\n"
     ]
    },
    {
     "name": "stderr",
     "output_type": "stream",
     "text": [
      "Warning: Flow '0' has no instances; will skip it.\n"
     ]
    },
    {
     "name": "stdout",
     "output_type": "stream",
     "text": [
      "Step #1000.00 (1ms ~= 1000.00*RT, ~397000.00UPS, TraCI: 55ms, vehicles TOT 397 ACT 397 BUF \n",
      " Retrying in 1 seconds\n"
     ]
    },
    {
     "name": "stderr",
     "output_type": "stream",
     "text": [
      "Warning: Flow '0' has no instances; will skip it.\n"
     ]
    },
    {
     "name": "stdout",
     "output_type": "stream",
     "text": [
      "Step #1000.00 (1ms ~= 1000.00*RT, ~396000.00UPS, TraCI: 57ms, vehicles TOT 396 ACT 396 BUF \n",
      " Retrying in 1 seconds\n"
     ]
    },
    {
     "name": "stderr",
     "output_type": "stream",
     "text": [
      "Warning: Flow '0' has no instances; will skip it.\n"
     ]
    },
    {
     "name": "stdout",
     "output_type": "stream",
     "text": [
      "Step #1000.00 (2ms ~= 500.00*RT, ~198500.00UPS, TraCI: 58ms, vehicles TOT 397 ACT 397 BUF 2\n",
      " Retrying in 1 seconds\n",
      "----------------------------------\n",
      "| rollout/            |          |\n",
      "|    ep_len_mean      | 200      |\n",
      "|    ep_rew_mean      | -323     |\n",
      "|    exploration_rate | 0.01     |\n",
      "| time/               |          |\n",
      "|    episodes         | 24       |\n",
      "|    fps              | 13       |\n",
      "|    time_elapsed     | 364      |\n",
      "|    total_timesteps  | 4800     |\n",
      "| train/              |          |\n",
      "|    learning_rate    | 0.001    |\n",
      "|    loss             | 0.0693   |\n",
      "|    n_updates        | 4799     |\n",
      "----------------------------------\n"
     ]
    },
    {
     "name": "stderr",
     "output_type": "stream",
     "text": [
      "Warning: Flow '0' has no instances; will skip it.\n"
     ]
    },
    {
     "name": "stdout",
     "output_type": "stream",
     "text": [
      "Step #1000.00 (1ms ~= 1000.00*RT, ~401000.00UPS, TraCI: 56ms, vehicles TOT 401 ACT 401 BUF \n",
      " Retrying in 1 seconds\n"
     ]
    },
    {
     "name": "stderr",
     "output_type": "stream",
     "text": [
      "Warning: Flow '0' has no instances; will skip it.\n"
     ]
    }
   ],
   "source": [
    "train_DQN('4x4loop/4x4loopo7')"
   ]
  },
  {
   "cell_type": "code",
   "execution_count": 151,
   "metadata": {},
   "outputs": [],
   "source": [
    "def eval_training(route_context, max_iter = 100):\n",
    "    route = route_context.split('/')[1]\n",
    "    sumo_env = SumoEnvironment(\n",
    "        net_file=EnvConfig.net_file, \n",
    "        route_file=f'./nets/4x4loop/4x4looptest.rou.xml', \n",
    "        out_csv_name=f'./outputs/{route}/out', \n",
    "        single_agent = EnvConfig.single_agent,\n",
    "        use_gui=EnvConfig.use_gui,\n",
    "        num_seconds=EnvConfig.num_seconds\n",
    "    )\n",
    "    model = DQN.load(f'./dqn_{route}.pth')\n",
    "    obs, info = sumo_env.reset()\n",
    "    total_reward = 0\n",
    "    info_dump = []\n",
    "    for _ in range(max_iter):\n",
    "        with torch.no_grad():\n",
    "            action, meta = model.predict(obs)\n",
    "        obs, reward, done, trunc, info = sumo_env.step(action)\n",
    "        total_reward += reward\n",
    "        info_dump.append(info)\n",
    "        if done:\n",
    "            break\n",
    "    return total_reward, info_dump"
   ]
  },
  {
   "cell_type": "code",
   "execution_count": 152,
   "metadata": {},
   "outputs": [
    {
     "name": "stdout",
     "output_type": "stream",
     "text": [
      " Retrying in 1 seconds\n",
      "Step #0.00 (0ms ?*RT. ?UPS, TraCI: 17ms, vehicles TOT 0 ACT 0 BUF 0)                     \n",
      " Retrying in 1 seconds\n",
      "1\n",
      " Retrying in 1 seconds\n",
      "Step #0.00 (0ms ?*RT. ?UPS, TraCI: 19ms, vehicles TOT 0 ACT 0 BUF 0)                     \n",
      " Retrying in 1 seconds\n",
      "2\n",
      " Retrying in 1 seconds\n",
      "Step #0.00 (0ms ?*RT. ?UPS, TraCI: 18ms, vehicles TOT 0 ACT 0 BUF 0)                     \n",
      " Retrying in 1 seconds\n",
      "5\n",
      " Retrying in 1 seconds\n",
      "Step #0.00 (0ms ?*RT. ?UPS, TraCI: 14ms, vehicles TOT 0 ACT 0 BUF 0)                     \n",
      " Retrying in 1 seconds\n",
      "7\n"
     ]
    }
   ],
   "source": [
    "rewards = []\n",
    "info = []\n",
    "for i in [1,2,5,7]:\n",
    "    r, j = eval_training(f'4x4loop/4x4loopo{i}')\n",
    "    rewards.append(r)\n",
    "    info.append(j)\n",
    "    print(i)"
   ]
  },
  {
   "cell_type": "code",
   "execution_count": 153,
   "metadata": {},
   "outputs": [
    {
     "data": {
      "text/plain": [
       "[-136.64, -135.15, -133.2, -135.39]"
      ]
     },
     "execution_count": 153,
     "metadata": {},
     "output_type": "execute_result"
    }
   ],
   "source": [
    "rewards"
   ]
  },
  {
   "cell_type": "code",
   "execution_count": 145,
   "metadata": {},
   "outputs": [],
   "source": [
    "experts = {\n",
    "    0.1 : './dqn_4x4loopo1.pth',\n",
    "    0.2 : './dqn_4x4loopo2.pth',\n",
    "    0.5 : './dqn_4x4loopo5.pth',\n",
    "    0.7 : './dqn_4x4loopo7.pth',\n",
    "}"
   ]
  },
  {
   "cell_type": "code",
   "execution_count": 146,
   "metadata": {},
   "outputs": [],
   "source": [
    "from models.moe import SimpleMOE"
   ]
  },
  {
   "cell_type": "code",
   "execution_count": 147,
   "metadata": {},
   "outputs": [],
   "source": [
    "moe = SimpleMOE(experts)"
   ]
  }
 ],
 "metadata": {
  "kernelspec": {
   "display_name": ".venv",
   "language": "python",
   "name": "python3"
  },
  "language_info": {
   "codemirror_mode": {
    "name": "ipython",
    "version": 3
   },
   "file_extension": ".py",
   "mimetype": "text/x-python",
   "name": "python",
   "nbconvert_exporter": "python",
   "pygments_lexer": "ipython3",
   "version": "3.9.6"
  }
 },
 "nbformat": 4,
 "nbformat_minor": 2
}
