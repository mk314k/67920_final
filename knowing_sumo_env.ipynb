{
 "cells": [
  {
   "cell_type": "code",
   "execution_count": 1,
   "metadata": {},
   "outputs": [],
   "source": [
    "import os\n",
    "os.environ['SUMO_HOME'] = \"../.venv/lib/python3.9/site-packages/sumo\""
   ]
  },
  {
   "cell_type": "code",
   "execution_count": 2,
   "metadata": {},
   "outputs": [],
   "source": [
    "import torch\n",
    "from sumo_rl import SumoEnvironment\n",
    "from stable_baselines3.dqn.dqn import DQN"
   ]
  },
  {
   "cell_type": "code",
   "execution_count": 14,
   "metadata": {},
   "outputs": [
    {
     "name": "stdout",
     "output_type": "stream",
     "text": [
      " Retrying in 1 seconds\n",
      "Step #0.00 (0ms ?*RT. ?UPS, TraCI: 11ms, vehicles TOT 0 ACT 0 BUF 0)                     \n"
     ]
    }
   ],
   "source": [
    "sumo_env = SumoEnvironment(\n",
    "    net_file='./nets/2x2grid/2x2.net.xml', \n",
    "    route_file='./nets/2x2grid/2x2o1.rou.xml', \n",
    "    out_csv_name='./out.csv', \n",
    "    single_agent = True,\n",
    "    use_gui=True,\n",
    "    num_seconds=1000\n",
    ")"
   ]
  },
  {
   "cell_type": "code",
   "execution_count": 6,
   "metadata": {},
   "outputs": [
    {
     "name": "stdout",
     "output_type": "stream",
     "text": [
      " Retrying in 1 seconds\n"
     ]
    },
    {
     "name": "stderr",
     "output_type": "stream",
     "text": [
      "Fontconfig error: Cannot load default config file: No such file: (null)\n"
     ]
    },
    {
     "data": {
      "text/plain": [
       "(array([1., 0., 0., 0., 0., 0., 0., 0., 0., 0., 0., 0., 0., 0., 0., 0., 0.,\n",
       "        0., 0., 0., 0.], dtype=float32),\n",
       " {'step': 0.0,\n",
       "  'system_total_stopped': 0,\n",
       "  'system_total_waiting_time': 0,\n",
       "  'system_mean_waiting_time': 0.0,\n",
       "  'system_mean_speed': 0.0,\n",
       "  '1_stopped': 0,\n",
       "  '1_accumulated_waiting_time': 0.0,\n",
       "  '1_average_speed': 1.0,\n",
       "  '2_stopped': 0,\n",
       "  '2_accumulated_waiting_time': 0.0,\n",
       "  '2_average_speed': 1.0,\n",
       "  '5_stopped': 0,\n",
       "  '5_accumulated_waiting_time': 0.0,\n",
       "  '5_average_speed': 1.0,\n",
       "  '6_stopped': 0,\n",
       "  '6_accumulated_waiting_time': 0.0,\n",
       "  '6_average_speed': 1.0,\n",
       "  'agents_total_stopped': 0,\n",
       "  'agents_total_accumulated_waiting_time': 0.0})"
      ]
     },
     "execution_count": 6,
     "metadata": {},
     "output_type": "execute_result"
    }
   ],
   "source": [
    "sumo_env.reset()"
   ]
  },
  {
   "cell_type": "code",
   "execution_count": 8,
   "metadata": {},
   "outputs": [
    {
     "name": "stdout",
     "output_type": "stream",
     "text": [
      "Using mps device\n",
      "Wrapping the env with a `Monitor` wrapper\n",
      "Wrapping the env in a DummyVecEnv.\n"
     ]
    }
   ],
   "source": [
    "model = DQN(\n",
    "    env=sumo_env,\n",
    "    policy=\"MlpPolicy\",\n",
    "    learning_rate=0.001,\n",
    "    learning_starts=0,\n",
    "    train_freq=1,\n",
    "    target_update_interval=500,\n",
    "    exploration_initial_eps=0.05,\n",
    "    exploration_final_eps=0.01,\n",
    "    verbose=1,\n",
    "    device = torch.device('mps')\n",
    ")\n"
   ]
  },
  {
   "cell_type": "code",
   "execution_count": 9,
   "metadata": {},
   "outputs": [
    {
     "name": "stdout",
     "output_type": "stream",
     "text": [
      " Retrying in 1 seconds\n"
     ]
    },
    {
     "name": "stderr",
     "output_type": "stream",
     "text": [
      "Fontconfig error: Cannot load default config file: No such file: (null)\n"
     ]
    },
    {
     "name": "stdout",
     "output_type": "stream",
     "text": [
      " Retrying in 1 seconds\n"
     ]
    },
    {
     "name": "stderr",
     "output_type": "stream",
     "text": [
      "Fontconfig error: Cannot load default config file: No such file: (null)\n"
     ]
    },
    {
     "name": "stdout",
     "output_type": "stream",
     "text": [
      " Retrying in 1 seconds\n"
     ]
    },
    {
     "name": "stderr",
     "output_type": "stream",
     "text": [
      "Fontconfig error: Cannot load default config file: No such file: (null)\n"
     ]
    },
    {
     "name": "stdout",
     "output_type": "stream",
     "text": [
      " Retrying in 1 seconds\n"
     ]
    },
    {
     "name": "stderr",
     "output_type": "stream",
     "text": [
      "Fontconfig error: Cannot load default config file: No such file: (null)\n"
     ]
    },
    {
     "name": "stdout",
     "output_type": "stream",
     "text": [
      " Retrying in 1 seconds\n"
     ]
    },
    {
     "name": "stderr",
     "output_type": "stream",
     "text": [
      "Fontconfig error: Cannot load default config file: No such file: (null)\n"
     ]
    },
    {
     "name": "stdout",
     "output_type": "stream",
     "text": [
      "----------------------------------\n",
      "| rollout/            |          |\n",
      "|    ep_len_mean      | 200      |\n",
      "|    ep_rew_mean      | -117     |\n",
      "|    exploration_rate | 0.018    |\n",
      "| time/               |          |\n",
      "|    episodes         | 4        |\n",
      "|    fps              | 29       |\n",
      "|    time_elapsed     | 27       |\n",
      "|    total_timesteps  | 800      |\n",
      "| train/              |          |\n",
      "|    learning_rate    | 0.001    |\n",
      "|    loss             | 0.163    |\n",
      "|    n_updates        | 799      |\n",
      "----------------------------------\n",
      " Retrying in 1 seconds\n"
     ]
    },
    {
     "name": "stderr",
     "output_type": "stream",
     "text": [
      "Fontconfig error: Cannot load default config file: No such file: (null)\n"
     ]
    },
    {
     "name": "stdout",
     "output_type": "stream",
     "text": [
      " Retrying in 1 seconds\n"
     ]
    },
    {
     "name": "stderr",
     "output_type": "stream",
     "text": [
      "Fontconfig error: Cannot load default config file: No such file: (null)\n"
     ]
    },
    {
     "name": "stdout",
     "output_type": "stream",
     "text": [
      " Retrying in 1 seconds\n"
     ]
    },
    {
     "name": "stderr",
     "output_type": "stream",
     "text": [
      "Fontconfig error: Cannot load default config file: No such file: (null)\n"
     ]
    },
    {
     "name": "stdout",
     "output_type": "stream",
     "text": [
      " Retrying in 1 seconds\n"
     ]
    },
    {
     "name": "stderr",
     "output_type": "stream",
     "text": [
      "Fontconfig error: Cannot load default config file: No such file: (null)\n"
     ]
    },
    {
     "name": "stdout",
     "output_type": "stream",
     "text": [
      "----------------------------------\n",
      "| rollout/            |          |\n",
      "|    ep_len_mean      | 200      |\n",
      "|    ep_rew_mean      | -132     |\n",
      "|    exploration_rate | 0.01     |\n",
      "| time/               |          |\n",
      "|    episodes         | 8        |\n",
      "|    fps              | 29       |\n",
      "|    time_elapsed     | 54       |\n",
      "|    total_timesteps  | 1600     |\n",
      "| train/              |          |\n",
      "|    learning_rate    | 0.001    |\n",
      "|    loss             | 0.0472   |\n",
      "|    n_updates        | 1599     |\n",
      "----------------------------------\n",
      " Retrying in 1 seconds\n"
     ]
    },
    {
     "name": "stderr",
     "output_type": "stream",
     "text": [
      "Fontconfig error: Cannot load default config file: No such file: (null)\n"
     ]
    },
    {
     "name": "stdout",
     "output_type": "stream",
     "text": [
      " Retrying in 1 seconds\n"
     ]
    },
    {
     "name": "stderr",
     "output_type": "stream",
     "text": [
      "Fontconfig error: Cannot load default config file: No such file: (null)\n"
     ]
    },
    {
     "name": "stdout",
     "output_type": "stream",
     "text": [
      " Retrying in 1 seconds\n"
     ]
    },
    {
     "name": "stderr",
     "output_type": "stream",
     "text": [
      "Fontconfig error: Cannot load default config file: No such file: (null)\n"
     ]
    },
    {
     "name": "stdout",
     "output_type": "stream",
     "text": [
      " Retrying in 1 seconds\n"
     ]
    },
    {
     "name": "stderr",
     "output_type": "stream",
     "text": [
      "Fontconfig error: Cannot load default config file: No such file: (null)\n"
     ]
    },
    {
     "name": "stdout",
     "output_type": "stream",
     "text": [
      "----------------------------------\n",
      "| rollout/            |          |\n",
      "|    ep_len_mean      | 200      |\n",
      "|    ep_rew_mean      | -135     |\n",
      "|    exploration_rate | 0.01     |\n",
      "| time/               |          |\n",
      "|    episodes         | 12       |\n",
      "|    fps              | 29       |\n",
      "|    time_elapsed     | 80       |\n",
      "|    total_timesteps  | 2400     |\n",
      "| train/              |          |\n",
      "|    learning_rate    | 0.001    |\n",
      "|    loss             | 0.0352   |\n",
      "|    n_updates        | 2399     |\n",
      "----------------------------------\n",
      " Retrying in 1 seconds\n"
     ]
    },
    {
     "name": "stderr",
     "output_type": "stream",
     "text": [
      "Fontconfig error: Cannot load default config file: No such file: (null)\n"
     ]
    },
    {
     "name": "stdout",
     "output_type": "stream",
     "text": [
      " Retrying in 1 seconds\n"
     ]
    },
    {
     "name": "stderr",
     "output_type": "stream",
     "text": [
      "Fontconfig error: Cannot load default config file: No such file: (null)\n"
     ]
    },
    {
     "name": "stdout",
     "output_type": "stream",
     "text": [
      " Retrying in 1 seconds\n"
     ]
    },
    {
     "name": "stderr",
     "output_type": "stream",
     "text": [
      "Fontconfig error: Cannot load default config file: No such file: (null)\n"
     ]
    },
    {
     "name": "stdout",
     "output_type": "stream",
     "text": [
      " Retrying in 1 seconds\n"
     ]
    },
    {
     "name": "stderr",
     "output_type": "stream",
     "text": [
      "Fontconfig error: Cannot load default config file: No such file: (null)\n"
     ]
    },
    {
     "name": "stdout",
     "output_type": "stream",
     "text": [
      "----------------------------------\n",
      "| rollout/            |          |\n",
      "|    ep_len_mean      | 200      |\n",
      "|    ep_rew_mean      | -143     |\n",
      "|    exploration_rate | 0.01     |\n",
      "| time/               |          |\n",
      "|    episodes         | 16       |\n",
      "|    fps              | 29       |\n",
      "|    time_elapsed     | 108      |\n",
      "|    total_timesteps  | 3200     |\n",
      "| train/              |          |\n",
      "|    learning_rate    | 0.001    |\n",
      "|    loss             | 0.0138   |\n",
      "|    n_updates        | 3199     |\n",
      "----------------------------------\n",
      " Retrying in 1 seconds\n"
     ]
    },
    {
     "name": "stderr",
     "output_type": "stream",
     "text": [
      "Fontconfig error: Cannot load default config file: No such file: (null)\n"
     ]
    },
    {
     "name": "stdout",
     "output_type": "stream",
     "text": [
      " Retrying in 1 seconds\n"
     ]
    },
    {
     "name": "stderr",
     "output_type": "stream",
     "text": [
      "Fontconfig error: Cannot load default config file: No such file: (null)\n"
     ]
    },
    {
     "name": "stdout",
     "output_type": "stream",
     "text": [
      " Retrying in 1 seconds\n"
     ]
    },
    {
     "name": "stderr",
     "output_type": "stream",
     "text": [
      "Fontconfig error: Cannot load default config file: No such file: (null)\n"
     ]
    },
    {
     "name": "stdout",
     "output_type": "stream",
     "text": [
      " Retrying in 1 seconds\n"
     ]
    },
    {
     "name": "stderr",
     "output_type": "stream",
     "text": [
      "Fontconfig error: Cannot load default config file: No such file: (null)\n"
     ]
    },
    {
     "name": "stdout",
     "output_type": "stream",
     "text": [
      "----------------------------------\n",
      "| rollout/            |          |\n",
      "|    ep_len_mean      | 200      |\n",
      "|    ep_rew_mean      | -142     |\n",
      "|    exploration_rate | 0.01     |\n",
      "| time/               |          |\n",
      "|    episodes         | 20       |\n",
      "|    fps              | 29       |\n",
      "|    time_elapsed     | 134      |\n",
      "|    total_timesteps  | 4000     |\n",
      "| train/              |          |\n",
      "|    learning_rate    | 0.001    |\n",
      "|    loss             | 0.0461   |\n",
      "|    n_updates        | 3999     |\n",
      "----------------------------------\n",
      " Retrying in 1 seconds\n"
     ]
    },
    {
     "name": "stderr",
     "output_type": "stream",
     "text": [
      "Fontconfig error: Cannot load default config file: No such file: (null)\n"
     ]
    },
    {
     "name": "stdout",
     "output_type": "stream",
     "text": [
      " Retrying in 1 seconds\n"
     ]
    },
    {
     "name": "stderr",
     "output_type": "stream",
     "text": [
      "Fontconfig error: Cannot load default config file: No such file: (null)\n"
     ]
    },
    {
     "name": "stdout",
     "output_type": "stream",
     "text": [
      " Retrying in 1 seconds\n"
     ]
    },
    {
     "name": "stderr",
     "output_type": "stream",
     "text": [
      "Fontconfig error: Cannot load default config file: No such file: (null)\n"
     ]
    },
    {
     "name": "stdout",
     "output_type": "stream",
     "text": [
      " Retrying in 1 seconds\n"
     ]
    },
    {
     "name": "stderr",
     "output_type": "stream",
     "text": [
      "Fontconfig error: Cannot load default config file: No such file: (null)\n"
     ]
    },
    {
     "name": "stdout",
     "output_type": "stream",
     "text": [
      "----------------------------------\n",
      "| rollout/            |          |\n",
      "|    ep_len_mean      | 200      |\n",
      "|    ep_rew_mean      | -145     |\n",
      "|    exploration_rate | 0.01     |\n",
      "| time/               |          |\n",
      "|    episodes         | 24       |\n",
      "|    fps              | 29       |\n",
      "|    time_elapsed     | 161      |\n",
      "|    total_timesteps  | 4800     |\n",
      "| train/              |          |\n",
      "|    learning_rate    | 0.001    |\n",
      "|    loss             | 0.0305   |\n",
      "|    n_updates        | 4799     |\n",
      "----------------------------------\n",
      " Retrying in 1 seconds\n"
     ]
    },
    {
     "name": "stderr",
     "output_type": "stream",
     "text": [
      "Fontconfig error: Cannot load default config file: No such file: (null)\n"
     ]
    },
    {
     "name": "stdout",
     "output_type": "stream",
     "text": [
      " Retrying in 1 seconds\n"
     ]
    },
    {
     "name": "stderr",
     "output_type": "stream",
     "text": [
      "Fontconfig error: Cannot load default config file: No such file: (null)\n"
     ]
    },
    {
     "name": "stdout",
     "output_type": "stream",
     "text": [
      " Retrying in 1 seconds\n"
     ]
    },
    {
     "name": "stderr",
     "output_type": "stream",
     "text": [
      "Fontconfig error: Cannot load default config file: No such file: (null)\n"
     ]
    },
    {
     "name": "stdout",
     "output_type": "stream",
     "text": [
      " Retrying in 1 seconds\n"
     ]
    },
    {
     "name": "stderr",
     "output_type": "stream",
     "text": [
      "Fontconfig error: Cannot load default config file: No such file: (null)\n"
     ]
    },
    {
     "name": "stdout",
     "output_type": "stream",
     "text": [
      "----------------------------------\n",
      "| rollout/            |          |\n",
      "|    ep_len_mean      | 200      |\n",
      "|    ep_rew_mean      | -146     |\n",
      "|    exploration_rate | 0.01     |\n",
      "| time/               |          |\n",
      "|    episodes         | 28       |\n",
      "|    fps              | 29       |\n",
      "|    time_elapsed     | 189      |\n",
      "|    total_timesteps  | 5600     |\n",
      "| train/              |          |\n",
      "|    learning_rate    | 0.001    |\n",
      "|    loss             | 0.0713   |\n",
      "|    n_updates        | 5599     |\n",
      "----------------------------------\n",
      " Retrying in 1 seconds\n"
     ]
    },
    {
     "name": "stderr",
     "output_type": "stream",
     "text": [
      "Fontconfig error: Cannot load default config file: No such file: (null)\n"
     ]
    },
    {
     "name": "stdout",
     "output_type": "stream",
     "text": [
      " Retrying in 1 seconds\n"
     ]
    },
    {
     "name": "stderr",
     "output_type": "stream",
     "text": [
      "Fontconfig error: Cannot load default config file: No such file: (null)\n"
     ]
    },
    {
     "name": "stdout",
     "output_type": "stream",
     "text": [
      " Retrying in 1 seconds\n"
     ]
    },
    {
     "name": "stderr",
     "output_type": "stream",
     "text": [
      "Fontconfig error: Cannot load default config file: No such file: (null)\n"
     ]
    },
    {
     "name": "stdout",
     "output_type": "stream",
     "text": [
      " Retrying in 1 seconds\n"
     ]
    },
    {
     "name": "stderr",
     "output_type": "stream",
     "text": [
      "Fontconfig error: Cannot load default config file: No such file: (null)\n"
     ]
    },
    {
     "name": "stdout",
     "output_type": "stream",
     "text": [
      "----------------------------------\n",
      "| rollout/            |          |\n",
      "|    ep_len_mean      | 200      |\n",
      "|    ep_rew_mean      | -147     |\n",
      "|    exploration_rate | 0.01     |\n",
      "| time/               |          |\n",
      "|    episodes         | 32       |\n",
      "|    fps              | 29       |\n",
      "|    time_elapsed     | 217      |\n",
      "|    total_timesteps  | 6400     |\n",
      "| train/              |          |\n",
      "|    learning_rate    | 0.001    |\n",
      "|    loss             | 0.0694   |\n",
      "|    n_updates        | 6399     |\n",
      "----------------------------------\n",
      " Retrying in 1 seconds\n"
     ]
    },
    {
     "name": "stderr",
     "output_type": "stream",
     "text": [
      "Fontconfig error: Cannot load default config file: No such file: (null)\n"
     ]
    },
    {
     "name": "stdout",
     "output_type": "stream",
     "text": [
      " Retrying in 1 seconds\n"
     ]
    },
    {
     "name": "stderr",
     "output_type": "stream",
     "text": [
      "Fontconfig error: Cannot load default config file: No such file: (null)\n"
     ]
    },
    {
     "name": "stdout",
     "output_type": "stream",
     "text": [
      " Retrying in 1 seconds\n"
     ]
    },
    {
     "name": "stderr",
     "output_type": "stream",
     "text": [
      "Fontconfig error: Cannot load default config file: No such file: (null)\n"
     ]
    },
    {
     "name": "stdout",
     "output_type": "stream",
     "text": [
      " Retrying in 1 seconds\n"
     ]
    },
    {
     "name": "stderr",
     "output_type": "stream",
     "text": [
      "Fontconfig error: Cannot load default config file: No such file: (null)\n"
     ]
    },
    {
     "name": "stdout",
     "output_type": "stream",
     "text": [
      "----------------------------------\n",
      "| rollout/            |          |\n",
      "|    ep_len_mean      | 200      |\n",
      "|    ep_rew_mean      | -149     |\n",
      "|    exploration_rate | 0.01     |\n",
      "| time/               |          |\n",
      "|    episodes         | 36       |\n",
      "|    fps              | 29       |\n",
      "|    time_elapsed     | 247      |\n",
      "|    total_timesteps  | 7200     |\n",
      "| train/              |          |\n",
      "|    learning_rate    | 0.001    |\n",
      "|    loss             | 0.132    |\n",
      "|    n_updates        | 7199     |\n",
      "----------------------------------\n",
      " Retrying in 1 seconds\n"
     ]
    },
    {
     "name": "stderr",
     "output_type": "stream",
     "text": [
      "Fontconfig error: Cannot load default config file: No such file: (null)\n"
     ]
    },
    {
     "name": "stdout",
     "output_type": "stream",
     "text": [
      " Retrying in 1 seconds\n"
     ]
    },
    {
     "name": "stderr",
     "output_type": "stream",
     "text": [
      "Fontconfig error: Cannot load default config file: No such file: (null)\n"
     ]
    },
    {
     "name": "stdout",
     "output_type": "stream",
     "text": [
      " Retrying in 1 seconds\n"
     ]
    },
    {
     "name": "stderr",
     "output_type": "stream",
     "text": [
      "Fontconfig error: Cannot load default config file: No such file: (null)\n"
     ]
    },
    {
     "name": "stdout",
     "output_type": "stream",
     "text": [
      " Retrying in 1 seconds\n"
     ]
    },
    {
     "name": "stderr",
     "output_type": "stream",
     "text": [
      "Fontconfig error: Cannot load default config file: No such file: (null)\n"
     ]
    },
    {
     "name": "stdout",
     "output_type": "stream",
     "text": [
      "----------------------------------\n",
      "| rollout/            |          |\n",
      "|    ep_len_mean      | 200      |\n",
      "|    ep_rew_mean      | -149     |\n",
      "|    exploration_rate | 0.01     |\n",
      "| time/               |          |\n",
      "|    episodes         | 40       |\n",
      "|    fps              | 28       |\n",
      "|    time_elapsed     | 276      |\n",
      "|    total_timesteps  | 8000     |\n",
      "| train/              |          |\n",
      "|    learning_rate    | 0.001    |\n",
      "|    loss             | 0.109    |\n",
      "|    n_updates        | 7999     |\n",
      "----------------------------------\n",
      " Retrying in 1 seconds\n"
     ]
    },
    {
     "name": "stderr",
     "output_type": "stream",
     "text": [
      "Fontconfig error: Cannot load default config file: No such file: (null)\n"
     ]
    },
    {
     "name": "stdout",
     "output_type": "stream",
     "text": [
      " Retrying in 1 seconds\n"
     ]
    },
    {
     "name": "stderr",
     "output_type": "stream",
     "text": [
      "Fontconfig error: Cannot load default config file: No such file: (null)\n"
     ]
    },
    {
     "name": "stdout",
     "output_type": "stream",
     "text": [
      " Retrying in 1 seconds\n"
     ]
    },
    {
     "name": "stderr",
     "output_type": "stream",
     "text": [
      "Fontconfig error: Cannot load default config file: No such file: (null)\n"
     ]
    },
    {
     "name": "stdout",
     "output_type": "stream",
     "text": [
      " Retrying in 1 seconds\n"
     ]
    },
    {
     "name": "stderr",
     "output_type": "stream",
     "text": [
      "Fontconfig error: Cannot load default config file: No such file: (null)\n"
     ]
    },
    {
     "name": "stdout",
     "output_type": "stream",
     "text": [
      "----------------------------------\n",
      "| rollout/            |          |\n",
      "|    ep_len_mean      | 200      |\n",
      "|    ep_rew_mean      | -150     |\n",
      "|    exploration_rate | 0.01     |\n",
      "| time/               |          |\n",
      "|    episodes         | 44       |\n",
      "|    fps              | 28       |\n",
      "|    time_elapsed     | 305      |\n",
      "|    total_timesteps  | 8800     |\n",
      "| train/              |          |\n",
      "|    learning_rate    | 0.001    |\n",
      "|    loss             | 0.125    |\n",
      "|    n_updates        | 8799     |\n",
      "----------------------------------\n",
      " Retrying in 1 seconds\n"
     ]
    },
    {
     "name": "stderr",
     "output_type": "stream",
     "text": [
      "Fontconfig error: Cannot load default config file: No such file: (null)\n"
     ]
    },
    {
     "name": "stdout",
     "output_type": "stream",
     "text": [
      " Retrying in 1 seconds\n"
     ]
    },
    {
     "name": "stderr",
     "output_type": "stream",
     "text": [
      "Fontconfig error: Cannot load default config file: No such file: (null)\n"
     ]
    },
    {
     "name": "stdout",
     "output_type": "stream",
     "text": [
      " Retrying in 1 seconds\n"
     ]
    },
    {
     "name": "stderr",
     "output_type": "stream",
     "text": [
      "Fontconfig error: Cannot load default config file: No such file: (null)\n"
     ]
    },
    {
     "name": "stdout",
     "output_type": "stream",
     "text": [
      " Retrying in 1 seconds\n"
     ]
    },
    {
     "name": "stderr",
     "output_type": "stream",
     "text": [
      "Fontconfig error: Cannot load default config file: No such file: (null)\n"
     ]
    },
    {
     "name": "stdout",
     "output_type": "stream",
     "text": [
      "----------------------------------\n",
      "| rollout/            |          |\n",
      "|    ep_len_mean      | 200      |\n",
      "|    ep_rew_mean      | -151     |\n",
      "|    exploration_rate | 0.01     |\n",
      "| time/               |          |\n",
      "|    episodes         | 48       |\n",
      "|    fps              | 28       |\n",
      "|    time_elapsed     | 333      |\n",
      "|    total_timesteps  | 9600     |\n",
      "| train/              |          |\n",
      "|    learning_rate    | 0.001    |\n",
      "|    loss             | 0.207    |\n",
      "|    n_updates        | 9599     |\n",
      "----------------------------------\n",
      " Retrying in 1 seconds\n"
     ]
    },
    {
     "name": "stderr",
     "output_type": "stream",
     "text": [
      "Fontconfig error: Cannot load default config file: No such file: (null)\n"
     ]
    },
    {
     "name": "stdout",
     "output_type": "stream",
     "text": [
      " Retrying in 1 seconds\n"
     ]
    },
    {
     "name": "stderr",
     "output_type": "stream",
     "text": [
      "Fontconfig error: Cannot load default config file: No such file: (null)\n"
     ]
    },
    {
     "data": {
      "text/plain": [
       "<stable_baselines3.dqn.dqn.DQN at 0x16a6cb580>"
      ]
     },
     "execution_count": 9,
     "metadata": {},
     "output_type": "execute_result"
    }
   ],
   "source": [
    "model.learn(total_timesteps=10000)"
   ]
  },
  {
   "cell_type": "code",
   "execution_count": 12,
   "metadata": {},
   "outputs": [],
   "source": [
    "model.save('dqn_01.pth')"
   ]
  },
  {
   "cell_type": "code",
   "execution_count": 3,
   "metadata": {},
   "outputs": [],
   "source": [
    "class EnvConfig:\n",
    "    net_file='./nets/2x2grid/2x2.net.xml'\n",
    "    single_agent = True\n",
    "    use_gui=False\n",
    "    num_seconds=1000\n",
    "\n",
    "class DQNConfig:\n",
    "    learning_rate=0.001\n",
    "    device = torch.device('mps')\n",
    "    total_timesteps = 10000"
   ]
  },
  {
   "cell_type": "code",
   "execution_count": 10,
   "metadata": {},
   "outputs": [],
   "source": [
    "def train_DQN(route_context):\n",
    "    route = route_context.split('/')[1]\n",
    "    sumo_env = SumoEnvironment(\n",
    "        net_file=EnvConfig.net_file, \n",
    "        route_file=f'./nets/{route_context}.rou.xml', \n",
    "        out_csv_name=f'./outputs/{route}/out', \n",
    "        single_agent = EnvConfig.single_agent,\n",
    "        use_gui=EnvConfig.use_gui,\n",
    "        num_seconds=EnvConfig.num_seconds\n",
    "    )\n",
    "    sumo_env.reset()\n",
    "    model = DQN(\n",
    "        env=sumo_env,\n",
    "        policy=\"MlpPolicy\",\n",
    "        learning_rate=DQNConfig.learning_rate,\n",
    "        learning_starts=0,\n",
    "        train_freq=1,\n",
    "        target_update_interval=500,\n",
    "        exploration_initial_eps=0.05,\n",
    "        exploration_final_eps=0.01,\n",
    "        verbose=1,\n",
    "        device = DQNConfig.device\n",
    "    )\n",
    "    model.learn(total_timesteps=DQNConfig.total_timesteps)\n",
    "    model.save(f'dqn_{route}.pth')"
   ]
  },
  {
   "cell_type": "code",
   "execution_count": null,
   "metadata": {},
   "outputs": [],
   "source": [
    "train_DQN('2x2grid/2x2o2')"
   ]
  },
  {
   "cell_type": "code",
   "execution_count": 9,
   "metadata": {},
   "outputs": [
    {
     "name": "stdout",
     "output_type": "stream",
     "text": [
      " Retrying in 1 seconds\n",
      "Step #0.00 (0ms ?*RT. ?UPS, TraCI: 17ms, vehicles TOT 0 ACT 0 BUF 0)                     \n",
      " Retrying in 1 seconds\n",
      "Using mps device\n",
      "Wrapping the env with a `Monitor` wrapper\n",
      "Wrapping the env in a DummyVecEnv.\n",
      "Step #0.00 (0ms ?*RT. ?UPS, TraCI: 72ms, vehicles TOT 0 ACT 0 BUF 0)                     \n",
      " Retrying in 1 seconds\n",
      "Step #1000.00 (1ms ~= 1000.00*RT, ~93000.00UPS, TraCI: 22ms, vehicles TOT 841 ACT 93 BUF 19\n",
      " Retrying in 1 seconds\n",
      "Step #1000.00 (1ms ~= 1000.00*RT, ~76000.00UPS, TraCI: 18ms, vehicles TOT 860 ACT 76 BUF 18\n",
      " Retrying in 1 seconds\n",
      "Step #1000.00 (1ms ~= 1000.00*RT, ~92000.00UPS, TraCI: 19ms, vehicles TOT 873 ACT 92 BUF 19\n",
      " Retrying in 1 seconds\n",
      "Step #1000.00 (0ms ?*RT. ?UPS, TraCI: 19ms, vehicles TOT 942 ACT 79 BUF 1836)              \n",
      " Retrying in 1 seconds\n",
      "----------------------------------\n",
      "| rollout/            |          |\n",
      "|    ep_len_mean      | 200      |\n",
      "|    ep_rew_mean      | -149     |\n",
      "|    exploration_rate | 0.018    |\n",
      "| time/               |          |\n",
      "|    episodes         | 4        |\n",
      "|    fps              | 28       |\n",
      "|    time_elapsed     | 28       |\n",
      "|    total_timesteps  | 800      |\n",
      "| train/              |          |\n",
      "|    learning_rate    | 0.001    |\n",
      "|    loss             | 0.765    |\n",
      "|    n_updates        | 799      |\n",
      "----------------------------------\n",
      "Step #1000.00 (1ms ~= 1000.00*RT, ~94000.00UPS, TraCI: 22ms, vehicles TOT 802 ACT 94 BUF 19\n",
      " Retrying in 1 seconds\n",
      "Step #1000.00 (1ms ~= 1000.00*RT, ~93000.00UPS, TraCI: 22ms, vehicles TOT 740 ACT 93 BUF 20\n",
      " Retrying in 1 seconds\n",
      "Step #1000.00 (1ms ~= 1000.00*RT, ~91000.00UPS, TraCI: 21ms, vehicles TOT 747 ACT 91 BUF 20\n",
      " Retrying in 1 seconds\n",
      "Step #1000.00 (1ms ~= 1000.00*RT, ~88000.00UPS, TraCI: 20ms, vehicles TOT 823 ACT 88 BUF 20\n",
      " Retrying in 1 seconds\n",
      "----------------------------------\n",
      "| rollout/            |          |\n",
      "|    ep_len_mean      | 200      |\n",
      "|    ep_rew_mean      | -157     |\n",
      "|    exploration_rate | 0.01     |\n",
      "| time/               |          |\n",
      "|    episodes         | 8        |\n",
      "|    fps              | 27       |\n",
      "|    time_elapsed     | 57       |\n",
      "|    total_timesteps  | 1600     |\n",
      "| train/              |          |\n",
      "|    learning_rate    | 0.001    |\n",
      "|    loss             | 0.0459   |\n",
      "|    n_updates        | 1599     |\n",
      "----------------------------------\n",
      "Step #1000.00 (1ms ~= 1000.00*RT, ~96000.00UPS, TraCI: 21ms, vehicles TOT 917 ACT 96 BUF 18\n",
      " Retrying in 1 seconds\n",
      "Step #1000.00 (1ms ~= 1000.00*RT, ~94000.00UPS, TraCI: 21ms, vehicles TOT 944 ACT 94 BUF 18\n",
      " Retrying in 1 seconds\n",
      "Step #1000.00 (1ms ~= 1000.00*RT, ~96000.00UPS, TraCI: 20ms, vehicles TOT 917 ACT 96 BUF 18\n",
      " Retrying in 1 seconds\n",
      "Step #1000.00 (1ms ~= 1000.00*RT, ~96000.00UPS, TraCI: 22ms, vehicles TOT 915 ACT 96 BUF 19\n",
      " Retrying in 1 seconds\n",
      "----------------------------------\n",
      "| rollout/            |          |\n",
      "|    ep_len_mean      | 200      |\n",
      "|    ep_rew_mean      | -162     |\n",
      "|    exploration_rate | 0.01     |\n",
      "| time/               |          |\n",
      "|    episodes         | 12       |\n",
      "|    fps              | 27       |\n",
      "|    time_elapsed     | 86       |\n",
      "|    total_timesteps  | 2400     |\n",
      "| train/              |          |\n",
      "|    learning_rate    | 0.001    |\n",
      "|    loss             | 0.0365   |\n",
      "|    n_updates        | 2399     |\n",
      "----------------------------------\n",
      "Step #1000.00 (1ms ~= 1000.00*RT, ~92000.00UPS, TraCI: 21ms, vehicles TOT 846 ACT 92 BUF 19\n",
      " Retrying in 1 seconds\n",
      "Step #1000.00 (0ms ?*RT. ?UPS, TraCI: 22ms, vehicles TOT 855 ACT 101 BUF 1942)             \n",
      " Retrying in 1 seconds\n",
      "Step #1000.00 (1ms ~= 1000.00*RT, ~96000.00UPS, TraCI: 21ms, vehicles TOT 860 ACT 96 BUF 19\n",
      " Retrying in 1 seconds\n",
      "Step #1000.00 (1ms ~= 1000.00*RT, ~94000.00UPS, TraCI: 22ms, vehicles TOT 840 ACT 94 BUF 19\n",
      " Retrying in 1 seconds\n",
      "----------------------------------\n",
      "| rollout/            |          |\n",
      "|    ep_len_mean      | 200      |\n",
      "|    ep_rew_mean      | -163     |\n",
      "|    exploration_rate | 0.01     |\n",
      "| time/               |          |\n",
      "|    episodes         | 16       |\n",
      "|    fps              | 27       |\n",
      "|    time_elapsed     | 115      |\n",
      "|    total_timesteps  | 3200     |\n",
      "| train/              |          |\n",
      "|    learning_rate    | 0.001    |\n",
      "|    loss             | 0.00296  |\n",
      "|    n_updates        | 3199     |\n",
      "----------------------------------\n",
      "Step #1000.00 (1ms ~= 1000.00*RT, ~94000.00UPS, TraCI: 21ms, vehicles TOT 844 ACT 94 BUF 19\n",
      " Retrying in 1 seconds\n",
      "Step #1000.00 (1ms ~= 1000.00*RT, ~95000.00UPS, TraCI: 22ms, vehicles TOT 854 ACT 95 BUF 19\n",
      " Retrying in 1 seconds\n",
      "Step #1000.00 (0ms ?*RT. ?UPS, TraCI: 22ms, vehicles TOT 815 ACT 93 BUF 1953)              \n",
      " Retrying in 1 seconds\n",
      "Step #1000.00 (1ms ~= 1000.00*RT, ~91000.00UPS, TraCI: 21ms, vehicles TOT 830 ACT 91 BUF 19\n",
      " Retrying in 1 seconds\n",
      "----------------------------------\n",
      "| rollout/            |          |\n",
      "|    ep_len_mean      | 200      |\n",
      "|    ep_rew_mean      | -165     |\n",
      "|    exploration_rate | 0.01     |\n",
      "| time/               |          |\n",
      "|    episodes         | 20       |\n",
      "|    fps              | 27       |\n",
      "|    time_elapsed     | 144      |\n",
      "|    total_timesteps  | 4000     |\n",
      "| train/              |          |\n",
      "|    learning_rate    | 0.001    |\n",
      "|    loss             | 0.141    |\n",
      "|    n_updates        | 3999     |\n",
      "----------------------------------\n",
      "Step #1000.00 (1ms ~= 1000.00*RT, ~94000.00UPS, TraCI: 22ms, vehicles TOT 781 ACT 94 BUF 20\n",
      " Retrying in 1 seconds\n",
      "Step #1000.00 (1ms ~= 1000.00*RT, ~94000.00UPS, TraCI: 22ms, vehicles TOT 810 ACT 94 BUF 20\n",
      " Retrying in 1 seconds\n",
      "Step #1000.00 (1ms ~= 1000.00*RT, ~94000.00UPS, TraCI: 20ms, vehicles TOT 809 ACT 94 BUF 19\n",
      " Retrying in 1 seconds\n",
      "Step #1000.00 (1ms ~= 1000.00*RT, ~93000.00UPS, TraCI: 20ms, vehicles TOT 871 ACT 93 BUF 19\n",
      " Retrying in 1 seconds\n",
      "----------------------------------\n",
      "| rollout/            |          |\n",
      "|    ep_len_mean      | 200      |\n",
      "|    ep_rew_mean      | -166     |\n",
      "|    exploration_rate | 0.01     |\n",
      "| time/               |          |\n",
      "|    episodes         | 24       |\n",
      "|    fps              | 27       |\n",
      "|    time_elapsed     | 174      |\n",
      "|    total_timesteps  | 4800     |\n",
      "| train/              |          |\n",
      "|    learning_rate    | 0.001    |\n",
      "|    loss             | 0.0126   |\n",
      "|    n_updates        | 4799     |\n",
      "----------------------------------\n",
      "Step #1000.00 (1ms ~= 1000.00*RT, ~97000.00UPS, TraCI: 21ms, vehicles TOT 866 ACT 97 BUF 18\n",
      " Retrying in 1 seconds\n",
      "Step #1000.00 (1ms ~= 1000.00*RT, ~95000.00UPS, TraCI: 21ms, vehicles TOT 920 ACT 95 BUF 18\n",
      " Retrying in 1 seconds\n",
      "Step #1000.00 (1ms ~= 1000.00*RT, ~93000.00UPS, TraCI: 21ms, vehicles TOT 929 ACT 93 BUF 18\n",
      " Retrying in 1 seconds\n",
      "Step #1000.00 (1ms ~= 1000.00*RT, ~97000.00UPS, TraCI: 22ms, vehicles TOT 905 ACT 97 BUF 19\n",
      " Retrying in 1 seconds\n",
      "----------------------------------\n",
      "| rollout/            |          |\n",
      "|    ep_len_mean      | 200      |\n",
      "|    ep_rew_mean      | -166     |\n",
      "|    exploration_rate | 0.01     |\n",
      "| time/               |          |\n",
      "|    episodes         | 28       |\n",
      "|    fps              | 27       |\n",
      "|    time_elapsed     | 203      |\n",
      "|    total_timesteps  | 5600     |\n",
      "| train/              |          |\n",
      "|    learning_rate    | 0.001    |\n",
      "|    loss             | 0.0252   |\n",
      "|    n_updates        | 5599     |\n",
      "----------------------------------\n",
      "Step #1000.00 (1ms ~= 1000.00*RT, ~94000.00UPS, TraCI: 21ms, vehicles TOT 910 ACT 94 BUF 18\n",
      " Retrying in 1 seconds\n",
      "Step #1000.00 (1ms ~= 1000.00*RT, ~94000.00UPS, TraCI: 21ms, vehicles TOT 896 ACT 94 BUF 18\n",
      " Retrying in 1 seconds\n",
      "Step #1000.00 (1ms ~= 1000.00*RT, ~93000.00UPS, TraCI: 20ms, vehicles TOT 930 ACT 93 BUF 18\n",
      " Retrying in 1 seconds\n",
      "Step #1000.00 (1ms ~= 1000.00*RT, ~92000.00UPS, TraCI: 21ms, vehicles TOT 897 ACT 92 BUF 19\n",
      " Retrying in 1 seconds\n",
      "----------------------------------\n",
      "| rollout/            |          |\n",
      "|    ep_len_mean      | 200      |\n",
      "|    ep_rew_mean      | -167     |\n",
      "|    exploration_rate | 0.01     |\n",
      "| time/               |          |\n",
      "|    episodes         | 32       |\n",
      "|    fps              | 27       |\n",
      "|    time_elapsed     | 232      |\n",
      "|    total_timesteps  | 6400     |\n",
      "| train/              |          |\n",
      "|    learning_rate    | 0.001    |\n",
      "|    loss             | 0.00316  |\n",
      "|    n_updates        | 6399     |\n",
      "----------------------------------\n",
      "Step #1000.00 (0ms ?*RT. ?UPS, TraCI: 21ms, vehicles TOT 888 ACT 91 BUF 1898)              \n",
      " Retrying in 1 seconds\n",
      "Step #1000.00 (1ms ~= 1000.00*RT, ~98000.00UPS, TraCI: 21ms, vehicles TOT 922 ACT 98 BUF 18\n",
      " Retrying in 1 seconds\n",
      "Step #1000.00 (1ms ~= 1000.00*RT, ~90000.00UPS, TraCI: 21ms, vehicles TOT 893 ACT 90 BUF 19\n",
      " Retrying in 1 seconds\n",
      "Step #1000.00 (1ms ~= 1000.00*RT, ~98000.00UPS, TraCI: 22ms, vehicles TOT 881 ACT 98 BUF 19\n",
      " Retrying in 1 seconds\n",
      "----------------------------------\n",
      "| rollout/            |          |\n",
      "|    ep_len_mean      | 200      |\n",
      "|    ep_rew_mean      | -167     |\n",
      "|    exploration_rate | 0.01     |\n",
      "| time/               |          |\n",
      "|    episodes         | 36       |\n",
      "|    fps              | 27       |\n",
      "|    time_elapsed     | 260      |\n",
      "|    total_timesteps  | 7200     |\n",
      "| train/              |          |\n",
      "|    learning_rate    | 0.001    |\n",
      "|    loss             | 0.0101   |\n",
      "|    n_updates        | 7199     |\n",
      "----------------------------------\n",
      "Step #1000.00 (1ms ~= 1000.00*RT, ~95000.00UPS, TraCI: 21ms, vehicles TOT 883 ACT 95 BUF 19\n",
      " Retrying in 1 seconds\n",
      "Step #1000.00 (1ms ~= 1000.00*RT, ~94000.00UPS, TraCI: 22ms, vehicles TOT 871 ACT 94 BUF 19\n",
      " Retrying in 1 seconds\n",
      "Step #1000.00 (1ms ~= 1000.00*RT, ~97000.00UPS, TraCI: 21ms, vehicles TOT 890 ACT 97 BUF 19\n",
      " Retrying in 1 seconds\n",
      "Step #1000.00 (1ms ~= 1000.00*RT, ~93000.00UPS, TraCI: 21ms, vehicles TOT 898 ACT 93 BUF 18\n",
      " Retrying in 1 seconds\n",
      "----------------------------------\n",
      "| rollout/            |          |\n",
      "|    ep_len_mean      | 200      |\n",
      "|    ep_rew_mean      | -167     |\n",
      "|    exploration_rate | 0.01     |\n",
      "| time/               |          |\n",
      "|    episodes         | 40       |\n",
      "|    fps              | 27       |\n",
      "|    time_elapsed     | 289      |\n",
      "|    total_timesteps  | 8000     |\n",
      "| train/              |          |\n",
      "|    learning_rate    | 0.001    |\n",
      "|    loss             | 0.0246   |\n",
      "|    n_updates        | 7999     |\n",
      "----------------------------------\n",
      "Step #1000.00 (1ms ~= 1000.00*RT, ~96000.00UPS, TraCI: 21ms, vehicles TOT 831 ACT 96 BUF 19\n",
      " Retrying in 1 seconds\n",
      "Step #1000.00 (1ms ~= 1000.00*RT, ~93000.00UPS, TraCI: 20ms, vehicles TOT 827 ACT 93 BUF 19\n",
      " Retrying in 1 seconds\n",
      "Step #1000.00 (1ms ~= 1000.00*RT, ~94000.00UPS, TraCI: 21ms, vehicles TOT 825 ACT 94 BUF 19\n",
      " Retrying in 1 seconds\n",
      "Step #1000.00 (1ms ~= 1000.00*RT, ~93000.00UPS, TraCI: 21ms, vehicles TOT 856 ACT 93 BUF 19\n",
      " Retrying in 1 seconds\n",
      "----------------------------------\n",
      "| rollout/            |          |\n",
      "|    ep_len_mean      | 200      |\n",
      "|    ep_rew_mean      | -168     |\n",
      "|    exploration_rate | 0.01     |\n",
      "| time/               |          |\n",
      "|    episodes         | 44       |\n",
      "|    fps              | 27       |\n",
      "|    time_elapsed     | 317      |\n",
      "|    total_timesteps  | 8800     |\n",
      "| train/              |          |\n",
      "|    learning_rate    | 0.001    |\n",
      "|    loss             | 0.0173   |\n",
      "|    n_updates        | 8799     |\n",
      "----------------------------------\n",
      "Step #1000.00 (1ms ~= 1000.00*RT, ~94000.00UPS, TraCI: 22ms, vehicles TOT 844 ACT 94 BUF 19\n",
      " Retrying in 1 seconds\n",
      "Step #1000.00 (0ms ?*RT. ?UPS, TraCI: 21ms, vehicles TOT 812 ACT 93 BUF 1906)              \n",
      " Retrying in 1 seconds\n",
      "Step #1000.00 (1ms ~= 1000.00*RT, ~98000.00UPS, TraCI: 22ms, vehicles TOT 856 ACT 98 BUF 19\n",
      " Retrying in 1 seconds\n",
      "Step #1000.00 (1ms ~= 1000.00*RT, ~97000.00UPS, TraCI: 22ms, vehicles TOT 867 ACT 97 BUF 20\n",
      " Retrying in 1 seconds\n",
      "----------------------------------\n",
      "| rollout/            |          |\n",
      "|    ep_len_mean      | 200      |\n",
      "|    ep_rew_mean      | -168     |\n",
      "|    exploration_rate | 0.01     |\n",
      "| time/               |          |\n",
      "|    episodes         | 48       |\n",
      "|    fps              | 27       |\n",
      "|    time_elapsed     | 345      |\n",
      "|    total_timesteps  | 9600     |\n",
      "| train/              |          |\n",
      "|    learning_rate    | 0.001    |\n",
      "|    loss             | 0.0118   |\n",
      "|    n_updates        | 9599     |\n",
      "----------------------------------\n",
      "Step #1000.00 (1ms ~= 1000.00*RT, ~93000.00UPS, TraCI: 21ms, vehicles TOT 900 ACT 93 BUF 19\n",
      " Retrying in 1 seconds\n",
      "Step #1000.00 (1ms ~= 1000.00*RT, ~96000.00UPS, TraCI: 21ms, vehicles TOT 902 ACT 96 BUF 18\n",
      " Retrying in 1 seconds\n"
     ]
    }
   ],
   "source": [
    "train_DQN('2x2grid/2x2o7')"
   ]
  },
  {
   "cell_type": "code",
   "execution_count": 7,
   "metadata": {},
   "outputs": [
    {
     "name": "stdout",
     "output_type": "stream",
     "text": [
      " Retrying in 1 seconds\n",
      "Step #0.00 (0ms ?*RT. ?UPS, TraCI: 18ms, vehicles TOT 0 ACT 0 BUF 0)                     \n",
      " Retrying in 1 seconds\n",
      "Using mps device\n",
      "Wrapping the env with a `Monitor` wrapper\n",
      "Wrapping the env in a DummyVecEnv.\n",
      "Step #0.00 (0ms ?*RT. ?UPS, TraCI: 80ms, vehicles TOT 0 ACT 0 BUF 0)                     \n",
      " Retrying in 1 seconds\n",
      "Step #1000.00 (0ms ?*RT. ?UPS, TraCI: 21ms, vehicles TOT 816 ACT 92 BUF 1246)              \n",
      " Retrying in 1 seconds\n",
      "Step #1000.00 (1ms ~= 1000.00*RT, ~94000.00UPS, TraCI: 21ms, vehicles TOT 894 ACT 94 BUF 11\n",
      " Retrying in 1 seconds\n",
      "Step #1000.00 (1ms ~= 1000.00*RT, ~91000.00UPS, TraCI: 21ms, vehicles TOT 844 ACT 91 BUF 11\n",
      " Retrying in 1 seconds\n",
      "Step #1000.00 (1ms ~= 1000.00*RT, ~96000.00UPS, TraCI: 20ms, vehicles TOT 906 ACT 96 BUF 11\n",
      " Retrying in 1 seconds\n",
      "----------------------------------\n",
      "| rollout/            |          |\n",
      "|    ep_len_mean      | 200      |\n",
      "|    ep_rew_mean      | -160     |\n",
      "|    exploration_rate | 0.018    |\n",
      "| time/               |          |\n",
      "|    episodes         | 4        |\n",
      "|    fps              | 27       |\n",
      "|    time_elapsed     | 29       |\n",
      "|    total_timesteps  | 800      |\n",
      "| train/              |          |\n",
      "|    learning_rate    | 0.001    |\n",
      "|    loss             | 0.0101   |\n",
      "|    n_updates        | 799      |\n",
      "----------------------------------\n",
      "Step #1000.00 (0ms ?*RT. ?UPS, TraCI: 22ms, vehicles TOT 913 ACT 94 BUF 1052)              \n",
      " Retrying in 1 seconds\n",
      "Step #1000.00 (0ms ?*RT. ?UPS, TraCI: 21ms, vehicles TOT 918 ACT 93 BUF 1100)              \n",
      " Retrying in 1 seconds\n",
      "Step #1000.00 (0ms ?*RT. ?UPS, TraCI: 21ms, vehicles TOT 909 ACT 91 BUF 1056)              \n",
      " Retrying in 1 seconds\n",
      "Step #1000.00 (0ms ?*RT. ?UPS, TraCI: 20ms, vehicles TOT 858 ACT 89 BUF 1178)              \n",
      " Retrying in 1 seconds\n",
      "----------------------------------\n",
      "| rollout/            |          |\n",
      "|    ep_len_mean      | 200      |\n",
      "|    ep_rew_mean      | -164     |\n",
      "|    exploration_rate | 0.01     |\n",
      "| time/               |          |\n",
      "|    episodes         | 8        |\n",
      "|    fps              | 27       |\n",
      "|    time_elapsed     | 57       |\n",
      "|    total_timesteps  | 1600     |\n",
      "| train/              |          |\n",
      "|    learning_rate    | 0.001    |\n",
      "|    loss             | 0.179    |\n",
      "|    n_updates        | 1599     |\n",
      "----------------------------------\n",
      "Step #1000.00 (0ms ?*RT. ?UPS, TraCI: 21ms, vehicles TOT 915 ACT 93 BUF 1028)              \n",
      " Retrying in 1 seconds\n",
      "Step #1000.00 (0ms ?*RT. ?UPS, TraCI: 20ms, vehicles TOT 896 ACT 91 BUF 1115)              \n",
      " Retrying in 1 seconds\n",
      "Step #1000.00 (1ms ~= 1000.00*RT, ~96000.00UPS, TraCI: 21ms, vehicles TOT 812 ACT 96 BUF 12\n",
      " Retrying in 1 seconds\n",
      "Step #1000.00 (1ms ~= 1000.00*RT, ~95000.00UPS, TraCI: 21ms, vehicles TOT 825 ACT 95 BUF 11\n",
      " Retrying in 1 seconds\n",
      "----------------------------------\n",
      "| rollout/            |          |\n",
      "|    ep_len_mean      | 200      |\n",
      "|    ep_rew_mean      | -165     |\n",
      "|    exploration_rate | 0.01     |\n",
      "| time/               |          |\n",
      "|    episodes         | 12       |\n",
      "|    fps              | 28       |\n",
      "|    time_elapsed     | 85       |\n",
      "|    total_timesteps  | 2400     |\n",
      "| train/              |          |\n",
      "|    learning_rate    | 0.001    |\n",
      "|    loss             | 0.157    |\n",
      "|    n_updates        | 2399     |\n",
      "----------------------------------\n",
      "Step #1000.00 (1ms ~= 1000.00*RT, ~97000.00UPS, TraCI: 30ms, vehicles TOT 849 ACT 97 BUF 11\n",
      " Retrying in 1 seconds\n",
      "Step #1000.00 (1ms ~= 1000.00*RT, ~93000.00UPS, TraCI: 21ms, vehicles TOT 891 ACT 93 BUF 11\n",
      " Retrying in 1 seconds\n",
      "Step #1000.00 (0ms ?*RT. ?UPS, TraCI: 21ms, vehicles TOT 894 ACT 95 BUF 1054)              \n",
      " Retrying in 1 seconds\n",
      "Step #1000.00 (1ms ~= 1000.00*RT, ~94000.00UPS, TraCI: 21ms, vehicles TOT 884 ACT 94 BUF 11\n",
      " Retrying in 1 seconds\n",
      "----------------------------------\n",
      "| rollout/            |          |\n",
      "|    ep_len_mean      | 200      |\n",
      "|    ep_rew_mean      | -165     |\n",
      "|    exploration_rate | 0.01     |\n",
      "| time/               |          |\n",
      "|    episodes         | 16       |\n",
      "|    fps              | 28       |\n",
      "|    time_elapsed     | 113      |\n",
      "|    total_timesteps  | 3200     |\n",
      "| train/              |          |\n",
      "|    learning_rate    | 0.001    |\n",
      "|    loss             | 0.187    |\n",
      "|    n_updates        | 3199     |\n",
      "----------------------------------\n",
      "Step #1000.00 (1ms ~= 1000.00*RT, ~94000.00UPS, TraCI: 20ms, vehicles TOT 917 ACT 94 BUF 10\n",
      " Retrying in 1 seconds\n",
      "Step #1000.00 (1ms ~= 1000.00*RT, ~95000.00UPS, TraCI: 21ms, vehicles TOT 912 ACT 95 BUF 11\n",
      " Retrying in 1 seconds\n",
      "Step #1000.00 (1ms ~= 1000.00*RT, ~96000.00UPS, TraCI: 22ms, vehicles TOT 909 ACT 96 BUF 10\n",
      " Retrying in 1 seconds\n",
      "Step #1000.00 (1ms ~= 1000.00*RT, ~96000.00UPS, TraCI: 21ms, vehicles TOT 911 ACT 96 BUF 10\n",
      " Retrying in 1 seconds\n",
      "----------------------------------\n",
      "| rollout/            |          |\n",
      "|    ep_len_mean      | 200      |\n",
      "|    ep_rew_mean      | -166     |\n",
      "|    exploration_rate | 0.01     |\n",
      "| time/               |          |\n",
      "|    episodes         | 20       |\n",
      "|    fps              | 28       |\n",
      "|    time_elapsed     | 141      |\n",
      "|    total_timesteps  | 4000     |\n",
      "| train/              |          |\n",
      "|    learning_rate    | 0.001    |\n",
      "|    loss             | 0.049    |\n",
      "|    n_updates        | 3999     |\n",
      "----------------------------------\n",
      "Step #1000.00 (0ms ?*RT. ?UPS, TraCI: 22ms, vehicles TOT 915 ACT 93 BUF 1166)              \n",
      " Retrying in 1 seconds\n",
      "Step #1000.00 (0ms ?*RT. ?UPS, TraCI: 21ms, vehicles TOT 903 ACT 91 BUF 1081)              \n",
      " Retrying in 1 seconds\n",
      "Step #1000.00 (1ms ~= 1000.00*RT, ~93000.00UPS, TraCI: 20ms, vehicles TOT 905 ACT 93 BUF 10\n",
      " Retrying in 1 seconds\n",
      "Step #1000.00 (1ms ~= 1000.00*RT, ~96000.00UPS, TraCI: 20ms, vehicles TOT 932 ACT 96 BUF 11\n",
      " Retrying in 1 seconds\n",
      "----------------------------------\n",
      "| rollout/            |          |\n",
      "|    ep_len_mean      | 200      |\n",
      "|    ep_rew_mean      | -166     |\n",
      "|    exploration_rate | 0.01     |\n",
      "| time/               |          |\n",
      "|    episodes         | 24       |\n",
      "|    fps              | 28       |\n",
      "|    time_elapsed     | 168      |\n",
      "|    total_timesteps  | 4800     |\n",
      "| train/              |          |\n",
      "|    learning_rate    | 0.001    |\n",
      "|    loss             | 0.105    |\n",
      "|    n_updates        | 4799     |\n",
      "----------------------------------\n",
      "Step #1000.00 (1ms ~= 1000.00*RT, ~90000.00UPS, TraCI: 24ms, vehicles TOT 926 ACT 90 BUF 10\n",
      " Retrying in 1 seconds\n",
      "Step #1000.00 (1ms ~= 1000.00*RT, ~93000.00UPS, TraCI: 21ms, vehicles TOT 801 ACT 93 BUF 11\n",
      " Retrying in 1 seconds\n",
      "Step #1000.00 (0ms ?*RT. ?UPS, TraCI: 22ms, vehicles TOT 788 ACT 94 BUF 1197)              \n",
      " Retrying in 1 seconds\n",
      "Step #1000.00 (1ms ~= 1000.00*RT, ~95000.00UPS, TraCI: 19ms, vehicles TOT 809 ACT 95 BUF 12\n",
      " Retrying in 1 seconds\n",
      "----------------------------------\n",
      "| rollout/            |          |\n",
      "|    ep_len_mean      | 200      |\n",
      "|    ep_rew_mean      | -167     |\n",
      "|    exploration_rate | 0.01     |\n",
      "| time/               |          |\n",
      "|    episodes         | 28       |\n",
      "|    fps              | 28       |\n",
      "|    time_elapsed     | 197      |\n",
      "|    total_timesteps  | 5600     |\n",
      "| train/              |          |\n",
      "|    learning_rate    | 0.001    |\n",
      "|    loss             | 0.00261  |\n",
      "|    n_updates        | 5599     |\n",
      "----------------------------------\n",
      "Step #1000.00 (1ms ~= 1000.00*RT, ~94000.00UPS, TraCI: 22ms, vehicles TOT 860 ACT 94 BUF 11\n",
      " Retrying in 1 seconds\n",
      "Step #1000.00 (1ms ~= 1000.00*RT, ~94000.00UPS, TraCI: 21ms, vehicles TOT 849 ACT 94 BUF 11\n",
      " Retrying in 1 seconds\n",
      "Step #1000.00 (1ms ~= 1000.00*RT, ~95000.00UPS, TraCI: 21ms, vehicles TOT 868 ACT 95 BUF 11\n",
      " Retrying in 1 seconds\n",
      "Step #1000.00 (0ms ?*RT. ?UPS, TraCI: 21ms, vehicles TOT 884 ACT 92 BUF 1070)              \n",
      " Retrying in 1 seconds\n",
      "----------------------------------\n",
      "| rollout/            |          |\n",
      "|    ep_len_mean      | 200      |\n",
      "|    ep_rew_mean      | -167     |\n",
      "|    exploration_rate | 0.01     |\n",
      "| time/               |          |\n",
      "|    episodes         | 32       |\n",
      "|    fps              | 28       |\n",
      "|    time_elapsed     | 225      |\n",
      "|    total_timesteps  | 6400     |\n",
      "| train/              |          |\n",
      "|    learning_rate    | 0.001    |\n",
      "|    loss             | 0.0224   |\n",
      "|    n_updates        | 6399     |\n",
      "----------------------------------\n",
      "Step #1000.00 (1ms ~= 1000.00*RT, ~94000.00UPS, TraCI: 22ms, vehicles TOT 838 ACT 94 BUF 11\n",
      " Retrying in 1 seconds\n",
      "Step #1000.00 (1ms ~= 1000.00*RT, ~95000.00UPS, TraCI: 22ms, vehicles TOT 792 ACT 95 BUF 11\n",
      " Retrying in 1 seconds\n",
      "Step #1000.00 (1ms ~= 1000.00*RT, ~96000.00UPS, TraCI: 21ms, vehicles TOT 810 ACT 96 BUF 11\n",
      " Retrying in 1 seconds\n",
      "Step #1000.00 (1ms ~= 1000.00*RT, ~91000.00UPS, TraCI: 20ms, vehicles TOT 892 ACT 91 BUF 11\n",
      " Retrying in 1 seconds\n",
      "----------------------------------\n",
      "| rollout/            |          |\n",
      "|    ep_len_mean      | 200      |\n",
      "|    ep_rew_mean      | -167     |\n",
      "|    exploration_rate | 0.01     |\n",
      "| time/               |          |\n",
      "|    episodes         | 36       |\n",
      "|    fps              | 28       |\n",
      "|    time_elapsed     | 252      |\n",
      "|    total_timesteps  | 7200     |\n",
      "| train/              |          |\n",
      "|    learning_rate    | 0.001    |\n",
      "|    loss             | 0.0235   |\n",
      "|    n_updates        | 7199     |\n",
      "----------------------------------\n",
      "Step #1000.00 (1ms ~= 1000.00*RT, ~94000.00UPS, TraCI: 20ms, vehicles TOT 910 ACT 94 BUF 11\n",
      " Retrying in 1 seconds\n",
      "Step #1000.00 (1ms ~= 1000.00*RT, ~95000.00UPS, TraCI: 20ms, vehicles TOT 903 ACT 95 BUF 10\n",
      " Retrying in 1 seconds\n",
      "Step #1000.00 (0ms ?*RT. ?UPS, TraCI: 21ms, vehicles TOT 879 ACT 94 BUF 1113)              \n",
      " Retrying in 1 seconds\n",
      "Step #1000.00 (1ms ~= 1000.00*RT, ~91000.00UPS, TraCI: 21ms, vehicles TOT 889 ACT 91 BUF 11\n",
      " Retrying in 1 seconds\n",
      "----------------------------------\n",
      "| rollout/            |          |\n",
      "|    ep_len_mean      | 200      |\n",
      "|    ep_rew_mean      | -167     |\n",
      "|    exploration_rate | 0.01     |\n",
      "| time/               |          |\n",
      "|    episodes         | 40       |\n",
      "|    fps              | 28       |\n",
      "|    time_elapsed     | 280      |\n",
      "|    total_timesteps  | 8000     |\n",
      "| train/              |          |\n",
      "|    learning_rate    | 0.001    |\n",
      "|    loss             | 0.0121   |\n",
      "|    n_updates        | 7999     |\n",
      "----------------------------------\n",
      "Step #1000.00 (0ms ?*RT. ?UPS, TraCI: 21ms, vehicles TOT 910 ACT 98 BUF 1109)              \n",
      " Retrying in 1 seconds\n",
      "Step #1000.00 (1ms ~= 1000.00*RT, ~95000.00UPS, TraCI: 21ms, vehicles TOT 929 ACT 95 BUF 10\n",
      " Retrying in 1 seconds\n",
      "Step #1000.00 (1ms ~= 1000.00*RT, ~95000.00UPS, TraCI: 20ms, vehicles TOT 899 ACT 95 BUF 10\n",
      " Retrying in 1 seconds\n",
      "Step #1000.00 (1ms ~= 1000.00*RT, ~97000.00UPS, TraCI: 21ms, vehicles TOT 830 ACT 97 BUF 11\n",
      " Retrying in 1 seconds\n",
      "----------------------------------\n",
      "| rollout/            |          |\n",
      "|    ep_len_mean      | 200      |\n",
      "|    ep_rew_mean      | -167     |\n",
      "|    exploration_rate | 0.01     |\n",
      "| time/               |          |\n",
      "|    episodes         | 44       |\n",
      "|    fps              | 28       |\n",
      "|    time_elapsed     | 308      |\n",
      "|    total_timesteps  | 8800     |\n",
      "| train/              |          |\n",
      "|    learning_rate    | 0.001    |\n",
      "|    loss             | 0.0801   |\n",
      "|    n_updates        | 8799     |\n",
      "----------------------------------\n",
      "Step #1000.00 (1ms ~= 1000.00*RT, ~100000.00UPS, TraCI: 21ms, vehicles TOT 848 ACT 100 BUF \n",
      " Retrying in 1 seconds\n",
      "Step #1000.00 (1ms ~= 1000.00*RT, ~92000.00UPS, TraCI: 20ms, vehicles TOT 926 ACT 92 BUF 10\n",
      " Retrying in 1 seconds\n",
      "Step #1000.00 (1ms ~= 1000.00*RT, ~96000.00UPS, TraCI: 21ms, vehicles TOT 906 ACT 96 BUF 11\n",
      " Retrying in 1 seconds\n",
      "Step #1000.00 (0ms ?*RT. ?UPS, TraCI: 21ms, vehicles TOT 908 ACT 97 BUF 1008)              \n",
      " Retrying in 1 seconds\n",
      "----------------------------------\n",
      "| rollout/            |          |\n",
      "|    ep_len_mean      | 200      |\n",
      "|    ep_rew_mean      | -167     |\n",
      "|    exploration_rate | 0.01     |\n",
      "| time/               |          |\n",
      "|    episodes         | 48       |\n",
      "|    fps              | 28       |\n",
      "|    time_elapsed     | 335      |\n",
      "|    total_timesteps  | 9600     |\n",
      "| train/              |          |\n",
      "|    learning_rate    | 0.001    |\n",
      "|    loss             | 0.307    |\n",
      "|    n_updates        | 9599     |\n",
      "----------------------------------\n",
      "Step #1000.00 (0ms ?*RT. ?UPS, TraCI: 20ms, vehicles TOT 932 ACT 92 BUF 1074)              \n",
      " Retrying in 1 seconds\n",
      "Step #1000.00 (0ms ?*RT. ?UPS, TraCI: 20ms, vehicles TOT 916 ACT 91 BUF 1073)              \n",
      " Retrying in 1 seconds\n"
     ]
    }
   ],
   "source": [
    "train_DQN('2x2grid/2x2o5')"
   ]
  },
  {
   "cell_type": "code",
   "execution_count": 11,
   "metadata": {},
   "outputs": [
    {
     "name": "stdout",
     "output_type": "stream",
     "text": [
      " Retrying in 1 seconds\n",
      "Step #0.00 (0ms ?*RT. ?UPS, TraCI: 14ms, vehicles TOT 0 ACT 0 BUF 0)                     \n",
      " Retrying in 1 seconds\n",
      "Using mps device\n",
      "Wrapping the env with a `Monitor` wrapper\n",
      "Wrapping the env in a DummyVecEnv.\n",
      "Step #0.00 (0ms ?*RT. ?UPS, TraCI: 85ms, vehicles TOT 0 ACT 0 BUF 0)                     \n",
      " Retrying in 1 seconds\n",
      "Step #1000.00 (0ms ?*RT. ?UPS, TraCI: 22ms, vehicles TOT 707 ACT 90 BUF 666)               \n",
      " Retrying in 1 seconds\n",
      "Step #1000.00 (1ms ~= 1000.00*RT, ~93000.00UPS, TraCI: 20ms, vehicles TOT 707 ACT 93 BUF 71\n",
      " Retrying in 1 seconds\n",
      "Step #1000.00 (1ms ~= 1000.00*RT, ~86000.00UPS, TraCI: 19ms, vehicles TOT 708 ACT 86 BUF 62\n",
      " Retrying in 1 seconds\n",
      "Step #1000.00 (0ms ?*RT. ?UPS, TraCI: 19ms, vehicles TOT 739 ACT 83 BUF 648)               \n",
      " Retrying in 1 seconds\n",
      "----------------------------------\n",
      "| rollout/            |          |\n",
      "|    ep_len_mean      | 200      |\n",
      "|    ep_rew_mean      | -162     |\n",
      "|    exploration_rate | 0.018    |\n",
      "| time/               |          |\n",
      "|    episodes         | 4        |\n",
      "|    fps              | 28       |\n",
      "|    time_elapsed     | 28       |\n",
      "|    total_timesteps  | 800      |\n",
      "| train/              |          |\n",
      "|    learning_rate    | 0.001    |\n",
      "|    loss             | 0.0274   |\n",
      "|    n_updates        | 799      |\n",
      "----------------------------------\n",
      "Step #1000.00 (0ms ?*RT. ?UPS, TraCI: 21ms, vehicles TOT 763 ACT 86 BUF 629)               \n",
      " Retrying in 1 seconds\n",
      "Step #1000.00 (1ms ~= 1000.00*RT, ~86000.00UPS, TraCI: 22ms, vehicles TOT 764 ACT 86 BUF 63\n",
      " Retrying in 1 seconds\n",
      "Step #1000.00 (0ms ?*RT. ?UPS, TraCI: 21ms, vehicles TOT 719 ACT 89 BUF 640)               \n",
      " Retrying in 1 seconds\n",
      "Step #1000.00 (0ms ?*RT. ?UPS, TraCI: 19ms, vehicles TOT 754 ACT 83 BUF 682)               \n",
      " Retrying in 1 seconds\n",
      "----------------------------------\n",
      "| rollout/            |          |\n",
      "|    ep_len_mean      | 200      |\n",
      "|    ep_rew_mean      | -164     |\n",
      "|    exploration_rate | 0.01     |\n",
      "| time/               |          |\n",
      "|    episodes         | 8        |\n",
      "|    fps              | 29       |\n",
      "|    time_elapsed     | 54       |\n",
      "|    total_timesteps  | 1600     |\n",
      "| train/              |          |\n",
      "|    learning_rate    | 0.001    |\n",
      "|    loss             | 0.155    |\n",
      "|    n_updates        | 1599     |\n",
      "----------------------------------\n",
      "Step #1000.00 (1ms ~= 1000.00*RT, ~76000.00UPS, TraCI: 19ms, vehicles TOT 736 ACT 76 BUF 69\n",
      " Retrying in 1 seconds\n",
      "Step #1000.00 (1ms ~= 1000.00*RT, ~84000.00UPS, TraCI: 19ms, vehicles TOT 759 ACT 84 BUF 63\n",
      " Retrying in 1 seconds\n",
      "Step #1000.00 (1ms ~= 1000.00*RT, ~90000.00UPS, TraCI: 20ms, vehicles TOT 761 ACT 90 BUF 68\n",
      " Retrying in 1 seconds\n",
      "Step #1000.00 (0ms ?*RT. ?UPS, TraCI: 20ms, vehicles TOT 809 ACT 87 BUF 645)               \n",
      " Retrying in 1 seconds\n",
      "----------------------------------\n",
      "| rollout/            |          |\n",
      "|    ep_len_mean      | 200      |\n",
      "|    ep_rew_mean      | -165     |\n",
      "|    exploration_rate | 0.01     |\n",
      "| time/               |          |\n",
      "|    episodes         | 12       |\n",
      "|    fps              | 29       |\n",
      "|    time_elapsed     | 81       |\n",
      "|    total_timesteps  | 2400     |\n",
      "| train/              |          |\n",
      "|    learning_rate    | 0.001    |\n",
      "|    loss             | 0.0084   |\n",
      "|    n_updates        | 2399     |\n",
      "----------------------------------\n",
      "Step #1000.00 (0ms ?*RT. ?UPS, TraCI: 21ms, vehicles TOT 771 ACT 90 BUF 656)               \n",
      " Retrying in 1 seconds\n",
      "Step #1000.00 (1ms ~= 1000.00*RT, ~84000.00UPS, TraCI: 19ms, vehicles TOT 748 ACT 84 BUF 63\n",
      " Retrying in 1 seconds\n",
      "Step #1000.00 (0ms ?*RT. ?UPS, TraCI: 20ms, vehicles TOT 773 ACT 89 BUF 632)               \n",
      " Retrying in 1 seconds\n",
      "Step #1000.00 (1ms ~= 1000.00*RT, ~91000.00UPS, TraCI: 20ms, vehicles TOT 779 ACT 91 BUF 68\n",
      " Retrying in 1 seconds\n",
      "----------------------------------\n",
      "| rollout/            |          |\n",
      "|    ep_len_mean      | 200      |\n",
      "|    ep_rew_mean      | -166     |\n",
      "|    exploration_rate | 0.01     |\n",
      "| time/               |          |\n",
      "|    episodes         | 16       |\n",
      "|    fps              | 29       |\n",
      "|    time_elapsed     | 107      |\n",
      "|    total_timesteps  | 3200     |\n",
      "| train/              |          |\n",
      "|    learning_rate    | 0.001    |\n",
      "|    loss             | 0.0403   |\n",
      "|    n_updates        | 3199     |\n",
      "----------------------------------\n",
      "Step #1000.00 (0ms ?*RT. ?UPS, TraCI: 40ms, vehicles TOT 738 ACT 82 BUF 693)               \n",
      " Retrying in 1 seconds\n",
      "Step #1000.00 (0ms ?*RT. ?UPS, TraCI: 19ms, vehicles TOT 731 ACT 82 BUF 659)               \n",
      " Retrying in 1 seconds\n",
      "Step #1000.00 (0ms ?*RT. ?UPS, TraCI: 21ms, vehicles TOT 739 ACT 92 BUF 667)               \n",
      " Retrying in 1 seconds\n",
      "Step #1000.00 (0ms ?*RT. ?UPS, TraCI: 20ms, vehicles TOT 730 ACT 83 BUF 654)               \n",
      " Retrying in 1 seconds\n",
      "----------------------------------\n",
      "| rollout/            |          |\n",
      "|    ep_len_mean      | 200      |\n",
      "|    ep_rew_mean      | -166     |\n",
      "|    exploration_rate | 0.01     |\n",
      "| time/               |          |\n",
      "|    episodes         | 20       |\n",
      "|    fps              | 29       |\n",
      "|    time_elapsed     | 133      |\n",
      "|    total_timesteps  | 4000     |\n",
      "| train/              |          |\n",
      "|    learning_rate    | 0.001    |\n",
      "|    loss             | 0.0358   |\n",
      "|    n_updates        | 3999     |\n",
      "----------------------------------\n",
      "Step #1000.00 (0ms ?*RT. ?UPS, TraCI: 20ms, vehicles TOT 744 ACT 84 BUF 639)               \n",
      " Retrying in 1 seconds\n",
      "Step #1000.00 (0ms ?*RT. ?UPS, TraCI: 19ms, vehicles TOT 747 ACT 85 BUF 676)               \n",
      " Retrying in 1 seconds\n",
      "Step #1000.00 (0ms ?*RT. ?UPS, TraCI: 20ms, vehicles TOT 721 ACT 85 BUF 634)               \n",
      " Retrying in 1 seconds\n",
      "Step #1000.00 (1ms ~= 1000.00*RT, ~82000.00UPS, TraCI: 18ms, vehicles TOT 762 ACT 82 BUF 61\n",
      " Retrying in 1 seconds\n",
      "----------------------------------\n",
      "| rollout/            |          |\n",
      "|    ep_len_mean      | 200      |\n",
      "|    ep_rew_mean      | -166     |\n",
      "|    exploration_rate | 0.01     |\n",
      "| time/               |          |\n",
      "|    episodes         | 24       |\n",
      "|    fps              | 29       |\n",
      "|    time_elapsed     | 160      |\n",
      "|    total_timesteps  | 4800     |\n",
      "| train/              |          |\n",
      "|    learning_rate    | 0.001    |\n",
      "|    loss             | 0.0387   |\n",
      "|    n_updates        | 4799     |\n",
      "----------------------------------\n",
      "Step #1000.00 (1ms ~= 1000.00*RT, ~86000.00UPS, TraCI: 17ms, vehicles TOT 738 ACT 86 BUF 63\n",
      " Retrying in 1 seconds\n",
      "Step #1000.00 (0ms ?*RT. ?UPS, TraCI: 20ms, vehicles TOT 726 ACT 86 BUF 613)               \n",
      " Retrying in 1 seconds\n",
      "Step #1000.00 (0ms ?*RT. ?UPS, TraCI: 20ms, vehicles TOT 690 ACT 89 BUF 687)               \n",
      " Retrying in 1 seconds\n",
      "Step #1000.00 (0ms ?*RT. ?UPS, TraCI: 19ms, vehicles TOT 744 ACT 86 BUF 642)               \n",
      " Retrying in 1 seconds\n",
      "----------------------------------\n",
      "| rollout/            |          |\n",
      "|    ep_len_mean      | 200      |\n",
      "|    ep_rew_mean      | -166     |\n",
      "|    exploration_rate | 0.01     |\n",
      "| time/               |          |\n",
      "|    episodes         | 28       |\n",
      "|    fps              | 29       |\n",
      "|    time_elapsed     | 187      |\n",
      "|    total_timesteps  | 5600     |\n",
      "| train/              |          |\n",
      "|    learning_rate    | 0.001    |\n",
      "|    loss             | 0.0198   |\n",
      "|    n_updates        | 5599     |\n",
      "----------------------------------\n",
      "Step #1000.00 (1ms ~= 1000.00*RT, ~80000.00UPS, TraCI: 19ms, vehicles TOT 714 ACT 80 BUF 66\n",
      " Retrying in 1 seconds\n",
      "Step #1000.00 (0ms ?*RT. ?UPS, TraCI: 20ms, vehicles TOT 756 ACT 93 BUF 670)               \n",
      " Retrying in 1 seconds\n",
      "Step #1000.00 (0ms ?*RT. ?UPS, TraCI: 18ms, vehicles TOT 797 ACT 75 BUF 669)               \n",
      " Retrying in 1 seconds\n",
      "Step #1000.00 (1ms ~= 1000.00*RT, ~84000.00UPS, TraCI: 20ms, vehicles TOT 723 ACT 84 BUF 62\n",
      " Retrying in 1 seconds\n",
      "----------------------------------\n",
      "| rollout/            |          |\n",
      "|    ep_len_mean      | 200      |\n",
      "|    ep_rew_mean      | -165     |\n",
      "|    exploration_rate | 0.01     |\n",
      "| time/               |          |\n",
      "|    episodes         | 32       |\n",
      "|    fps              | 29       |\n",
      "|    time_elapsed     | 213      |\n",
      "|    total_timesteps  | 6400     |\n",
      "| train/              |          |\n",
      "|    learning_rate    | 0.001    |\n",
      "|    loss             | 0.0375   |\n",
      "|    n_updates        | 6399     |\n",
      "----------------------------------\n",
      "Step #1000.00 (0ms ?*RT. ?UPS, TraCI: 20ms, vehicles TOT 770 ACT 94 BUF 631)               \n",
      " Retrying in 1 seconds\n",
      "Step #1000.00 (0ms ?*RT. ?UPS, TraCI: 19ms, vehicles TOT 777 ACT 86 BUF 642)               \n",
      " Retrying in 1 seconds\n",
      "Step #1000.00 (1ms ~= 1000.00*RT, ~83000.00UPS, TraCI: 19ms, vehicles TOT 741 ACT 83 BUF 62\n",
      " Retrying in 1 seconds\n",
      "Step #1000.00 (1ms ~= 1000.00*RT, ~85000.00UPS, TraCI: 19ms, vehicles TOT 748 ACT 85 BUF 65\n",
      " Retrying in 1 seconds\n",
      "----------------------------------\n",
      "| rollout/            |          |\n",
      "|    ep_len_mean      | 200      |\n",
      "|    ep_rew_mean      | -166     |\n",
      "|    exploration_rate | 0.01     |\n",
      "| time/               |          |\n",
      "|    episodes         | 36       |\n",
      "|    fps              | 30       |\n",
      "|    time_elapsed     | 239      |\n",
      "|    total_timesteps  | 7200     |\n",
      "| train/              |          |\n",
      "|    learning_rate    | 0.001    |\n",
      "|    loss             | 0.0575   |\n",
      "|    n_updates        | 7199     |\n",
      "----------------------------------\n",
      "Step #1000.00 (0ms ?*RT. ?UPS, TraCI: 21ms, vehicles TOT 737 ACT 90 BUF 645)               \n",
      " Retrying in 1 seconds\n",
      "Step #1000.00 (0ms ?*RT. ?UPS, TraCI: 19ms, vehicles TOT 763 ACT 79 BUF 636)               \n",
      " Retrying in 1 seconds\n",
      "Step #1000.00 (0ms ?*RT. ?UPS, TraCI: 19ms, vehicles TOT 762 ACT 83 BUF 649)               \n",
      " Retrying in 1 seconds\n",
      "Step #1000.00 (1ms ~= 1000.00*RT, ~83000.00UPS, TraCI: 19ms, vehicles TOT 757 ACT 83 BUF 65\n",
      " Retrying in 1 seconds\n",
      "----------------------------------\n",
      "| rollout/            |          |\n",
      "|    ep_len_mean      | 200      |\n",
      "|    ep_rew_mean      | -166     |\n",
      "|    exploration_rate | 0.01     |\n",
      "| time/               |          |\n",
      "|    episodes         | 40       |\n",
      "|    fps              | 30       |\n",
      "|    time_elapsed     | 265      |\n",
      "|    total_timesteps  | 8000     |\n",
      "| train/              |          |\n",
      "|    learning_rate    | 0.001    |\n",
      "|    loss             | 0.0126   |\n",
      "|    n_updates        | 7999     |\n",
      "----------------------------------\n",
      "Step #1000.00 (1ms ~= 1000.00*RT, ~88000.00UPS, TraCI: 19ms, vehicles TOT 789 ACT 88 BUF 61\n",
      " Retrying in 1 seconds\n",
      "Step #1000.00 (1ms ~= 1000.00*RT, ~90000.00UPS, TraCI: 22ms, vehicles TOT 751 ACT 90 BUF 66\n",
      " Retrying in 1 seconds\n",
      "Step #1000.00 (0ms ?*RT. ?UPS, TraCI: 21ms, vehicles TOT 726 ACT 82 BUF 648)               \n",
      " Retrying in 1 seconds\n",
      "Step #1000.00 (1ms ~= 1000.00*RT, ~89000.00UPS, TraCI: 21ms, vehicles TOT 738 ACT 89 BUF 62\n",
      " Retrying in 1 seconds\n",
      "----------------------------------\n",
      "| rollout/            |          |\n",
      "|    ep_len_mean      | 200      |\n",
      "|    ep_rew_mean      | -166     |\n",
      "|    exploration_rate | 0.01     |\n",
      "| time/               |          |\n",
      "|    episodes         | 44       |\n",
      "|    fps              | 30       |\n",
      "|    time_elapsed     | 292      |\n",
      "|    total_timesteps  | 8800     |\n",
      "| train/              |          |\n",
      "|    learning_rate    | 0.001    |\n",
      "|    loss             | 0.0433   |\n",
      "|    n_updates        | 8799     |\n",
      "----------------------------------\n",
      "Step #1000.00 (1ms ~= 1000.00*RT, ~90000.00UPS, TraCI: 19ms, vehicles TOT 739 ACT 90 BUF 67\n",
      " Retrying in 1 seconds\n",
      "Step #1000.00 (0ms ?*RT. ?UPS, TraCI: 21ms, vehicles TOT 809 ACT 92 BUF 628)               \n",
      " Retrying in 1 seconds\n",
      "Step #1000.00 (1ms ~= 1000.00*RT, ~87000.00UPS, TraCI: 19ms, vehicles TOT 757 ACT 87 BUF 67\n",
      " Retrying in 1 seconds\n",
      "Step #1000.00 (1ms ~= 1000.00*RT, ~82000.00UPS, TraCI: 19ms, vehicles TOT 764 ACT 82 BUF 61\n",
      " Retrying in 1 seconds\n",
      "----------------------------------\n",
      "| rollout/            |          |\n",
      "|    ep_len_mean      | 200      |\n",
      "|    ep_rew_mean      | -166     |\n",
      "|    exploration_rate | 0.01     |\n",
      "| time/               |          |\n",
      "|    episodes         | 48       |\n",
      "|    fps              | 30       |\n",
      "|    time_elapsed     | 318      |\n",
      "|    total_timesteps  | 9600     |\n",
      "| train/              |          |\n",
      "|    learning_rate    | 0.001    |\n",
      "|    loss             | 0.00236  |\n",
      "|    n_updates        | 9599     |\n",
      "----------------------------------\n",
      "Step #1000.00 (0ms ?*RT. ?UPS, TraCI: 20ms, vehicles TOT 740 ACT 84 BUF 618)               \n",
      " Retrying in 1 seconds\n",
      "Step #1000.00 (1ms ~= 1000.00*RT, ~83000.00UPS, TraCI: 18ms, vehicles TOT 749 ACT 83 BUF 65\n",
      " Retrying in 1 seconds\n"
     ]
    }
   ],
   "source": [
    "train_DQN('2x2grid/2x2o35')"
   ]
  },
  {
   "cell_type": "code",
   "execution_count": 12,
   "metadata": {},
   "outputs": [],
   "source": [
    "experts = {\n",
    "    0.1 : './dqn_2x2o1.pth',\n",
    "    0.2 : './dqn_2x2o2.pth',\n",
    "    0.5 : './dqn_2x2o5.pth',\n",
    "    0.7 : './dqn_2x2o7.pth',\n",
    "}"
   ]
  },
  {
   "cell_type": "code",
   "execution_count": 13,
   "metadata": {},
   "outputs": [],
   "source": [
    "modelo1 = DQN.load(experts[0.1])"
   ]
  },
  {
   "cell_type": "code",
   "execution_count": null,
   "metadata": {},
   "outputs": [],
   "source": []
  },
  {
   "cell_type": "code",
   "execution_count": 15,
   "metadata": {},
   "outputs": [
    {
     "name": "stdout",
     "output_type": "stream",
     "text": [
      " Retrying in 1 seconds\n"
     ]
    },
    {
     "name": "stderr",
     "output_type": "stream",
     "text": [
      "Fontconfig error: Cannot load default config file: No such file: (null)\n"
     ]
    }
   ],
   "source": [
    "obs, info = sumo_env.reset()"
   ]
  },
  {
   "cell_type": "code",
   "execution_count": null,
   "metadata": {},
   "outputs": [
    {
     "data": {
      "text/plain": [
       "(array(3), None)"
      ]
     },
     "execution_count": 18,
     "metadata": {},
     "output_type": "execute_result"
    }
   ],
   "source": [
    "with torch.no_grad():\n",
    "    action, meta = modelo1.predict(obs)\n",
    "obs, "
   ]
  },
  {
   "cell_type": "code",
   "execution_count": 21,
   "metadata": {},
   "outputs": [
    {
     "data": {
      "text/plain": [
       "(array([1.        , 0.        , 0.        , 0.        , 0.        ,\n",
       "        0.        , 0.        , 0.        , 0.        , 0.        ,\n",
       "        0.        , 0.05283551, 0.        , 0.        , 0.        ,\n",
       "        0.        , 0.        , 0.        , 0.        , 0.        ,\n",
       "        0.        ], dtype=float32),\n",
       " 0.0,\n",
       " False,\n",
       " False,\n",
       " {'step': 5.0,\n",
       "  'system_total_stopped': 0,\n",
       "  'system_total_waiting_time': 0.0,\n",
       "  'system_mean_waiting_time': 0.0,\n",
       "  'system_mean_speed': 13.183638617576841,\n",
       "  '1_stopped': 0,\n",
       "  '1_accumulated_waiting_time': 0.0,\n",
       "  '1_average_speed': 0.9112159981573043,\n",
       "  '2_stopped': 0,\n",
       "  '2_accumulated_waiting_time': 0.0,\n",
       "  '2_average_speed': 0.961186405470471,\n",
       "  '5_stopped': 0,\n",
       "  '5_accumulated_waiting_time': 0.0,\n",
       "  '5_average_speed': 0.9680257818334765,\n",
       "  '6_stopped': 0,\n",
       "  '6_accumulated_waiting_time': 0.0,\n",
       "  '6_average_speed': 1.0,\n",
       "  'agents_total_stopped': 0,\n",
       "  'agents_total_accumulated_waiting_time': 0.0})"
      ]
     },
     "execution_count": 21,
     "metadata": {},
     "output_type": "execute_result"
    }
   ],
   "source": [
    "sumo_env.step(action[0])"
   ]
  },
  {
   "cell_type": "code",
   "execution_count": null,
   "metadata": {},
   "outputs": [],
   "source": [
    "# obs = env.reset()\n",
    "#     total_reward = 0\n",
    "#     for _ in range(1000):  # Simulate 1000 steps\n",
    "#         action, _states = model.predict(obs, deterministic=True)\n",
    "#         obs, reward, done, info = env.step(action)\n",
    "#         total_reward += reward\n",
    "#         if done:\n",
    "#             break"
   ]
  },
  {
   "cell_type": "code",
   "execution_count": 24,
   "metadata": {},
   "outputs": [],
   "source": [
    "def eval_DQN(route_context, max_iter = 1000):\n",
    "    route = route_context.split('/')[1]\n",
    "    sumo_env = SumoEnvironment(\n",
    "        net_file=EnvConfig.net_file, \n",
    "        route_file=f'./nets/{route_context}.rou.xml', \n",
    "        out_csv_name=f'./outputs/{route}/out', \n",
    "        single_agent = EnvConfig.single_agent,\n",
    "        use_gui=EnvConfig.use_gui,\n",
    "        num_seconds=EnvConfig.num_seconds\n",
    "    )\n",
    "    model = DQN.load(f'./dqn_{route}.pth')\n",
    "    obs, info = sumo_env.reset()\n",
    "    total_reward = 0\n",
    "    info_dump = []\n",
    "    for _ in range(max_iter):\n",
    "        with torch.no_grad():\n",
    "            action, meta = model.predict(obs)\n",
    "        obs, reward, done, trunc, info = sumo_env.step(action)\n",
    "        total_reward += reward\n",
    "        info_dump.append(info)\n",
    "        if done:\n",
    "            break\n",
    "    return total_reward, info_dump"
   ]
  },
  {
   "cell_type": "code",
   "execution_count": 25,
   "metadata": {},
   "outputs": [
    {
     "name": "stdout",
     "output_type": "stream",
     "text": [
      " Retrying in 1 seconds\n",
      "Step #0.00 (0ms ?*RT. ?UPS, TraCI: 16ms, vehicles TOT 0 ACT 0 BUF 0)                     \n",
      " Retrying in 1 seconds\n"
     ]
    }
   ],
   "source": [
    "rewo1, info_01 = eval_DQN('2x2grid/2x2o1')"
   ]
  },
  {
   "cell_type": "code",
   "execution_count": 26,
   "metadata": {},
   "outputs": [
    {
     "data": {
      "text/plain": [
       "-540.0"
      ]
     },
     "execution_count": 26,
     "metadata": {},
     "output_type": "execute_result"
    }
   ],
   "source": [
    "rewo1"
   ]
  },
  {
   "cell_type": "code",
   "execution_count": null,
   "metadata": {},
   "outputs": [],
   "source": []
  }
 ],
 "metadata": {
  "kernelspec": {
   "display_name": ".venv",
   "language": "python",
   "name": "python3"
  },
  "language_info": {
   "codemirror_mode": {
    "name": "ipython",
    "version": 3
   },
   "file_extension": ".py",
   "mimetype": "text/x-python",
   "name": "python",
   "nbconvert_exporter": "python",
   "pygments_lexer": "ipython3",
   "version": "3.9.6"
  }
 },
 "nbformat": 4,
 "nbformat_minor": 2
}
